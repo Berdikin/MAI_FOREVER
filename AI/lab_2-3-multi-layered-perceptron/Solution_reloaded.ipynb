{
 "cells": [
  {
   "cell_type": "markdown",
   "id": "ea7443b7",
   "metadata": {},
   "source": [
    "## Лабораторная работа по курсу \"Искусственный интеллект\"\n",
    "\n",
    "## Многослойный персептрон\n",
    "|Студент| Бердикин Тимофей |\n",
    "|:-----:|:-:|\n",
    "|Группа|М8О-307Б-18|\n",
    "|Вариант| 1 |\n",
    "|Фреймворк| PyTorch |\n"
   ]
  },
  {
   "cell_type": "code",
   "execution_count": 1,
   "id": "d2b70f7d",
   "metadata": {
    "scrolled": false
   },
   "outputs": [],
   "source": [
    "import pickle\n",
    "import torch\n",
    "import matplotlib.pyplot as plt\n",
    "import numpy as np"
   ]
  },
  {
   "cell_type": "markdown",
   "id": "f2bf92c3",
   "metadata": {},
   "source": [
    "Функции для анализа датасетов"
   ]
  },
  {
   "cell_type": "code",
   "execution_count": 2,
   "id": "44be20cd",
   "metadata": {},
   "outputs": [],
   "source": [
    "def visualization_of_counts(df):\n",
    "    counts = count_of_keys(df)\n",
    "    plt.ylabel(\"Кол-во элементов в классе\")\n",
    "    plt.xlabel(\"Номер каждого класса\")\n",
    "    plt.bar(np.arange(len(counts)), counts)\n",
    "    plt.xticks(np.arange(len(counts)), [i for i in range(len(counts))])\n",
    "def count_of_keys(df):\n",
    "    unique = np.unique(df)\n",
    "    counts = np.zeros(len(unique), dtype=np.int32)\n",
    "    for v in df:\n",
    "        counts[v] += 1\n",
    "    return counts\n",
    "def analyze(labels, features, string :str):\n",
    "    visualization_of_counts(labels)\n",
    "    print(\"Данные для [{}]\".format(string))\n",
    "    print(\"Кол-во элементов в датасете : {}\".format(len(labels)))\n",
    "    print(\"Кол-во атрибутов в элементе : {}\".format(len(features[0])))\n",
    "    print(\"Мин. значение атрибута   : {}\".format(np.min(features)))\n",
    "    print(\"Макс. значение атрибута  : {}\".format(np.max(features)))\n",
    "    print()"
   ]
  },
  {
   "cell_type": "markdown",
   "id": "9e89f837",
   "metadata": {},
   "source": [
    "### Готовим датасеты\n",
    "\n",
    "#### MNIST"
   ]
  },
  {
   "cell_type": "code",
   "execution_count": 3,
   "id": "142b3076",
   "metadata": {},
   "outputs": [],
   "source": [
    "from sklearn.model_selection import train_test_split\n",
    "import numpy as np\n",
    "with open('mnist.pkl', 'rb') as mnist_pickle:\n",
    "    MNIST = pickle.load(mnist_pickle)"
   ]
  },
  {
   "cell_type": "code",
   "execution_count": 4,
   "id": "deb743a6",
   "metadata": {
    "scrolled": false
   },
   "outputs": [
    {
     "name": "stdout",
     "output_type": "stream",
     "text": [
      "Данные для [MNIST]\n",
      "Кол-во элементов в датасете : 42000\n",
      "Кол-во атрибутов в элементе : 784\n",
      "Мин. значение атрибута   : 0\n",
      "Макс. значение атрибута  : 255\n",
      "\n",
      "Данные для [Обучающая выборка из MNIST]\n",
      "Кол-во элементов в датасете : 33600\n",
      "Кол-во атрибутов в элементе : 784\n",
      "Мин. значение атрибута   : 0.0\n",
      "Макс. значение атрибута  : 1.0\n",
      "\n",
      "Данные для [Тестировочная выборка из MNIST]\n",
      "Кол-во элементов в датасете : 8400\n",
      "Кол-во атрибутов в элементе : 784\n",
      "Мин. значение атрибута   : 0.0\n",
      "Макс. значение атрибута  : 1.0\n",
      "\n"
     ]
    },
    {
     "data": {
      "image/png": "[encoded data removed]",
      "text/plain": [
       "<Figure size 432x288 with 1 Axes>"
      ]
     },
     "metadata": {
      "needs_background": "light"
     },
     "output_type": "display_data"
    }
   ],
   "source": [
    "def conv_df(df):\n",
    "    return np.array(df).astype(np.float32)/255\n",
    "\n",
    "analyze(MNIST['Train']['Labels'], MNIST['Train']['Features'], \"MNIST\")\n",
    "\n",
    "features = conv_df(MNIST['Train']['Features'])\n",
    "labels = MNIST['Train']['Labels']\n",
    "\n",
    "mnist_train_x, mnist_test_x, mnist_train_y, mnist_test_y = train_test_split(features,labels,test_size=0.2)\n",
    "\n",
    "analyze(mnist_train_y, mnist_train_x, \"Обучающая выборка из MNIST\")\n",
    "analyze(mnist_test_y, mnist_test_x, \"Тестировочная выборка из MNIST\")"
   ]
  },
  {
   "cell_type": "markdown",
   "id": "45c7e76a",
   "metadata": {},
   "source": [
    "#### FashionMNIST"
   ]
  },
  {
   "cell_type": "code",
   "execution_count": 7,
   "id": "e31635fd",
   "metadata": {
    "scrolled": true
   },
   "outputs": [
    {
     "name": "stdout",
     "output_type": "stream",
     "text": [
      "/home/tim/Desktop/ai_lev/fashion-mnist/utils\n",
      "/home/tim/Desktop/ai_lev/fashion-mnist\n",
      "/home/tim/Desktop/ai_lev\n"
     ]
    }
   ],
   "source": [
    "%cd ~/Desktop/ai_lev/fashion-mnist/utils\n",
    "import mnist_reader\n",
    "%cd ..\n",
    "fashion_mnist_train_x_raw, fashion_mnist_train_y=mnist_reader.load_mnist('data/fashion', kind='train')\n",
    "fashion_mnist_test_x_raw, fashion_mnist_test_y  =mnist_reader.load_mnist('data/fashion', kind='t10k')\n",
    "%cd .."
   ]
  },
  {
   "cell_type": "code",
   "execution_count": 8,
   "id": "0c9663c0",
   "metadata": {},
   "outputs": [
    {
     "name": "stdout",
     "output_type": "stream",
     "text": [
      "Данные для [Обучающая выборка из Fashion MNIST]\n",
      "Кол-во элементов в датасете : 60000\n",
      "Кол-во атрибутов в элементе : 784\n",
      "Мин. значение атрибута   : 0\n",
      "Макс. значение атрибута  : 255\n",
      "\n",
      "Данные для [Тестировочная выборка из Fashion MNIST]\n",
      "Кол-во элементов в датасете : 10000\n",
      "Кол-во атрибутов в элементе : 784\n",
      "Мин. значение атрибута   : 0\n",
      "Макс. значение атрибута  : 255\n",
      "\n"
     ]
    },
    {
     "data": {
      "image/png": "[encoded data removed]",
      "text/plain": [
       "<Figure size 432x288 with 1 Axes>"
      ]
     },
     "metadata": {
      "needs_background": "light"
     },
     "output_type": "display_data"
    }
   ],
   "source": [
    "analyze(fashion_mnist_train_y, fashion_mnist_train_x_raw, \"Обучающая выборка из Fashion MNIST\")\n",
    "analyze(fashion_mnist_test_y, fashion_mnist_test_x_raw, \"Тестировочная выборка из Fashion MNIST\")"
   ]
  },
  {
   "cell_type": "code",
   "execution_count": 9,
   "id": "4416bb1e",
   "metadata": {},
   "outputs": [],
   "source": [
    "fashion_mnist_train_x = conv_df(fashion_mnist_train_x_raw)\n",
    "fashion_mnist_test_x  = conv_df(fashion_mnist_test_x_raw)"
   ]
  },
  {
   "cell_type": "markdown",
   "id": "a32fd439",
   "metadata": {},
   "source": [
    "#### CIFAR-10"
   ]
  },
  {
   "cell_type": "code",
   "execution_count": 12,
   "id": "b61daf38",
   "metadata": {},
   "outputs": [],
   "source": [
    "def unpickle_cifar(file):\n",
    "    with open(file, 'rb') as fo:\n",
    "        dict = pickle.load(fo, encoding='bytes')\n",
    "    return dict\n",
    "test_batch = unpickle_cifar('cifar-10-batches-py/test_batch')\n",
    "data_batch_1 = unpickle_cifar('cifar-10-batches-py/data_batch_1')\n",
    "data_batch_2 = unpickle_cifar('cifar-10-batches-py/data_batch_2')\n",
    "data_batch_3 = unpickle_cifar('cifar-10-batches-py/data_batch_3')\n",
    "data_batch_4 = unpickle_cifar('cifar-10-batches-py/data_batch_4')\n",
    "data_batch_5 = unpickle_cifar('cifar-10-batches-py/data_batch_5')"
   ]
  },
  {
   "cell_type": "code",
   "execution_count": 13,
   "id": "d985f0b4",
   "metadata": {
    "scrolled": true
   },
   "outputs": [
    {
     "name": "stdout",
     "output_type": "stream",
     "text": [
      "dict_keys([b'batch_label', b'labels', b'data', b'filenames'])\n",
      "dict_keys([b'batch_label', b'labels', b'data', b'filenames'])\n",
      "[3, 8, 8, 0, 6, 6, 1, 6, 3, 1, 0, 9, 5, 7, 9, 8, 5, 7, 8, 6, 7, 0, 4, 9, 5, 2, 4, 0, 9, 6, 6, 5, 4, 5, 9, 2, 4, 1, 9, 5, 4, 6, 5, 6, 0, 9, 3, 9, 7, 6, 9, 8, 0, 3, 8, 8, 7, 7, 4, 6, 7, 3, 6, 3, 6, 2, 1, 2, 3, 7, 2, 6, 8, 8, 0, 2, 9, 3, 3, 8, 8, 1, 1, 7, 2, 5, 2, 7, 8, 9, 0, 3, 8, 6, 4, 6, 6, 0, 0, 7, 4, 5, 6, 3, 1, 1, 3, 6, 8, 7, 4, 0, 6, 2, 1, 3, 0, 4, 2, 7, 8, 3, 1, 2, 8, 0, 8, 3, 5, 2, 4, 1, 8, 9, 1, 2, 9, 7, 2, 9, 6, 5, 6, 3, 8, 7, 6, 2, 5, 2, 8, 9, 6, 0, 0, 5, 2, 9, 5, 4, 2, 1, 6, 6, 8, 4, 8, 4, 5, 0, 9, 9, 9, 8, 9, 9, 3, 7, 5, 0, 0, 5, 2, 2, 3, 8, 6, 3, 4, 0, 5, 8, 0, 1, 7, 2, 8, 8, 7, 8, 5, 1, 8, 7, 1, 3, 0, 5, 7, 9, 7, 4, 5, 9, 8, 0, 7, 9, 8, 2, 7, 6, 9, 4, 3, 9, 6, 4, 7, 6, 5, 1, 5, 8, 8, 0, 4, 0, 5, 5, 1, 1, 8, 9, 0, 3, 1, 9, 2, 2, 5, 3, 9, 9, 4, 0, 3, 0, 0, 9, 8, 1, 5, 7, 0, 8, 2, 4, 7, 0, 2, 3, 6, 3, 8, 5, 0, 3, 4, 3, 9, 0, 6, 1, 0, 9, 1, 0, 7, 9, 1, 2, 6, 9, 3, 4, 6, 0, 0, 6, 6, 6, 3, 2, 6, 1, 8, 2, 1, 6, 8, 6, 8, 0, 4, 0, 7, 7, 5, 5, 3, 5, 2, 3, 4, 1, 7, 5, 4, 6, 1, 9, 3, 6, 6, 9, 3, 8, 0, 7, 2, 6, 2, 5, 8, 5, 4, 6, 8, 9, 9, 1, 0, 2, 2, 7, 3, 2, 8, 0, 9, 5, 8, 1, 9, 4, 1, 3, 8, 1, 4, 7, 9, 4, 2, 7, 0, 7, 0, 6, 6, 9, 0, 9, 2, 8, 7, 2, 2, 5, 1, 2, 6, 2, 9, 6, 2, 3, 0, 3, 9, 8, 7, 8, 8, 4, 0, 1, 8, 2, 7, 9, 3, 6, 1, 9, 0, 7, 3, 7, 4, 5, 0, 0, 2, 9, 3, 4, 0, 6, 2, 5, 3, 7, 3, 7, 2, 5, 3, 1, 1, 4, 9, 9, 5, 7, 5, 0, 2, 2, 2, 9, 7, 3, 9, 4, 3, 5, 4, 6, 5, 6, 1, 4, 3, 4, 4, 3, 7, 8, 3, 7, 8, 0, 5, 7, 6, 0, 5, 4, 8, 6, 8, 5, 5, 9, 9, 9, 5, 0, 1, 0, 8, 1, 1, 8, 0, 2, 2, 0, 4, 6, 5, 4, 9, 4, 7, 9, 9, 4, 5, 6, 6, 1, 5, 3, 8, 9, 5, 8, 5, 7, 0, 7, 0, 5, 0, 0, 4, 6, 9, 0, 9, 5, 6, 6, 6, 2, 9, 0, 1, 7, 6, 7, 5, 9, 1, 6, 2, 5, 5, 5, 8, 5, 9, 4, 6, 4, 3, 2, 0, 7, 6, 2, 2, 3, 9, 7, 9, 2, 6, 7, 1, 3, 6, 6, 8, 9, 7, 5, 4, 0, 8, 4, 0, 9, 3, 4, 8, 9, 6, 9, 2, 6, 1, 4, 7, 3, 5, 3, 8, 5, 0, 2, 1, 6, 4, 3, 3, 9, 6, 9, 8, 8, 5, 8, 6, 6, 2, 1, 7, 7, 1, 2, 7, 9, 9, 4, 4, 1, 2, 5, 6, 8, 7, 6, 8, 3, 0, 5, 5, 3, 0, 7, 9, 1, 3, 4, 4, 5, 3, 9, 5, 6, 9, 2, 1, 1, 4, 1, 9, 4, 7, 6, 3, 8, 9, 0, 1, 3, 6, 3, 6, 3, 2, 0, 3, 1, 0, 5, 9, 6, 4, 8, 9, 6, 9, 6, 3, 0, 3, 2, 2, 7, 8, 3, 8, 2, 7, 5, 7, 2, 4, 8, 7, 4, 2, 9, 8, 8, 6, 8, 8, 7, 4, 3, 3, 8, 4, 9, 4, 8, 8, 1, 8, 2, 1, 3, 6, 5, 4, 2, 7, 9, 9, 4, 1, 4, 1, 3, 2, 7, 0, 7, 9, 7, 6, 6, 2, 5, 9, 2, 9, 1, 2, 2, 6, 8, 2, 1, 3, 6, 6, 0, 1, 2, 7, 0, 5, 4, 6, 1, 6, 4, 0, 2, 2, 6, 0, 5, 9, 1, 7, 6, 7, 0, 3, 9, 6, 8, 3, 0, 3, 4, 7, 7, 1, 4, 7, 2, 7, 1, 4, 7, 4, 4, 8, 4, 7, 7, 5, 3, 7, 2, 0, 8, 9, 5, 8, 3, 6, 2, 0, 8, 7, 3, 7, 6, 5, 3, 1, 3, 2, 2, 5, 4, 1, 2, 9, 2, 7, 0, 7, 2, 1, 3, 2, 0, 2, 4, 7, 9, 8, 9, 0, 7, 7, 0, 7, 8, 4, 6, 3, 3, 0, 1, 3, 7, 0, 1, 3, 1, 4, 2, 3, 8, 4, 2, 3, 7, 8, 4, 3, 0, 9, 0, 0, 1, 0, 4, 4, 6, 7, 6, 1, 1, 3, 7, 3, 5, 2, 6, 6, 5, 8, 7, 1, 6, 8, 8, 5, 3, 0, 4, 0, 1, 3, 8, 8, 0, 6, 9, 9, 9, 5, 5, 8, 6, 0, 0, 4, 2, 3, 2, 7, 2, 2, 5, 9, 8, 9, 1, 7, 4, 0, 3, 0, 1, 3, 8, 3, 9, 6, 1, 4, 7, 0, 3, 7, 8, 9, 1, 1, 6, 6, 6, 6, 9, 1, 9, 9, 4, 2, 1, 7, 0, 6, 8, 1, 9, 2, 9, 0, 4, 7, 8, 3, 1, 2, 0, 1, 5, 8, 4, 6, 3, 8, 1, 3, 8, 5, 0, 8, 4, 8, 1, 1, 8, 9, 6, 0, 8, 6, 1, 3, 4, 1, 6, 0, 5, 1, 1, 0, 0, 3, 5, 0, 0, 6, 6, 3, 3, 6, 3, 6, 6, 0, 7, 2, 2, 7, 5, 5, 2, 8, 5, 2, 1, 1, 4, 3, 2, 0, 3, 1, 5, 3, 7, 6, 8, 9, 1, 6, 4, 9, 3, 9, 0, 9, 6, 3, 6, 0, 7, 3, 8, 0, 0, 0, 6, 6, 6, 9, 2, 5, 4, 4, 6, 3, 6, 0, 8, 6, 0, 6, 2, 7, 5, 1, 2, 7, 8, 8, 0, 9, 4, 9, 7, 2, 0, 2, 8, 3, 8, 9, 1, 5, 5, 4, 7, 5, 3, 8, 3, 3, 6, 2, 8, 4, 3, 7, 1, 2, 4, 1, 6, 9, 0, 5, 8, 6, 1, 8, 6, 1, 4, 2, 6, 2, 7, 2, 2, 0, 8, 6, 9, 1, 7, 1, 8, 8, 0, 7, 3, 8, 0, 3, 4, 3, 7, 7, 9, 2, 3, 1, 9, 1, 9, 6, 3, 3, 3, 1, 0, 6, 1, 4, 1, 0, 0, 1, 1, 6, 5, 4, 6, 2, 0, 7, 9, 8, 7, 2, 0, 6, 8, 1, 4, 3, 7, 0, 6, 1, 8, 5, 7, 8, 4, 8, 3, 9, 9, 9, 8, 7, 6, 6, 3, 5, 1, 5, 9, 1, 4, 1, 5, 7, 0, 1, 5, 2, 0, 8, 8, 5, 6, 7, 3, 2, 4, 7, 2, 5, 8, 2, 4, 9, 2, 1, 8, 1, 9, 8, 8, 8, 9, 0, 4, 3, 3, 1, 8, 4, 6, 3, 3, 5, 2, 2, 8, 3, 8, 9, 5, 8, 9, 8, 9, 1, 6, 5, 9, 4, 4, 8, 0, 7, 2, 9, 7, 4, 1, 6, 4, 4, 9, 1, 2, 5, 6, 0, 8, 6, 1, 9, 4, 5, 9, 5, 0, 7, 2, 0, 0, 4, 2, 6, 6, 5, 5, 2, 8, 1, 7, 3, 1, 4, 5, 6, 5, 1, 4, 7, 0, 9, 4, 3, 8, 2, 8, 4, 7, 2, 3, 1, 5, 2, 9, 8, 9, 7, 9, 5, 1, 4, 0, 8, 2, 3, 8, 9, 1, 1, 3, 2, 4, 9, 3, 1, 7, 4, 6, 2, 8, 9, 5, 3, 9, 5, 5, 6, 7, 2, 4, 6, 3, 1, 0, 7, 2, 5, 4, 7, 6, 1, 1, 9, 8, 1, 0, 1, 3, 1, 1, 1, 7, 3, 9, 6, 8, 4, 6, 8, 4, 9, 4, 7, 9, 7, 6, 8, 4, 9, 7, 0, 1, 6, 1, 5, 9, 0, 4, 3, 4, 1, 3, 0, 8, 4, 6, 2, 2, 6, 5, 3, 6, 2, 1, 1, 8, 6, 0, 4, 0, 1, 9, 7, 1, 3, 7, 7, 8, 7, 7, 3, 9, 7, 7, 7, 2, 1, 2, 8, 6, 4, 0, 7, 9, 8, 6, 8, 4, 9, 1, 7, 2, 2, 8, 5, 8, 1, 2, 2, 4, 1, 2, 5, 2, 8, 1, 8, 1, 8, 6, 0, 2, 4, 1, 3, 6, 7, 7, 4, 4, 3, 3, 4, 5, 2, 4, 3, 7, 8, 4, 4, 4, 5, 4, 3, 2, 8, 4, 5, 5, 4, 1, 4, 2, 5, 1, 6, 4, 3, 4, 4, 0, 8, 8, 4, 5, 7, 5, 6, 9, 1, 6, 7, 2, 0, 1, 4, 5, 6, 0, 0, 2, 7, 5, 6, 0, 6, 2, 9, 1, 7, 7, 5, 2, 5, 6, 4, 1, 4, 3, 3, 3, 0, 3, 5, 5, 8, 9, 7, 3, 1, 3, 3, 3, 4, 4, 2, 3, 3, 8, 1, 7, 7, 0, 7, 4, 5, 1, 4, 2, 4, 3, 9, 9, 4, 9, 9, 1, 8, 1, 6, 7, 5, 5, 4, 9, 7, 6, 5, 9, 2, 4, 0, 7, 8, 5, 5, 0, 0, 9, 9, 8, 2, 5, 4, 8, 3, 6, 3, 6, 0, 6, 6, 6, 9, 6, 6, 8, 6, 2, 4, 5, 8, 1, 2, 7, 6, 5, 7, 8, 1, 8, 0, 8, 6, 9, 2, 8, 9, 4, 0, 9, 4, 9, 5, 7, 5, 5, 9, 5, 3, 0, 1, 9, 7, 2, 4, 1, 0, 8, 0, 3, 1, 7, 0, 0, 4, 8, 6, 2, 4, 0, 0, 9, 0, 8, 4, 5, 9, 3, 9, 0, 5, 6, 5, 0, 1, 4, 8, 1, 0, 5, 2, 1, 0, 2, 8, 1, 5, 6, 7, 7, 2, 6, 2, 5, 0, 1, 4, 2, 5, 4, 6, 2, 2, 1, 7, 2, 8, 5, 5, 3, 0, 4, 8, 3, 7, 6, 3, 8, 1, 0, 1, 3, 3, 0, 7, 4, 9, 5, 3, 6, 0, 1, 4, 4, 4, 4, 2, 2, 5, 8, 1, 5, 9, 8, 1, 1, 5, 3, 9, 9, 7, 6, 5, 0, 8, 4, 7, 0, 9, 2, 8, 4, 7, 1, 3, 9, 6, 8, 9, 0, 4, 9, 6, 7, 8, 9, 4, 8, 9, 7, 2, 5, 3, 7, 1, 0, 2, 9, 5, 5, 8, 5, 4, 2, 8, 3, 5, 5, 7, 7, 8, 6, 2, 8, 2, 3, 5, 6, 8, 0, 2, 3, 7, 0, 1, 9, 1, 3, 7, 5, 8, 3, 2, 9, 6, 8, 6, 9, 3, 8, 9, 8, 0, 7, 8, 5, 0, 0, 1, 3, 9, 1, 5, 3, 4, 4, 0, 9, 9, 9, 9, 8, 2, 4, 2, 2, 5, 1, 9, 1, 0, 9, 4, 2, 1, 6, 0, 3, 7, 6, 3, 1, 8, 6, 5, 7, 2, 8, 4, 4, 8, 3, 5, 0, 5, 7, 4, 4, 2, 2, 7, 3, 6, 0, 2, 7, 6, 2, 3, 0, 7, 7, 8, 1, 1, 4, 6, 0, 6, 6, 5, 5, 6, 3, 9, 3, 6, 8, 7, 6, 4, 9, 5, 6, 4, 1, 6, 3, 8, 2, 3, 9, 8, 5, 1, 5, 4, 5, 7, 5, 7, 8, 9, 1, 7, 2, 5, 6, 8, 4, 6, 5, 3, 9, 9, 8, 5, 5, 6, 4, 5, 9, 7, 3, 4, 1, 4, 2, 3, 6, 5, 5, 2, 8, 0, 0, 1, 8, 3, 1, 3, 5, 8, 3, 8, 5, 8, 6, 3, 5, 5, 5, 0, 9, 5, 5, 7, 1, 8, 2, 2, 7, 3, 4, 2, 9, 6, 2, 2, 4, 3, 0, 2, 0, 1, 3, 2, 2, 7, 0, 1, 0, 7, 7, 2, 0, 1, 6, 5, 0, 2, 2, 0, 1, 2, 6, 0, 1, 6, 6, 5, 3, 4, 0, 0, 9, 1, 0, 2, 5, 9, 7, 8, 6, 4, 6, 0, 2, 0, 1, 9, 2, 4, 9, 0, 7, 2, 3, 4, 8, 0, 2, 6, 8, 9, 7, 1, 9, 3, 7, 2, 7, 9, 6, 9, 5, 7, 8, 5, 9, 8, 3, 9, 8, 0, 5, 5, 7, 1, 2, 0, 7, 5, 8, 2, 2, 5, 3, 9, 3, 1, 9, 3, 1, 4, 3, 4, 4, 9, 0, 9, 5, 9, 2, 9, 4, 0, 2, 8, 4, 8, 6, 8, 2, 0, 5, 9, 6, 9, 5, 1, 3, 4, 4, 2, 7, 2, 4, 4, 0, 2, 8, 4, 5, 1, 2, 6, 8, 1, 7, 2, 8, 7, 4, 3, 3, 0, 3, 7, 2, 5, 6, 1, 7, 9, 0, 2, 3, 9, 8, 9, 5, 0, 0, 7, 6, 3, 3, 8, 1, 4, 0, 1, 5, 4, 3, 2, 6, 0, 8, 8, 6, 3, 3, 2, 9, 7, 5, 1, 6, 0, 5, 9, 9, 4, 5, 9, 4, 8, 3, 3, 2, 5, 1, 9, 5, 5, 8, 1, 8, 9, 7, 0, 6, 3, 2, 0, 2, 6, 9, 3, 9, 1, 6, 6, 7, 2, 6, 3, 2, 5, 5, 2, 7, 5, 2, 0, 8, 0, 7, 7, 1, 7, 4, 0, 2, 2, 6, 1, 5, 9, 7, 6, 2, 7, 0, 5, 6, 0, 1, 1, 8, 4, 5, 3, 1, 2, 4, 8, 9, 8, 1, 7, 2, 7, 2, 3, 2, 6, 7, 9, 4, 0, 1, 0, 4, 5, 0, 8, 0, 7, 6, 1, 0, 8, 5, 9, 2, 5, 4, 4, 9, 0, 6, 1, 2, 5, 1, 6, 7, 1, 5, 8, 8, 0, 3, 9, 4, 0, 3, 4, 9, 2, 4, 3, 0, 6, 4, 5, 6, 6, 7, 8, 4, 8, 8, 3, 2, 8, 0, 2, 5, 6, 8, 7, 8, 9, 9, 0, 6, 6, 8, 1, 1, 7, 4, 4, 2, 3, 6, 9, 6, 2, 4, 1, 8, 2, 3, 1, 6, 8, 6, 8, 5, 9, 0, 1, 0, 2, 9, 2, 9, 0, 9, 7, 8, 5, 0, 6, 6, 8, 1, 6, 5, 8, 7, 9, 2, 1, 6, 7, 5, 6, 3, 0, 9, 8, 9, 5, 9, 9, 9, 3, 6, 4, 4, 8, 8, 1, 7, 3, 0, 6, 2, 4, 8, 2, 2, 9, 2, 2, 9, 7, 4, 1, 9, 1, 4, 3, 5, 3, 8, 9, 3, 6, 2, 0, 8, 9, 0, 5, 1, 5, 8, 2, 1, 2, 3, 2, 4, 8, 4, 0, 6, 4, 2, 9, 8, 4, 7, 6, 2, 4, 7, 7, 6, 4, 2, 2, 3, 2, 4, 9, 0, 0, 9, 6, 5, 8, 5, 2, 4, 8, 8, 6, 4, 5, 7, 6, 3, 7, 0, 4, 0, 5, 8, 2, 8, 0, 4, 9, 2, 3, 6, 8, 1, 6, 0, 8, 4, 3, 1, 4, 5, 2, 4, 3, 6, 0, 7, 1, 3, 5, 7, 1, 8, 0, 4, 8, 2, 7, 7, 0, 2, 2, 4, 3, 3, 1, 6, 1, 6, 4, 6, 7, 4, 7, 3, 8, 1, 3, 1, 4, 6, 5, 5, 7, 4, 5, 4, 9, 7, 7, 2, 3, 3, 6, 7, 4, 1, 6, 1, 0, 6, 9, 6, 0, 2, 0, 2, 4, 7, 0, 0, 0, 0, 7, 5, 3, 2, 7, 8, 5, 5, 2, 2, 8, 9, 1, 2, 2, 0, 3, 4, 9, 1, 6, 9, 0, 8, 3, 6, 4, 6, 7, 5, 1, 8, 9, 0, 5, 0, 5, 4, 3, 8, 5, 2, 0, 8, 5, 9, 2, 5, 6, 5, 7, 3, 7, 2, 8, 8, 4, 2, 1, 6, 2, 9, 9, 8, 2, 3, 1, 0, 5, 2, 3, 7, 9, 5, 9, 1, 1, 3, 2, 7, 4, 4, 1, 9, 4, 5, 5, 2, 7, 7, 6, 1, 2, 3, 7, 5, 4, 3, 7, 7, 0, 0, 1, 4, 4, 3, 7, 9, 8, 7, 0, 9, 0, 3, 7, 6, 3, 8, 4, 5, 6, 5, 3, 4, 2, 9, 2, 4, 9, 2, 0, 1, 1, 3, 7, 9, 5, 1, 6, 0, 3, 3, 7, 2, 4, 5, 2, 3, 6, 3, 3, 0, 4, 4, 3, 8, 1, 2, 3, 2, 7, 1, 4, 5, 6, 8, 6, 6, 5, 4, 2, 9, 9, 3, 2, 0, 4, 1, 5, 5, 6, 6, 5, 6, 9, 7, 9, 4, 8, 3, 1, 9, 8, 1, 9, 0, 3, 0, 4, 7, 7, 2, 6, 5, 6, 9, 7, 7, 5, 7, 0, 8, 6, 7, 8, 3, 8, 9, 3, 2, 9, 2, 7, 4, 1, 9, 7, 0, 8, 1, 2, 0, 6, 5, 1, 4, 2, 8, 2, 8, 3, 3, 1, 4, 9, 8, 1, 1, 7, 9, 9, 4, 6, 8, 5, 3, 2, 2, 3, 8, 5, 1, 9, 7, 9, 1, 5, 3, 1, 0, 3, 8, 9, 2, 0, 8, 0, 7, 9, 4, 8, 3, 0, 7, 0, 7, 0, 5, 5, 4, 3, 0, 9, 9, 0, 2, 2, 0, 8, 4, 4, 5, 2, 2, 1, 1, 5, 5, 4, 3, 4, 0, 8, 4, 8, 2, 5, 6, 5, 1, 7, 2, 4, 0, 5, 6, 8, 7, 6, 3, 1, 3, 6, 6, 4, 5, 5, 5, 1, 8, 7, 3, 0, 2, 5, 1, 1, 1, 6, 7, 2, 1, 2, 3, 9, 8, 3, 1, 7, 4, 8, 4, 7, 5, 8, 6, 0, 3, 0, 8, 3, 4, 4, 9, 4, 6, 1, 5, 7, 7, 9, 0, 1, 3, 1, 3, 2, 4, 0, 7, 8, 3, 1, 6, 2, 1, 8, 8, 1, 9, 7, 5, 3, 2, 9, 0, 6, 8, 4, 1, 5, 7, 2, 4, 7, 0, 4, 9, 0, 7, 0, 6, 7, 1, 8, 5, 8, 8, 7, 0, 0, 3, 2, 5, 7, 0, 6, 4, 4, 9, 1, 8, 6, 3, 9, 4, 9, 3, 3, 7, 5, 9, 7, 7, 4, 5, 8, 2, 8, 9, 5, 3, 1, 9, 2, 2, 0, 1, 1, 8, 1, 1, 9, 8, 9, 9, 0, 2, 6, 9, 1, 9, 0, 1, 9, 2, 9, 9, 9, 0, 9, 9, 2, 1, 7, 0, 5, 6, 3, 9, 8, 3, 0, 2, 7, 7, 4, 8, 3, 0, 5, 2, 3, 5, 7, 6, 6, 6, 5, 6, 5, 4, 5, 8, 8, 0, 9, 7, 9, 0, 6, 9, 6, 1, 4, 7, 9, 0, 3, 5, 4, 7, 6, 9, 8, 2, 3, 9, 3, 3, 7, 8, 3, 5, 5, 9, 6, 1, 4, 7, 4, 8, 7, 7, 1, 3, 0, 3, 2, 5, 4, 9, 3, 5, 4, 7, 0, 3, 7, 0, 2, 1, 5, 8, 7, 3, 5, 7, 8, 5, 7, 8, 1, 5, 4, 7, 0, 8, 3, 2, 9, 7, 4, 1, 6, 5, 9, 8, 5, 5, 4, 1, 0, 9, 4, 4, 3, 0, 4, 8, 0, 8, 2, 9, 5, 9, 7, 4, 6, 7, 9, 2, 9, 3, 7, 7, 8, 2, 2, 0, 2, 5, 3, 6, 4, 7, 2, 3, 7, 8, 7, 2, 5, 0, 0, 7, 0, 9, 6, 1, 0, 3, 9, 7, 4, 9, 1, 6, 8, 1, 2, 3, 3, 5, 4, 8, 9, 7, 4, 4, 1, 2, 4, 9, 8, 7, 9, 5, 1, 2, 1, 6, 6, 4, 5, 7, 4, 5, 8, 5, 2, 8, 7, 8, 2, 3, 6, 1, 3, 3, 1, 5, 1, 9, 0, 9, 2, 0, 6, 2, 4, 8, 5, 7, 6, 1, 2, 9, 4, 5, 0, 3, 3, 7, 7, 7, 1, 4, 5, 0, 2, 8, 5, 0, 0, 6, 2, 0, 8, 4, 5, 4, 5, 6, 4, 7, 9, 4, 2, 0, 6, 4, 0, 0, 6, 4, 6, 1, 9, 5, 5, 2, 2, 6, 3, 4, 5, 9, 1, 7, 2, 3, 9, 6, 5, 0, 2, 9, 7, 1, 7, 2, 2, 0, 8, 6, 4, 3, 2, 7, 7, 0, 4, 1, 6, 5, 1, 3, 0, 3, 9, 0, 0, 2, 5, 0, 4, 0, 1, 9, 8, 4, 9, 4, 2, 4, 3, 3, 4, 0, 4, 3, 2, 8, 9, 1, 5, 8, 1, 8, 2, 4, 5, 2, 4, 1, 1, 6, 6, 8, 5, 2, 2, 5, 0, 8, 2, 3, 6, 2, 9, 6, 1, 4, 5, 9, 0, 1, 0, 0, 8, 1, 1, 6, 6, 9, 5, 4, 1, 7, 8, 6, 9, 1, 7, 6, 0, 9, 3, 5, 3, 2, 5, 3, 4, 9, 7, 1, 4, 4, 6, 1, 3, 8, 8, 0, 6, 7, 7, 6, 7, 2, 3, 2, 2, 6, 2, 7, 4, 0, 3, 6, 2, 6, 3, 3, 0, 9, 5, 1, 1, 5, 3, 6, 4, 3, 4, 1, 0, 4, 5, 5, 2, 8, 9, 4, 3, 1, 8, 0, 1, 3, 3, 4, 4, 2, 9, 7, 6, 8, 1, 8, 9, 1, 3, 1, 7, 3, 0, 0, 2, 8, 3, 9, 2, 7, 2, 6, 0, 1, 6, 1, 6, 7, 5, 5, 2, 5, 9, 4, 0, 2, 3, 4, 9, 4, 1, 0, 0, 2, 3, 8, 9, 2, 8, 9, 5, 7, 9, 1, 4, 6, 2, 8, 4, 4, 8, 9, 3, 1, 1, 6, 5, 8, 4, 6, 4, 5, 2, 6, 4, 2, 3, 1, 3, 6, 8, 5, 2, 2, 7, 1, 6, 2, 5, 9, 2, 8, 1, 6, 9, 2, 7, 5, 3, 2, 9, 7, 0, 2, 9, 3, 4, 1, 7, 9, 5, 8, 9, 7, 3, 4, 0, 9, 7, 4, 2, 4, 7, 0, 1, 8, 1, 0, 4, 6, 1, 9, 9, 2, 1, 2, 5, 6, 9, 7, 7, 3, 4, 2, 0, 2, 5, 6, 7, 3, 7, 9, 4, 2, 0, 6, 1, 7, 5, 6, 5, 3, 9, 2, 7, 8, 5, 9, 5, 8, 5, 4, 3, 7, 9, 8, 1, 2, 2, 8, 9, 3, 0, 8, 4, 0, 2, 0, 1, 4, 1, 8, 5, 5, 7, 9, 8, 3, 7, 9, 1, 5, 6, 9, 8, 7, 2, 0, 9, 0, 8, 5, 9, 4, 2, 9, 8, 1, 9, 1, 8, 3, 7, 6, 4, 2, 3, 7, 0, 3, 5, 8, 8, 8, 7, 9, 6, 2, 7, 4, 5, 7, 6, 7, 1, 7, 3, 6, 8, 2, 6, 6, 7, 1, 5, 9, 7, 1, 7, 0, 1, 6, 3, 3, 9, 0, 1, 2, 3, 2, 2, 5, 4, 9, 8, 7, 4, 4, 9, 7, 6, 7, 7, 1, 2, 3, 5, 1, 9, 0, 3, 3, 1, 5, 6, 6, 2, 4, 6, 8, 8, 9, 6, 6, 1, 0, 7, 5, 8, 2, 1, 5, 8, 1, 4, 7, 5, 0, 3, 9, 9, 5, 2, 8, 4, 1, 9, 0, 4, 4, 8, 2, 9, 0, 7, 9, 8, 7, 1, 3, 2, 9, 9, 5, 9, 7, 6, 7, 7, 1, 1, 2, 4, 2, 0, 6, 8, 7, 6, 2, 2, 9, 8, 2, 4, 2, 0, 5, 8, 6, 8, 2, 7, 7, 3, 1, 8, 1, 6, 5, 9, 7, 8, 9, 6, 4, 8, 1, 9, 4, 0, 4, 1, 4, 3, 6, 2, 2, 7, 0, 0, 7, 0, 7, 4, 3, 6, 7, 7, 4, 5, 4, 3, 5, 5, 4, 7, 1, 0, 7, 7, 1, 6, 5, 0, 7, 7, 4, 6, 1, 8, 5, 9, 3, 5, 6, 2, 2, 7, 3, 5, 8, 1, 0, 6, 8, 7, 8, 8, 5, 7, 5, 4, 9, 7, 3, 3, 8, 8, 3, 9, 4, 7, 2, 0, 8, 0, 7, 3, 3, 2, 5, 2, 4, 4, 0, 4, 8, 2, 4, 0, 6, 4, 5, 6, 0, 8, 8, 0, 6, 1, 1, 6, 1, 4, 2, 1, 1, 2, 4, 4, 5, 5, 8, 8, 5, 1, 8, 2, 3, 3, 9, 6, 6, 5, 0, 7, 3, 3, 2, 7, 4, 5, 6, 0, 2, 1, 8, 1, 0, 9, 3, 1, 0, 5, 4, 2, 3, 3, 6, 7, 6, 0, 0, 5, 7, 4, 7, 7, 0, 6, 1, 3, 9, 0, 9, 0, 3, 8, 4, 8, 8, 4, 1, 0, 2, 2, 4, 1, 1, 2, 4, 3, 4, 1, 4, 7, 1, 0, 0, 9, 0, 4, 2, 8, 8, 5, 5, 0, 4, 0, 8, 6, 2, 5, 9, 2, 9, 1, 1, 5, 4, 7, 5, 8, 6, 2, 1, 5, 5, 3, 4, 1, 8, 9, 9, 8, 9, 8, 6, 8, 5, 8, 9, 4, 6, 2, 6, 3, 7, 4, 0, 0, 1, 7, 5, 1, 5, 9, 3, 1, 6, 8, 7, 3, 6, 9, 1, 2, 0, 1, 7, 2, 6, 1, 9, 0, 0, 8, 9, 9, 2, 8, 6, 2, 5, 6, 0, 3, 3, 0, 7, 4, 7, 5, 0, 1, 6, 8, 8, 1, 2, 1, 5, 4, 5, 9, 6, 7, 1, 0, 6, 9, 2, 7, 7, 3, 9, 9, 1, 9, 7, 0, 1, 3, 5, 4, 6, 3, 8, 8, 0, 4, 8, 3, 6, 7, 0, 0, 4, 5, 2, 6, 8, 4, 9, 9, 9, 2, 0, 4, 2, 8, 1, 1, 0, 0, 3, 7, 4, 1, 1, 9, 7, 7, 4, 6, 8, 6, 0, 2, 8, 5, 3, 5, 3, 5, 7, 9, 8, 4, 4, 3, 1, 4, 8, 3, 6, 5, 3, 0, 8, 9, 5, 7, 6, 2, 0, 4, 9, 9, 0, 5, 2, 3, 6, 1, 1, 0, 2, 8, 2, 1, 1, 7, 5, 2, 3, 4, 1, 2, 9, 2, 1, 3, 4, 8, 9, 0, 0, 4, 9, 0, 2, 2, 0, 6, 8, 7, 3, 3, 8, 9, 0, 2, 5, 3, 6, 1, 3, 9, 5, 0, 5, 4, 4, 0, 1, 1, 6, 1, 7, 9, 9, 6, 2, 4, 3, 8, 3, 4, 7, 0, 2, 8, 4, 8, 3, 8, 8, 8, 3, 3, 5, 7, 7, 0, 4, 1, 5, 9, 7, 0, 6, 8, 4, 9, 0, 1, 8, 9, 6, 3, 9, 2, 4, 4, 0, 3, 3, 5, 4, 5, 1, 1, 8, 2, 2, 9, 3, 7, 8, 9, 2, 3, 1, 7, 3, 2, 3, 0, 1, 9, 5, 5, 3, 4, 5, 2, 0, 0, 3, 1, 3, 4, 7, 4, 2, 8, 4, 8, 9, 9, 4, 2, 4, 3, 6, 4, 6, 4, 6, 6, 3, 8, 7, 4, 8, 0, 5, 9, 3, 9, 0, 7, 5, 1, 9, 7, 9, 1, 8, 4, 2, 1, 6, 4, 3, 0, 1, 4, 8, 6, 1, 7, 1, 3, 5, 4, 3, 3, 9, 7, 8, 2, 5, 5, 4, 5, 4, 5, 7, 2, 5, 5, 1, 7, 7, 8, 3, 6, 0, 2, 5, 2, 3, 7, 4, 2, 1, 6, 8, 6, 8, 3, 2, 7, 7, 9, 7, 1, 4, 7, 4, 6, 1, 7, 3, 0, 0, 6, 6, 8, 6, 6, 0, 3, 4, 7, 4, 9, 4, 9, 9, 3, 4, 1, 4, 0, 3, 7, 1, 2, 2, 8, 4, 7, 8, 5, 5, 6, 5, 6, 0, 6, 4, 9, 3, 2, 7, 3, 8, 3, 9, 4, 1, 6, 9, 9, 4, 3, 9, 8, 1, 6, 9, 5, 9, 0, 9, 7, 2, 2, 4, 2, 6, 4, 8, 1, 9, 5, 6, 5, 1, 8, 6, 6, 7, 6, 5, 0, 2, 7, 6, 1, 2, 3, 1, 6, 4, 9, 0, 3, 9, 1, 0, 5, 3, 1, 6, 9, 8, 9, 0, 6, 1, 6, 2, 3, 5, 6, 9, 0, 7, 2, 4, 0, 3, 6, 8, 6, 9, 1, 9, 0, 6, 4, 5, 9, 5, 4, 1, 9, 2, 0, 7, 3, 5, 1, 8, 3, 0, 5, 2, 8, 8, 3, 9, 6, 0, 3, 5, 3, 4, 1, 5, 0, 7, 3, 9, 4, 5, 3, 1, 4, 2, 4, 9, 9, 7, 1, 7, 0, 1, 2, 1, 5, 3, 8, 4, 1, 5, 1, 9, 9, 7, 0, 1, 7, 6, 2, 6, 5, 0, 3, 1, 3, 8, 9, 9, 0, 8, 8, 7, 9, 2, 9, 1, 3, 6, 7, 6, 0, 8, 6, 2, 4, 2, 3, 5, 5, 4, 1, 6, 7, 1, 6, 1, 7, 1, 6, 2, 3, 0, 4, 2, 9, 7, 5, 5, 6, 0, 8, 8, 1, 1, 3, 5, 6, 5, 3, 8, 7, 5, 0, 7, 7, 5, 7, 1, 9, 9, 1, 9, 9, 3, 5, 5, 3, 0, 3, 0, 6, 6, 5, 6, 8, 9, 4, 5, 1, 1, 2, 7, 9, 0, 1, 2, 5, 4, 4, 7, 4, 8, 3, 3, 5, 3, 5, 7, 0, 1, 2, 9, 8, 1, 7, 3, 5, 9, 1, 9, 1, 1, 3, 6, 7, 4, 8, 3, 5, 6, 7, 0, 1, 7, 7, 2, 3, 3, 5, 1, 7, 6, 8, 4, 4, 5, 7, 3, 4, 7, 7, 3, 6, 0, 7, 2, 6, 7, 4, 1, 8, 0, 2, 2, 1, 5, 4, 0, 9, 3, 4, 4, 2, 3, 8, 5, 0, 0, 4, 6, 3, 9, 2, 0, 5, 7, 5, 5, 1, 7, 3, 1, 6, 7, 9, 0, 1, 2, 1, 4, 6, 1, 5, 9, 5, 0, 4, 9, 4, 9, 7, 1, 6, 8, 0, 6, 5, 0, 8, 1, 7, 5, 6, 9, 3, 2, 3, 9, 8, 6, 1, 0, 9, 0, 9, 8, 7, 7, 5, 2, 3, 5, 5, 7, 8, 7, 6, 9, 1, 9, 8, 6, 5, 6, 7, 5, 6, 7, 2, 5, 9, 6, 6, 7, 0, 1, 0, 1, 3, 2, 5, 6, 1, 2, 5, 1, 9, 9, 8, 6, 8, 6, 8, 9, 0, 4, 0, 3, 3, 6, 4, 9, 9, 7, 2, 3, 5, 6, 4, 6, 0, 3, 7, 5, 0, 2, 9, 2, 7, 2, 9, 2, 4, 0, 6, 6, 3, 4, 5, 5, 9, 1, 1, 4, 4, 3, 5, 4, 8, 0, 0, 3, 9, 4, 7, 4, 2, 8, 3, 6, 3, 1, 9, 6, 3, 8, 3, 8, 4, 7, 5, 7, 5, 3, 1, 2, 6, 1, 3, 2, 0, 7, 5, 0, 0, 0, 1, 4, 3, 5, 8, 4, 3, 1, 7, 1, 0, 4, 2, 4, 1, 4, 0, 1, 2, 1, 7, 7, 9, 8, 7, 5, 4, 0, 9, 0, 0, 8, 2, 0, 0, 2, 4, 8, 6, 2, 4, 6, 3, 5, 1, 5, 3, 7, 2, 2, 9, 8, 0, 0, 0, 3, 4, 4, 6, 1, 6, 7, 4, 4, 3, 9, 4, 0, 8, 0, 4, 6, 5, 7, 9, 7, 0, 5, 7, 7, 3, 1, 9, 3, 0, 9, 5, 3, 7, 9, 4, 4, 1, 7, 7, 1, 4, 1, 2, 8, 7, 0, 0, 4, 7, 2, 9, 7, 6, 9, 3, 5, 8, 0, 3, 6, 8, 3, 2, 4, 7, 1, 1, 3, 9, 7, 5, 1, 0, 8, 7, 0, 1, 6, 9, 3, 2, 7, 7, 8, 1, 0, 3, 4, 6, 7, 5, 2, 0, 1, 5, 5, 1, 4, 1, 3, 0, 8, 6, 2, 1, 3, 6, 4, 1, 9, 0, 4, 1, 0, 1, 9, 8, 6, 9, 2, 4, 7, 2, 2, 7, 4, 9, 1, 3, 2, 6, 3, 4, 4, 9, 4, 8, 2, 6, 6, 1, 6, 3, 6, 5, 8, 4, 6, 7, 1, 9, 3, 6, 7, 6, 0, 7, 1, 9, 5, 2, 6, 7, 7, 6, 5, 9, 1, 5, 6, 0, 2, 0, 9, 1, 8, 3, 5, 0, 0, 0, 5, 7, 7, 8, 5, 5, 5, 1, 6, 1, 5, 1, 0, 6, 2, 3, 2, 1, 7, 5, 1, 9, 8, 3, 6, 9, 7, 3, 0, 2, 3, 9, 4, 4, 3, 9, 6, 8, 6, 6, 8, 5, 4, 3, 6, 7, 7, 4, 3, 9, 6, 2, 4, 0, 1, 3, 6, 4, 9, 2, 6, 0, 3, 8, 7, 5, 3, 3, 8, 3, 2, 6, 3, 6, 2, 7, 4, 5, 7, 9, 0, 0, 6, 7, 2, 8, 5, 5, 7, 5, 5, 9, 4, 6, 4, 7, 3, 3, 6, 4, 1, 6, 3, 1, 6, 7, 0, 5, 0, 1, 9, 7, 3, 5, 2, 3, 9, 5, 6, 4, 0, 0, 0, 8, 0, 3, 2, 4, 5, 3, 7, 9, 6, 9, 3, 1, 2, 6, 7, 4, 5, 1, 3, 7, 6, 9, 5, 8, 5, 8, 5, 8, 5, 6, 5, 0, 8, 3, 8, 1, 8, 1, 5, 0, 9, 8, 6, 3, 6, 3, 4, 4, 7, 4, 7, 4, 3, 2, 4, 5, 5, 7, 5, 4, 5, 8, 0, 5, 4, 0, 5, 4, 3, 3, 2, 4, 2, 9, 4, 8, 8, 6, 2, 6, 1, 7, 0, 4, 3, 8, 5, 9, 7, 6, 7, 1, 0, 2, 3, 5, 6, 7, 1, 6, 2, 8, 3, 7, 2, 5, 7, 5, 7, 7, 1, 7, 4, 3, 3, 4, 0, 4, 2, 7, 0, 2, 2, 6, 6, 2, 5, 2, 6, 0, 6, 1, 2, 9, 0, 0, 1, 5, 5, 1, 6, 7, 8, 5, 6, 3, 3, 6, 0, 9, 9, 2, 2, 6, 1, 4, 6, 2, 5, 7, 8, 8, 5, 6, 4, 3, 2, 3, 4, 4, 4, 8, 9, 2, 6, 0, 9, 7, 9, 8, 7, 7, 3, 8, 2, 9, 3, 5, 7, 5, 8, 7, 3, 7, 0, 7, 1, 6, 2, 4, 0, 0, 2, 9, 8, 2, 8, 7, 7, 5, 5, 0, 1, 2, 9, 6, 1, 0, 1, 0, 6, 5, 0, 5, 7, 4, 4, 8, 3, 5, 3, 7, 2, 5, 8, 3, 5, 7, 3, 7, 0, 5, 4, 5, 6, 9, 3, 5, 3, 8, 2, 4, 2, 2, 6, 7, 6, 0, 5, 5, 8, 4, 5, 6, 1, 3, 5, 4, 7, 3, 0, 7, 2, 0, 1, 2, 4, 9, 6, 4, 5, 9, 7, 7, 6, 7, 4, 3, 1, 6, 9, 4, 8, 0, 3, 1, 6, 4, 4, 2, 1, 4, 6, 3, 0, 8, 9, 7, 6, 8, 4, 8, 1, 4, 5, 9, 4, 7, 1, 4, 5, 3, 1, 2, 6, 4, 7, 1, 5, 9, 3, 1, 4, 8, 7, 7, 0, 4, 3, 4, 6, 7, 7, 5, 4, 4, 4, 3, 6, 6, 1, 9, 9, 7, 9, 4, 3, 2, 9, 8, 5, 0, 6, 9, 0, 9, 7, 8, 5, 4, 4, 9, 4, 2, 6, 6, 9, 9, 7, 9, 9, 0, 5, 1, 1, 8, 6, 9, 9, 5, 6, 5, 5, 9, 7, 9, 4, 5, 4, 3, 3, 9, 8, 8, 3, 4, 8, 4, 0, 4, 0, 7, 2, 8, 0, 2, 0, 7, 4, 0, 6, 3, 3, 1, 7, 4, 6, 5, 0, 4, 9, 5, 6, 6, 3, 0, 5, 2, 6, 3, 3, 8, 0, 8, 5, 4, 2, 9, 5, 0, 5, 4, 8, 2, 7, 6, 5, 7, 8, 2, 0, 1, 8, 2, 4, 8, 4, 3, 0, 4, 0, 1, 9, 3, 0, 3, 6, 5, 5, 2, 8, 5, 0, 8, 7, 5, 2, 4, 3, 7, 0, 2, 3, 1, 0, 0, 2, 1, 2, 1, 4, 6, 7, 1, 0, 5, 2, 5, 9, 2, 5, 6, 7, 1, 9, 3, 6, 1, 0, 2, 9, 4, 2, 9, 3, 8, 2, 9, 8, 5, 1, 0, 1, 5, 2, 5, 6, 8, 8, 3, 5, 0, 4, 1, 3, 7, 0, 3, 3, 9, 2, 3, 9, 9, 8, 5, 9, 7, 2, 0, 9, 4, 7, 1, 7, 6, 4, 4, 8, 9, 0, 7, 1, 2, 4, 0, 3, 7, 5, 1, 9, 3, 5, 2, 4, 1, 1, 3, 3, 9, 2, 5, 8, 0, 8, 1, 5, 1, 5, 9, 0, 9, 2, 4, 0, 6, 9, 1, 1, 3, 4, 9, 5, 3, 3, 3, 3, 4, 1, 5, 9, 8, 7, 4, 8, 7, 3, 5, 2, 5, 8, 9, 7, 2, 0, 0, 7, 5, 3, 5, 7, 4, 6, 2, 8, 2, 7, 7, 6, 1, 3, 8, 6, 2, 0, 4, 4, 8, 6, 4, 0, 2, 5, 4, 1, 2, 5, 4, 6, 9, 5, 0, 5, 2, 0, 8, 2, 6, 4, 7, 9, 5, 7, 2, 6, 2, 1, 9, 9, 7, 2, 5, 1, 8, 1, 6, 3, 0, 8, 8, 5, 6, 9, 9, 9, 6, 3, 0, 8, 8, 5, 3, 3, 1, 1, 0, 7, 0, 6, 0, 4, 4, 6, 5, 3, 2, 9, 6, 6, 7, 9, 7, 7, 0, 8, 4, 2, 7, 7, 7, 4, 0, 1, 6, 0, 5, 3, 0, 2, 4, 9, 7, 3, 3, 2, 8, 8, 5, 3, 8, 0, 8, 0, 0, 0, 2, 2, 7, 0, 7, 7, 7, 2, 2, 0, 4, 0, 3, 7, 8, 4, 7, 9, 6, 1, 1, 6, 9, 3, 8, 9, 5, 8, 3, 9, 4, 3, 7, 5, 5, 2, 7, 5, 7, 9, 6, 3, 0, 8, 4, 5, 6, 1, 0, 4, 8, 4, 7, 1, 3, 2, 0, 9, 1, 8, 8, 6, 8, 1, 7, 1, 0, 9, 7, 6, 4, 5, 8, 2, 1, 2, 5, 8, 1, 1, 8, 8, 0, 9, 0, 0, 4, 3, 3, 5, 6, 6, 3, 1, 4, 4, 7, 8, 0, 1, 4, 8, 4, 6, 2, 2, 2, 6, 3, 4, 0, 8, 1, 3, 8, 3, 8, 9, 1, 6, 1, 9, 8, 2, 0, 4, 7, 4, 0, 0, 7, 6, 8, 9, 8, 6, 2, 8, 8, 0, 1, 1, 0, 7, 7, 4, 4, 7, 7, 2, 6, 6, 7, 4, 5, 4, 0, 9, 4, 7, 2, 5, 3, 2, 2, 7, 6, 2, 6, 4, 9, 6, 8, 3, 8, 5, 5, 2, 3, 4, 5, 2, 7, 5, 1, 5, 3, 7, 8, 8, 9, 6, 0, 9, 2, 6, 0, 0, 1, 4, 1, 3, 5, 1, 8, 9, 6, 2, 6, 9, 5, 6, 5, 9, 1, 4, 2, 8, 9, 5, 4, 7, 0, 3, 7, 1, 6, 9, 1, 1, 4, 0, 5, 1, 6, 3, 0, 2, 5, 5, 5, 2, 8, 2, 3, 1, 6, 2, 7, 0, 8, 9, 2, 6, 4, 7, 5, 5, 8, 8, 7, 8, 5, 7, 4, 4, 0, 0, 7, 0, 4, 0, 4, 4, 2, 5, 4, 0, 7, 7, 7, 0, 4, 6, 2, 9, 1, 1, 5, 0, 9, 1, 0, 6, 5, 3, 0, 9, 0, 6, 2, 0, 4, 1, 6, 7, 6, 1, 0, 4, 6, 0, 4, 4, 2, 7, 6, 5, 3, 5, 9, 4, 5, 2, 0, 5, 7, 2, 3, 9, 4, 5, 8, 1, 9, 3, 1, 8, 5, 8, 6, 6, 3, 4, 0, 2, 3, 2, 6, 1, 8, 2, 1, 3, 6, 2, 2, 3, 3, 5, 0, 2, 1, 2, 8, 0, 8, 2, 2, 7, 3, 5, 9, 8, 3, 6, 1, 0, 8, 6, 3, 5, 8, 9, 4, 8, 0, 0, 2, 9, 1, 8, 3, 7, 2, 8, 0, 9, 4, 8, 9, 4, 8, 9, 5, 4, 8, 1, 5, 5, 7, 2, 5, 8, 8, 1, 2, 3, 1, 5, 0, 2, 3, 0, 8, 2, 2, 8, 7, 3, 5, 3, 9, 6, 3, 5, 1, 1, 7, 7, 3, 3, 8, 9, 6, 0, 8, 0, 6, 6, 4, 6, 9, 1, 1, 7, 0, 6, 8, 9, 0, 6, 9, 0, 1, 1, 7, 2, 1, 0, 4, 5, 0, 3, 6, 3, 3, 8, 1, 8, 1, 3, 1, 5, 4, 5, 1, 8, 9, 1, 3, 1, 7, 2, 9, 8, 9, 4, 6, 0, 9, 4, 0, 4, 6, 2, 1, 3, 0, 8, 5, 6, 0, 3, 4, 6, 9, 5, 7, 9, 0, 3, 6, 5, 7, 0, 5, 1, 2, 2, 9, 7, 0, 0, 1, 4, 4, 5, 5, 9, 6, 3, 6, 2, 6, 9, 3, 2, 3, 2, 4, 9, 5, 2, 1, 6, 6, 4, 7, 6, 3, 3, 8, 1, 4, 6, 4, 4, 5, 6, 2, 0, 5, 2, 7, 5, 2, 5, 2, 5, 9, 0, 6, 7, 9, 8, 3, 2, 1, 4, 3, 4, 5, 5, 6, 8, 6, 0, 8, 9, 8, 0, 7, 7, 6, 6, 7, 5, 9, 8, 7, 9, 5, 6, 0, 4, 8, 2, 0, 9, 1, 3, 9, 8, 3, 7, 4, 5, 0, 2, 1, 9, 1, 0, 5, 8, 4, 7, 3, 1, 4, 5, 3, 1, 0, 8, 8, 8, 2, 1, 3, 7, 3, 1, 6, 9, 1, 6, 0, 7, 7, 1, 3, 3, 3, 1, 0, 2, 7, 1, 2, 2, 9, 6, 3, 5, 9, 4, 8, 0, 4, 8, 0, 1, 3, 7, 0, 4, 7, 4, 8, 6, 4, 3, 9, 8, 2, 2, 8, 3, 1, 1, 2, 8, 2, 6, 9, 4, 8, 4, 4, 1, 5, 2, 6, 9, 2, 0, 7, 1, 8, 9, 3, 9, 9, 0, 7, 7, 5, 4, 2, 6, 4, 5, 7, 7, 8, 7, 2, 6, 2, 2, 4, 4, 0, 7, 1, 3, 9, 6, 0, 0, 2, 3, 8, 2, 2, 4, 3, 5, 2, 9, 1, 0, 0, 6, 5, 5, 7, 9, 9, 6, 5, 5, 0, 5, 7, 1, 6, 6, 4, 1, 4, 4, 1, 5, 0, 0, 4, 5, 8, 4, 8, 3, 0, 5, 0, 5, 3, 1, 6, 7, 0, 9, 1, 5, 7, 6, 5, 5, 5, 6, 0, 0, 1, 7, 5, 1, 9, 2, 4, 1, 3, 7, 8, 2, 0, 9, 6, 6, 0, 6, 5, 8, 2, 7, 4, 0, 2, 7, 7, 8, 8, 7, 0, 4, 9, 1, 4, 4, 3, 5, 4, 6, 2, 3, 1, 0, 3, 3, 3, 6, 3, 1, 2, 8, 9, 7, 9, 3, 8, 7, 3, 1, 7, 7, 3, 2, 2, 8, 9, 5, 9, 2, 1, 7, 4, 4, 0, 5, 7, 1, 5, 4, 0, 8, 4, 9, 8, 7, 8, 4, 2, 3, 4, 0, 5, 4, 1, 8, 2, 5, 4, 5, 2, 5, 3, 7, 9, 7, 1, 4, 1, 3, 1, 4, 5, 5, 1, 7, 1, 3, 0, 1, 2, 5, 7, 0, 6, 3, 5, 7, 5, 5, 8, 9, 4, 6, 3, 6, 6, 8, 2, 6, 4, 8, 4, 1, 3, 1, 2, 3, 3, 0, 1, 6, 4, 2, 8, 2, 4, 3, 1, 4, 4, 4, 4, 1, 5, 5, 7, 6, 5, 4, 5, 6, 5, 6, 2, 4, 7, 7, 4, 6, 5, 0, 2, 3, 9, 2, 3, 8, 0, 7, 0, 6, 8, 1, 2, 8, 9, 1, 5, 4, 2, 3, 5, 5, 3, 6, 5, 0, 3, 2, 1, 3, 3, 7, 7, 4, 9, 4, 3, 9, 5, 1, 7, 6, 6, 4, 8, 5, 1, 2, 8, 4, 5, 3, 3, 3, 0, 4, 8, 7, 7, 9, 4, 8, 4, 5, 9, 1, 8, 3, 1, 3, 8, 0, 3, 5, 4, 6, 9, 2, 7, 2, 0, 5, 2, 9, 7, 5, 0, 7, 0, 3, 5, 5, 3, 8, 7, 7, 9, 6, 5, 8, 9, 0, 1, 9, 4, 0, 0, 1, 7, 2, 2, 8, 5, 9, 8, 2, 8, 0, 6, 6, 8, 6, 9, 6, 1, 1, 5, 3, 5, 0, 7, 6, 1, 4, 4, 1, 1, 8, 1, 1, 2, 3, 4, 9, 9, 5, 2, 7, 3, 3, 6, 9, 6, 9, 8, 8, 6, 7, 4, 7, 2, 3, 8, 0, 9, 0, 7, 8, 1, 2, 3, 2, 4, 2, 9, 0, 3, 8, 9, 6, 5, 5, 2, 4, 1, 0, 6, 1, 8, 4, 5, 5, 5, 0, 8, 9, 0, 5, 7, 9, 6, 3, 4, 6, 4, 9, 7, 1, 2, 5, 2, 8, 0, 2, 2, 9, 8, 1, 9, 7, 7, 3, 1, 4, 1, 1, 3, 8, 8, 1, 9, 3, 8, 9, 5, 1, 1, 6, 2, 7, 2, 6, 2, 6, 9, 6, 0, 1, 3, 9, 3, 8, 8, 8, 2, 9, 1, 2, 6, 0, 5, 0, 7, 7, 7, 9, 4, 5, 0, 2, 3, 5, 5, 8, 9, 1, 2, 7, 1, 3, 4, 6, 9, 1, 0, 7, 1, 9, 5, 8, 1, 9, 9, 7, 9, 8, 3, 0, 2, 6, 0, 2, 2, 4, 0, 8, 4, 8, 1, 2, 7, 2, 7, 9, 5, 2, 2, 9, 2, 6, 5, 7, 2, 5, 6, 5, 1, 8, 2, 6, 8, 6, 3, 0, 8, 0, 0, 9, 9, 6, 8, 0, 6, 6, 0, 7, 9, 8, 0, 5, 0, 9, 6, 0, 4, 7, 1, 7, 8, 8, 2, 3, 9, 6, 5, 5, 3, 1, 5, 3, 0, 2, 5, 2, 7, 3, 8, 4, 4, 6, 1, 9, 4, 1, 7, 0, 1, 4, 3, 0, 2, 9, 4, 5, 0, 3, 4, 7, 2, 3, 0, 1, 3, 7, 9, 9, 0, 7, 5, 6, 7, 1, 2, 2, 7, 4, 6, 8, 4, 9, 8, 4, 9, 2, 3, 4, 0, 2, 5, 6, 0, 5, 3, 5, 8, 3, 7, 4, 9, 5, 6, 3, 8, 6, 9, 8, 5, 5, 8, 3, 5, 9, 0, 4, 2, 0, 5, 9, 9, 3, 8, 0, 6, 0, 2, 3, 7, 0, 0, 6, 9, 1, 5, 2, 2, 7, 9, 3, 9, 3, 5, 2, 2, 2, 8, 8, 5, 0, 0, 7, 0, 3, 1, 6, 5, 0, 9, 2, 6, 7, 4, 2, 0, 0, 5, 3, 3, 2, 6, 4, 2, 7, 8, 0, 1, 0, 1, 3, 6, 4, 8, 0, 6, 0, 9, 1, 6, 2, 1, 0, 1, 3, 0, 3, 7, 9, 9, 3, 7, 5, 7, 1, 6, 6, 1, 1, 1, 4, 4, 2, 1, 7, 0, 1, 2, 1, 1, 3, 2, 6, 9, 1, 3, 2, 0, 8, 7, 3, 4, 6, 4, 6, 9, 4, 8, 9, 3, 0, 5, 7, 2, 0, 2, 9, 9, 3, 8, 7, 1, 1, 2, 2, 2, 5, 9, 1, 2, 6, 1, 2, 1, 8, 9, 2, 3, 1, 9, 9, 4, 4, 5, 5, 0, 3, 3, 7, 1, 7, 7, 9, 8, 6, 3, 5, 5, 1, 6, 2, 7, 8, 4, 3, 3, 5, 9, 6, 8, 5, 1, 0, 6, 7, 0, 9, 6, 2, 0, 8, 7, 1, 2, 6, 9, 1, 6, 4, 7, 1, 9, 0, 0, 5, 2, 8, 3, 8, 2, 8, 4, 0, 8, 3, 6, 1, 2, 3, 0, 5, 0, 4, 1, 7, 2, 0, 1, 3, 9, 1, 6, 1, 6, 1, 2, 8, 7, 0, 9, 5, 8, 0, 0, 1, 7, 9, 7, 1, 9, 2, 1, 9, 4, 3, 6, 0, 2, 0, 0, 9, 9, 8, 9, 4, 5, 4, 3, 0, 7, 8, 7, 3, 7, 5, 4, 6, 5, 9, 5, 2, 4, 2, 7, 9, 6, 7, 4, 7, 1, 2, 3, 1, 1, 3, 6, 8, 3, 7, 7, 0, 8, 1, 5, 2, 5, 5, 3, 6, 3, 5, 9, 8, 4, 6, 8, 0, 4, 1, 7, 8, 4, 9, 7, 2, 6, 3, 8, 8, 6, 7, 3, 8, 1, 1, 5, 3, 7, 9, 9, 9, 8, 5, 9, 9, 6, 8, 8, 4, 8, 1, 0, 1, 8, 8, 6, 5, 9, 0, 6, 1, 2, 6, 6, 3, 5, 6, 5, 5, 3, 3, 6, 8, 9, 4, 4, 3, 8, 3, 6, 0, 8, 5, 7, 8, 4, 6, 5, 3, 1, 8, 3, 0, 4, 4, 3, 3, 5, 3, 3, 2, 7, 7, 8, 2, 0, 5, 5, 6, 1, 1, 3, 9, 9, 3, 6, 7, 1, 8, 3, 9, 8, 7, 8, 8, 0, 3, 2, 4, 8, 7, 5, 7, 1, 8, 7, 3, 5, 4, 4, 3, 8, 6, 1, 1, 6, 3, 2, 2, 8, 9, 8, 3, 3, 8, 1, 1, 0, 5, 2, 0, 5, 0, 5, 8, 6, 3, 9, 6, 6, 3, 9, 4, 8, 3, 4, 3, 1, 1, 2, 9, 7, 8, 5, 5, 8, 6, 9, 0, 8, 3, 5, 1, 3, 3, 5, 5, 3, 8, 1, 4, 6, 4, 2, 4, 3, 8, 9, 6, 6, 6, 5, 5, 2, 7, 7, 4, 4, 9, 3, 8, 3, 7, 7, 8, 5, 3, 9, 1, 6, 7, 3, 3, 3, 8, 5, 6, 1, 3, 7, 9, 6, 1, 6, 4, 9, 0, 5, 7, 4, 9, 1, 0, 0, 2, 7, 8, 3, 2, 7, 6, 1, 6, 6, 4, 4, 2, 1, 8, 4, 4, 7, 8, 5, 8, 9, 4, 3, 2, 2, 9, 3, 0, 1, 1, 1, 1, 6, 8, 7, 1, 3, 0, 4, 5, 0, 3, 0, 6, 2, 0, 9, 8, 6, 8, 5, 8, 2, 9, 6, 0, 6, 1, 8, 7, 3, 2, 2, 6, 5, 6, 9, 2, 5, 4, 9, 8, 5, 3, 9, 3, 5, 7, 1, 8, 5, 8, 6, 2, 5, 1, 3, 0, 4, 1, 9, 5, 4, 9, 2, 1, 4, 2, 5, 9, 8, 7, 2, 1, 6, 9, 7, 3, 6, 5, 8, 0, 2, 2, 4, 9, 0, 5, 5, 4, 2, 3, 1, 0, 3, 0, 4, 4, 9, 1, 3, 3, 0, 2, 1, 1, 0, 4, 1, 9, 4, 8, 1, 1, 1, 5, 9, 8, 1, 6, 7, 2, 9, 9, 7, 8, 8, 1, 9, 7, 8, 9, 1, 6, 6, 3, 3, 1, 3, 0, 8, 8, 3, 6, 6, 7, 1, 0, 7, 6, 4, 8, 2, 0, 6, 6, 8, 6, 3, 1, 1, 8, 6, 7, 0, 5, 4, 3, 2, 1, 7, 8, 2, 0, 1, 7, 4, 8, 7, 6, 6, 7, 0, 6, 4, 9, 2, 3, 2, 1, 3, 8, 6, 8, 1, 9, 6, 7, 6, 5, 0, 6, 0, 1, 3, 1, 1, 5, 3, 4, 3, 3, 8, 1, 6, 6, 1, 8, 8, 6, 2, 7, 4, 6, 8, 9, 3, 3, 5, 5, 3, 1, 4, 1, 9, 5, 1, 7, 7, 7, 5, 2, 3, 3, 6, 6, 6, 4, 0, 7, 1, 7, 3, 0, 8, 1, 2, 4, 1, 2, 2, 4, 9, 8, 2, 8, 7, 6, 3, 4, 7, 2, 3, 1, 5, 3, 0, 4, 3, 4, 9, 4, 7, 9, 1, 7, 8, 3, 1, 8, 3, 2, 5, 7, 2, 7, 9, 6, 8, 6, 8, 6, 5, 9, 0, 4, 8, 5, 6, 4, 3, 8, 0, 4, 8, 6, 7, 2, 7, 1, 7, 4, 1, 2, 4, 2, 2, 8, 7, 2, 2, 6, 7, 5, 6, 8, 9, 9, 6, 5, 2, 9, 8, 7, 2, 3, 3, 7, 4, 3, 2, 1, 9, 0, 1, 5, 3, 2, 6, 5, 9, 1, 5, 4, 3, 6, 2, 8, 9, 7, 8, 0, 8, 9, 1, 2, 5, 7, 2, 0, 6, 6, 1, 6, 3, 1, 5, 0, 3, 7, 4, 6, 5, 6, 4, 8, 3, 4, 5, 5, 0, 6, 6, 7, 5, 0, 9, 9, 6, 1, 0, 4, 6, 3, 6, 9, 3, 6, 6, 8, 2, 1, 0, 1, 9, 3, 7, 4, 3, 0, 2, 7, 6, 4, 3, 0, 8, 2, 0, 0, 9, 6, 6, 6, 8, 7, 4, 1, 8, 1, 2, 2, 4, 8, 5, 2, 6, 5, 3, 9, 1, 0, 7, 2, 4, 4, 0, 0, 6, 2, 2, 4, 0, 5, 9, 7, 1, 8, 4, 5, 5, 9, 8, 5, 7, 8, 0, 9, 8, 9, 1, 6, 3, 8, 0, 3, 4, 4, 8, 4, 8, 9, 8, 6, 0, 0, 8, 2, 7, 4, 2, 5, 6, 0, 5, 8, 4, 1, 9, 0, 1, 4, 4, 8, 4, 9, 6, 0, 7, 7, 6, 8, 9, 6, 2, 0, 4, 9, 4, 9, 3, 9, 6, 6, 7, 0, 9, 7, 1, 8, 6, 0, 6, 7, 4, 1, 9, 4, 6, 7, 9, 8, 3, 9, 2, 1, 2, 7, 6, 1, 0, 0, 5, 6, 0, 4, 3, 2, 8, 8, 0, 6, 9, 5, 2, 8, 7, 0, 6, 5, 9, 7, 2, 3, 6, 9, 6, 2, 2, 4, 1, 0, 5, 0, 8, 9, 3, 5, 9, 3, 8, 1, 6, 3, 7, 5, 6, 2, 0, 2, 8, 2, 8, 7, 7, 8, 1, 0, 8, 9, 7, 0, 3, 8, 0, 5, 9, 5, 8, 4, 2, 0, 9, 2, 2, 4, 4, 9, 2, 2, 2, 5, 1, 3, 2, 0, 0, 4, 0, 6, 5, 8, 0, 5, 8, 6, 4, 8, 5, 2, 9, 7, 9, 7, 1, 0, 1, 9, 6, 9, 2, 7, 9, 4, 4, 0, 6, 2, 4, 1, 3, 7, 2, 8, 5, 9, 0, 3, 2, 3, 2, 7, 6, 3, 2, 5, 9, 0, 5, 9, 9, 8, 7, 7, 4, 8, 6, 5, 2, 3, 1, 0, 4, 1, 8, 8, 4, 9, 4, 4, 3, 3, 9, 2, 0, 1, 1, 8, 4, 4, 8, 3, 2, 9, 5, 7, 6, 2, 5, 4, 7, 3, 3, 9, 0, 1, 5, 9, 3, 7, 6, 0, 4, 2, 2, 5, 6, 3, 8, 9, 5, 6, 1, 4, 5, 4, 6, 7, 2, 1, 0, 2, 0, 4, 9, 8, 8, 9, 1, 1, 5, 0, 0, 8, 7, 1, 7, 4, 5, 4, 3, 3, 2, 0, 6, 6, 0, 1, 3, 9, 8, 3, 7, 8, 9, 4, 8, 9, 0, 9, 7, 1, 6, 2, 9, 5, 6, 9, 3, 9, 8, 7, 7, 1, 6, 5, 3, 1, 3, 1, 2, 7, 1, 8, 2, 0, 9, 7, 9, 8, 8, 6, 7, 3, 7, 1, 3, 9, 0, 9, 3, 6, 7, 2, 7, 3, 0, 5, 9, 7, 5, 5, 0, 6, 5, 1, 8, 2, 7, 5, 9, 0, 0, 0, 8, 8, 7, 3, 7, 8, 9, 3, 7, 9, 7, 8, 7, 9, 8, 5, 4, 8, 3, 7, 6, 3, 8, 2, 1, 9, 5, 7, 3, 9, 5, 5, 8, 7, 3, 5, 3, 5, 9, 7, 6, 7, 3, 6, 4, 3, 9, 4, 2, 1, 9, 6, 0, 2, 6, 7, 4, 7, 9, 0, 7, 4, 3, 5, 3, 1, 1, 2, 6, 8, 2, 1, 7, 8, 5, 9, 6, 1, 1, 5, 0, 6, 0, 9, 2, 6, 5, 8, 9, 5, 5, 6, 2, 9, 1, 5, 8, 8, 7, 1, 7, 3, 5, 4, 9, 7, 5, 2, 9, 9, 4, 7, 4, 1, 3, 8, 7, 9, 0, 4, 5, 7, 5, 2, 8, 7, 6, 9, 6, 9, 3, 8, 5, 6, 6, 9, 5, 7, 8, 0, 5, 0, 7, 4, 8, 2, 5, 1, 3, 2, 2, 6, 2, 1, 7, 4, 6, 3, 1, 3, 7, 2, 1, 3, 7, 0, 8, 4, 4, 5, 7, 9, 5, 4, 3, 9, 6, 8, 2, 3, 3, 1, 6, 1, 7, 0, 3, 4, 2, 9, 4, 5, 8, 2, 7, 0, 9, 6, 8, 0, 8, 2, 8, 5, 7, 7, 2, 2, 0, 0, 0, 7, 4, 1, 6, 6, 8, 8, 9, 0, 9, 0, 1, 3, 3, 0, 9, 6, 6, 2, 6, 3, 4, 0, 8, 4, 1, 4, 0, 6, 5, 0, 9, 9, 9, 9, 1, 2, 3, 5, 4, 2, 9, 6, 0, 9, 6, 6, 8, 0, 6, 1, 4, 6, 8, 0, 5, 4, 1, 2, 0, 9, 6, 4, 2, 4, 6, 5, 9, 7, 7, 4, 6, 5, 0, 1, 9, 0, 3, 1, 9, 0, 9, 7, 8, 6, 7, 6, 8, 2, 4, 5, 3, 0, 3, 2, 1, 7, 5, 9, 3, 4, 5, 7, 1, 5, 0, 1, 1, 1, 9, 7, 5, 4, 9, 7, 8, 1, 0, 2, 8, 5, 6, 7, 0, 1, 4, 8, 4, 4, 6, 6, 5, 8, 1, 8, 4, 6, 5, 9, 2, 2, 1, 4, 9, 1, 6, 7, 2, 0, 1, 7, 6, 5, 2, 2, 5, 6, 0, 9, 0, 1, 5, 3, 3, 5, 8, 7, 5, 6, 5, 8, 0, 5, 9, 4, 6, 5, 1, 1, 0, 3, 3, 9, 4, 8, 1, 7, 7, 9, 9, 4, 3, 6, 3, 2, 8, 2, 7, 6, 7, 0, 2, 1, 2, 9, 4, 6, 9, 6, 1, 0, 1, 8, 7, 0, 0, 4, 7, 4, 2, 6, 9, 5, 9, 0, 7, 4, 5, 8, 1, 4, 7, 9, 9, 8, 8, 6, 3, 7, 0, 8, 9, 6, 2, 4, 6, 2, 9, 7, 4, 6, 8, 5, 6, 1, 3, 5, 9, 9, 1, 3, 2, 0, 3, 0, 2, 0, 7, 3, 9, 3, 5, 7, 6, 5, 9, 5, 6, 1, 2, 4, 0, 2, 7, 8, 4, 4, 0, 9, 5, 9, 2, 9, 3, 2, 4, 3, 2, 2, 8, 8, 6, 8, 1, 6, 8, 9, 8, 2, 1, 4, 9, 1, 5, 7, 1, 6, 0, 1, 5, 2, 8, 1, 1, 3, 8, 1, 3, 1, 8, 5, 1, 9, 0, 3, 0, 4, 0, 5, 1, 2, 0, 4, 9, 5, 1, 2, 2, 7, 8, 7, 2, 4, 5, 3, 4, 0, 6, 1, 5, 9, 8, 0, 2, 0, 7, 6, 0, 5, 9, 7, 5, 0, 4, 6, 0, 6, 3, 6, 8, 1, 1, 8, 9, 7, 2, 9, 0, 2, 2, 9, 0, 6, 5, 7, 7, 9, 1, 7, 9, 8, 4, 5, 0, 8, 0, 2, 5, 2, 1, 4, 4, 8, 9, 7, 8, 3, 6, 6, 0, 1, 1, 1, 8, 1, 4, 4, 0, 7, 8, 2, 1, 2, 5, 4, 6, 0, 5, 7, 4, 4, 3, 9, 5, 8, 8, 0, 8, 7, 4, 1, 8, 4, 9, 5, 4, 1, 7, 7, 7, 7, 0, 3, 8, 3, 3, 0, 5, 7, 0, 8, 0, 0, 9, 2, 2, 3, 4, 8, 2, 2, 6, 3, 3, 6, 2, 9, 4, 0, 1, 7, 5, 5, 7, 3, 0, 4, 2, 0, 7, 5, 8, 0, 8, 2, 7, 0, 3, 5, 3, 8, 3, 5, 1, 7]\n",
      "[[158 159 165 ... 124 129 110]\n",
      " [235 231 232 ... 178 191 199]\n",
      " [158 158 139 ...   8   3   7]\n",
      " ...\n",
      " [ 20  19  15 ...  50  53  47]\n",
      " [ 25  15  23 ...  80  81  80]\n",
      " [ 73  98  99 ...  94  58  26]]\n",
      "[158 159 165 ... 124 129 110]\n",
      "3072\n"
     ]
    }
   ],
   "source": [
    "print(test_batch.keys())\n",
    "print(data_batch_1.keys())\n",
    "print(test_batch[b'labels'])\n",
    "print(test_batch[b'data'])\n",
    "print(test_batch[b'data'][0])\n",
    "print(len(test_batch[b'data'][0]))"
   ]
  },
  {
   "cell_type": "code",
   "execution_count": 14,
   "id": "6f69918a",
   "metadata": {
    "scrolled": true
   },
   "outputs": [
    {
     "name": "stdout",
     "output_type": "stream",
     "text": [
      "Кол-во элементов в test_batch   : 10000\n",
      "Кол-во элементов в data_batch_1 : 10000\n",
      "Кол-во элементов в data_batch_2 : 10000\n",
      "Кол-во элементов в data_batch_3 : 10000\n",
      "Кол-во элементов в data_batch_4 : 10000\n",
      "Кол-во элементов в data_batch_5 : 10000\n"
     ]
    }
   ],
   "source": [
    "print(\"Кол-во элементов в test_batch   : {}\".format(len(test_batch[b'labels'])))\n",
    "print(\"Кол-во элементов в data_batch_1 : {}\".format(len(data_batch_1[b'labels'])))\n",
    "print(\"Кол-во элементов в data_batch_2 : {}\".format(len(data_batch_2[b'labels'])))\n",
    "print(\"Кол-во элементов в data_batch_3 : {}\".format(len(data_batch_3[b'labels'])))\n",
    "print(\"Кол-во элементов в data_batch_4 : {}\".format(len(data_batch_4[b'labels'])))\n",
    "print(\"Кол-во элементов в data_batch_5 : {}\".format(len(data_batch_5[b'labels'])))"
   ]
  },
  {
   "cell_type": "code",
   "execution_count": 15,
   "id": "06a7c32a",
   "metadata": {},
   "outputs": [],
   "source": [
    "def append_list_to_list(list1, list2):\n",
    "    for value in list2:\n",
    "        list1.append(value)\n",
    "\n",
    "cifar_train_x_raw = []\n",
    "cifar_train_y     = []\n",
    "\n",
    "append_list_to_list(cifar_train_x_raw, data_batch_1[b'data'])\n",
    "append_list_to_list(cifar_train_x_raw, data_batch_2[b'data'])\n",
    "append_list_to_list(cifar_train_x_raw, data_batch_3[b'data'])\n",
    "append_list_to_list(cifar_train_x_raw, data_batch_4[b'data'])\n",
    "append_list_to_list(cifar_train_x_raw, data_batch_5[b'data'])\n",
    "\n",
    "append_list_to_list(cifar_train_y, data_batch_5[b'labels'])\n",
    "append_list_to_list(cifar_train_y, data_batch_5[b'labels'])\n",
    "append_list_to_list(cifar_train_y, data_batch_5[b'labels'])\n",
    "append_list_to_list(cifar_train_y, data_batch_5[b'labels'])\n",
    "append_list_to_list(cifar_train_y, data_batch_5[b'labels'])\n",
    "\n",
    "cifar_test_x_raw = test_batch[b'data']\n",
    "cifar_test_y     = test_batch[b'labels']"
   ]
  },
  {
   "cell_type": "code",
   "execution_count": 16,
   "id": "b195d739",
   "metadata": {
    "scrolled": false
   },
   "outputs": [
    {
     "name": "stdout",
     "output_type": "stream",
     "text": [
      "Данные для [Обчающая выборка CIFAR-10]\n",
      "Кол-во элементов в датасете : 50000\n",
      "Кол-во атрибутов в элементе : 3072\n",
      "Мин. значение атрибута   : 0\n",
      "Макс. значение атрибута  : 255\n",
      "\n",
      "Данные для [Тестировочная выборка CIFAR-10]\n",
      "Кол-во элементов в датасете : 10000\n",
      "Кол-во атрибутов в элементе : 3072\n",
      "Мин. значение атрибута   : 0\n",
      "Макс. значение атрибута  : 255\n",
      "\n"
     ]
    },
    {
     "data": {
      "image/png": "[encoded data removed]",
      "text/plain": [
       "<Figure size 432x288 with 1 Axes>"
      ]
     },
     "metadata": {
      "needs_background": "light"
     },
     "output_type": "display_data"
    }
   ],
   "source": [
    "analyze(cifar_train_y, cifar_train_x_raw, \"Обчающая выборка CIFAR-10\")\n",
    "analyze(cifar_test_y, cifar_test_x_raw, \"Тестировочная выборка CIFAR-10\")"
   ]
  },
  {
   "cell_type": "code",
   "execution_count": 17,
   "id": "fed38b51",
   "metadata": {
    "scrolled": true
   },
   "outputs": [
    {
     "name": "stdout",
     "output_type": "stream",
     "text": [
      "Данные для [Тестовая выборка CIFAR-10]\n",
      "Кол-во элементов в датасете : 10000\n",
      "Кол-во атрибутов в элементе : 1024\n",
      "Мин. значение атрибута   : 0.0\n",
      "Макс. значение атрибута  : 1.0\n",
      "\n",
      "Размер тестовой выборки  : 10000\n",
      "Размер обучающей выборки : 50000\n",
      "Размер датасета CIFAR-10 : 60000\n"
     ]
    },
    {
     "data": {
      "image/png": "[encoded data removed]",
      "text/plain": [
       "<Figure size 432x288 with 1 Axes>"
      ]
     },
     "metadata": {
      "needs_background": "light"
     },
     "output_type": "display_data"
    }
   ],
   "source": [
    "def conv_cifar(X):\n",
    "    df = np.array(X).astype(np.float32)\n",
    "    result = np.zeros(len(df) * len(df[0])//3, dtype=np.float32)\n",
    "    i = 0\n",
    "    for v in df:\n",
    "        #print(v)\n",
    "        #print(len(v))\n",
    "        for j in range(0, len(v), 3):\n",
    "            #print(j)\n",
    "            result[i] = (v[j] + v[j+1] + v[j+2])/765\n",
    "            i += 1\n",
    "    return np.reshape(result ,(len(df), len(df[0])//3))\n",
    "\n",
    "\n",
    "cifar_test_x  = conv_cifar(cifar_test_x_raw)\n",
    "cifar_train_x = conv_cifar(cifar_train_x_raw)\n",
    "analyze(cifar_test_y,cifar_test_x,\"Тестовая выборка CIFAR-10\")\n",
    "print('Размер тестовой выборки  : {}'.format(len(cifar_test_x)))\n",
    "print('Размер обучающей выборки : {}'.format(len(cifar_train_x)))\n",
    "print('Размер датасета CIFAR-10 : {}'.format(len(cifar_test_x) + len(cifar_train_x)))"
   ]
  },
  {
   "cell_type": "markdown",
   "id": "7463740a",
   "metadata": {},
   "source": [
    "### Персептрон на фреймворке PyTorch"
   ]
  },
  {
   "cell_type": "code",
   "execution_count": 18,
   "id": "88ba5c0c",
   "metadata": {},
   "outputs": [],
   "source": [
    "class PyTorchPerceptron(torch.nn.Module):\n",
    "    def __init__(self, layers=[10], func=torch.nn.Sigmoid(), \n",
    "                 loss_func=torch.nn.functional.binary_cross_entropy_with_logits, \n",
    "                 epochs=10,show_status=False, learning_rate=0.05):\n",
    "        super().__init__()\n",
    "        self.layers=layers\n",
    "        self.func=func\n",
    "        self.epochs=epochs\n",
    "        self.show_status=show_status\n",
    "        self.learning_rate=learning_rate\n",
    "        self.level=0\n",
    "        self.loss_function=loss_func\n",
    "        \n",
    "    def fit(self, X, Y):\n",
    "        self.create_net(X,Y)\n",
    "        \n",
    "        if self.show_status:\n",
    "            self.level = 0\n",
    "            self.status_print(\"Обучение сети:\")\n",
    "            self.level += 1\n",
    "        \n",
    "        self.train(X,Y)\n",
    "        return self\n",
    "    \n",
    "    def status_print(self, msg, level=-1):\n",
    "        if level == -1:\n",
    "            level = self.level\n",
    "        print(\"  \"*level + msg)\n",
    "        \n",
    "    def create_net(self, X,Y):\n",
    "        self.level=0\n",
    "        layers_settings = self.layers.copy()\n",
    "        layers_settings.insert(0, len(X[0]))\n",
    "        layers_settings.append(len(np.unique(Y)))\n",
    "        self.classes_count = layers_settings[-1]\n",
    "        module_layers = []\n",
    "        \n",
    "        if self.show_status:\n",
    "            self.status_print(\"Создание сети :\")\n",
    "            self.level += 1\n",
    "            self.status_print(\"Количество скрытых слоев     : {}\".format(len(layers_settings)-2))\n",
    "            self.status_print(\"Количество входных нейронов  : {}\".format(layers_settings[0]))\n",
    "            self.status_print(\"Koличество выходных нейронов : {}\".format(layers_settings[-1]))\n",
    "            self.status_print(\"Широты скрытых слоев         : {}\".format(self.layers))\n",
    "            self.level -= 1\n",
    "        \n",
    "        for i in range(len(layers_settings)-2):\n",
    "            module_layers.append(torch.nn.Linear(layers_settings[i], layers_settings[i+1]))\n",
    "            module_layers.append(self.func)\n",
    "            \n",
    "        module_layers.append(torch.nn.Linear(layers_settings[-2], layers_settings[-1]))\n",
    "        #module_layers.append(torch.nn.Softmax)\n",
    "        self.net = torch.nn.Sequential(*module_layers)\n",
    "        return self    \n",
    "\n",
    "    def train(self, X, Y):\n",
    "        val_x = torch.tensor(np.array(X).astype(np.float32))\n",
    "        val_y = []\n",
    "        for y in Y:\n",
    "            val = np.zeros(self.classes_count)\n",
    "            for i in range(10):\n",
    "                val[i] = 1 if i == y else 0\n",
    "            val_y.append(val.copy().astype(np.float32))\n",
    "        dataset = torch.utils.data.TensorDataset(val_x,torch.tensor(val_y,dtype=torch.float32))\n",
    "        dataloader = torch.utils.data.DataLoader(dataset,batch_size=16)\n",
    "        optim = torch.optim.Adam(self.net.parameters(),lr=self.learning_rate)\n",
    "        for epoch in range(1, self.epochs+1):\n",
    "            for (x,y) in dataloader:\n",
    "                z = self.net(x)\n",
    "                loss = self.loss_function(z,y)\n",
    "                optim.zero_grad()\n",
    "                loss.backward()\n",
    "                optim.step()\n",
    "            acc = self.score(X,Y)\n",
    "            if self.show_status:\n",
    "                self.status_print(\"[epochs {} in {}] loss : {}, accuracy : {}\".format(epoch, self.epochs,loss,acc))\n",
    "                \n",
    "    def score(self, X, Y):\n",
    "        val_x = torch.tensor(np.array(X).astype(np.float32))\n",
    "        answer = self.net(val_x)\n",
    "        results = [ np.argmax(v.detach().numpy()) for v in self.func(answer)]\n",
    "        total_success = 0\n",
    "        for res, y in zip(results, Y):\n",
    "            if res == y:\n",
    "                total_success += 1\n",
    "        acc = total_success / len(Y)\n",
    "        return acc\n",
    "    def confusion_matrix(self, X, Y):\n",
    "        val_x = torch.tensor(np.array(X).astype(np.float32))\n",
    "        answer = self.net(val_x)\n",
    "        results = [ np.argmax(v.detach().numpy()) for v in self.func(answer)]\n",
    "        matrix = np.zeros((self.classes_count, self.classes_count), dtype=np.int32)\n",
    "        for res, y in zip(results, Y):\n",
    "            matrix[res][y] += 1\n",
    "        return matrix\n",
    "        "
   ]
  },
  {
   "cell_type": "markdown",
   "id": "bf155af4",
   "metadata": {},
   "source": [
    "## Тестирование MNIST\n",
    "## Однослойные персептроны"
   ]
  },
  {
   "cell_type": "markdown",
   "id": "cbacb07a",
   "metadata": {},
   "source": [
    "Сначала возьмём функцию активации Sigmoid, кол-во внутренних слоев: 0"
   ]
  },
  {
   "cell_type": "code",
   "execution_count": 20,
   "id": "67c3158a",
   "metadata": {
    "scrolled": false
   },
   "outputs": [
    {
     "name": "stdout",
     "output_type": "stream",
     "text": [
      "Создание сети :\n",
      "  Количество скрытых слоев     : 0\n",
      "  Количество входных нейронов  : 784\n",
      "  Koличество выходных нейронов : 10\n",
      "  Широты скрытых слоев         : []\n",
      "Обучение сети:\n",
      "  [epochs 1 in 10] loss : 0.17170511186122894, accuracy : 0.8795238095238095\n",
      "  [epochs 2 in 10] loss : 0.2239353358745575, accuracy : 0.8885119047619048\n",
      "  [epochs 3 in 10] loss : 0.1990579515695572, accuracy : 0.8988095238095238\n",
      "  [epochs 4 in 10] loss : 0.283875435590744, accuracy : 0.8944047619047619\n",
      "  [epochs 5 in 10] loss : 0.30625540018081665, accuracy : 0.8998809523809523\n",
      "  [epochs 6 in 10] loss : 0.18032333254814148, accuracy : 0.9003869047619047\n",
      "  [epochs 7 in 10] loss : 0.2552279531955719, accuracy : 0.9007440476190476\n",
      "  [epochs 8 in 10] loss : 0.3135366439819336, accuracy : 0.9023511904761905\n",
      "  [epochs 9 in 10] loss : 0.18056567013263702, accuracy : 0.9063392857142857\n",
      "  [epochs 10 in 10] loss : 0.2632879912853241, accuracy : 0.9059226190476191\n",
      "Точность сети : 0.8844047619047619\n"
     ]
    }
   ],
   "source": [
    "first_null_layered_perceptron = PyTorchPerceptron(show_status=True, layers=[])\n",
    "first_null_layered_perceptron.fit(mnist_train_x, mnist_train_y)\n",
    "print(\"Точность сети : {}\".format(first_null_layered_perceptron.score(mnist_test_x, mnist_test_y)))"
   ]
  },
  {
   "cell_type": "markdown",
   "id": "db82766b",
   "metadata": {},
   "source": [
    "Теперь берём функцию активации ReLU, количество внутренних слоев снова 0"
   ]
  },
  {
   "cell_type": "code",
   "execution_count": 22,
   "id": "a307af20",
   "metadata": {
    "scrolled": true
   },
   "outputs": [
    {
     "name": "stdout",
     "output_type": "stream",
     "text": [
      "Создание сети :\n",
      "  Количество скрытых слоев     : 0\n",
      "  Количество входных нейронов  : 784\n",
      "  Koличество выходных нейронов : 10\n",
      "  Широты скрытых слоев         : []\n",
      "Обучение сети:\n",
      "  [epochs 1 in 10] loss : 0.12866152822971344, accuracy : 0.8301190476190476\n",
      "  [epochs 2 in 10] loss : 0.24102525413036346, accuracy : 0.8341071428571428\n",
      "  [epochs 3 in 10] loss : 0.2727263569831848, accuracy : 0.8383333333333334\n",
      "  [epochs 4 in 10] loss : 0.29467520117759705, accuracy : 0.8324702380952381\n",
      "  [epochs 5 in 10] loss : 0.20955631136894226, accuracy : 0.8452678571428571\n",
      "  [epochs 6 in 10] loss : 0.32948392629623413, accuracy : 0.8454464285714286\n",
      "  [epochs 7 in 10] loss : 0.26337119936943054, accuracy : 0.8566369047619048\n",
      "  [epochs 8 in 10] loss : 0.2981107532978058, accuracy : 0.8558630952380952\n",
      "  [epochs 9 in 10] loss : 0.2557260990142822, accuracy : 0.8539583333333334\n",
      "  [epochs 10 in 10] loss : 0.1730637401342392, accuracy : 0.868452380952381\n",
      "Точность сети : 0.8489285714285715\n"
     ]
    }
   ],
   "source": [
    "second_null_layered_perceptron = PyTorchPerceptron(show_status=True, layers=[], func=torch.nn.ReLU())\n",
    "second_null_layered_perceptron.fit(mnist_train_x, mnist_train_y)\n",
    "print(\"Точность сети : {}\".format(second_null_layered_perceptron.score(mnist_test_x, mnist_test_y)))"
   ]
  },
  {
   "cell_type": "markdown",
   "id": "673ab705",
   "metadata": {},
   "source": [
    "А теперь возьмём функцию активации Tanh, количество внутренних слоев по-прежнему 0"
   ]
  },
  {
   "cell_type": "code",
   "execution_count": 23,
   "id": "6a5570d4",
   "metadata": {
    "scrolled": true
   },
   "outputs": [
    {
     "name": "stdout",
     "output_type": "stream",
     "text": [
      "Создание сети :\n",
      "  Количество скрытых слоев     : 0\n",
      "  Количество входных нейронов  : 784\n",
      "  Koличество выходных нейронов : 10\n",
      "  Широты скрытых слоев         : []\n",
      "Обучение сети:\n",
      "  [epochs 1 in 10] loss : 0.15152916312217712, accuracy : 0.8835119047619048\n",
      "  [epochs 2 in 10] loss : 0.2109663039445877, accuracy : 0.8901488095238095\n",
      "  [epochs 3 in 10] loss : 0.21728532016277313, accuracy : 0.895922619047619\n",
      "  [epochs 4 in 10] loss : 0.25202545523643494, accuracy : 0.8912797619047619\n",
      "  [epochs 5 in 10] loss : 0.323904424905777, accuracy : 0.8919047619047619\n",
      "  [epochs 6 in 10] loss : 0.28189414739608765, accuracy : 0.898154761904762\n",
      "  [epochs 7 in 10] loss : 0.2666753828525543, accuracy : 0.9010416666666666\n",
      "  [epochs 8 in 10] loss : 0.26346808671951294, accuracy : 0.9008630952380953\n",
      "  [epochs 9 in 10] loss : 0.21265295147895813, accuracy : 0.9035416666666667\n",
      "  [epochs 10 in 10] loss : 0.2578279376029968, accuracy : 0.9014285714285715\n",
      "Точность сети : 0.8820238095238095\n"
     ]
    }
   ],
   "source": [
    "third_null_layered_perceptron = PyTorchPerceptron(show_status=True, layers=[], func=torch.nn.Tanh())\n",
    "third_null_layered_perceptron.fit(mnist_train_x, mnist_train_y)\n",
    "print(\"Точность сети : {}\".format(third_null_layered_perceptron.score(mnist_test_x, mnist_test_y)))"
   ]
  },
  {
   "cell_type": "markdown",
   "id": "4dcba522",
   "metadata": {},
   "source": [
    "## Двуслойные персептроны"
   ]
  },
  {
   "cell_type": "markdown",
   "id": "7e897c08",
   "metadata": {},
   "source": [
    "Снова функция активации у нас Tanh, но количество внутренних слоев уже равняется 1, широты : 30"
   ]
  },
  {
   "cell_type": "code",
   "execution_count": 25,
   "id": "683d808d",
   "metadata": {
    "scrolled": false
   },
   "outputs": [
    {
     "name": "stdout",
     "output_type": "stream",
     "text": [
      "Создание сети :\n",
      "  Количество скрытых слоев     : 1\n",
      "  Количество входных нейронов  : 784\n",
      "  Koличество выходных нейронов : 10\n",
      "  Широты скрытых слоев         : [30]\n",
      "Обучение сети:\n",
      "  [epochs 1 in 10] loss : 0.17701363563537598, accuracy : 0.7126488095238095\n",
      "  [epochs 2 in 10] loss : 0.1680801659822464, accuracy : 0.7875297619047619\n",
      "  [epochs 3 in 10] loss : 0.10194732993841171, accuracy : 0.8138095238095238\n",
      "  [epochs 4 in 10] loss : 0.08936329931020737, accuracy : 0.8029464285714286\n",
      "  [epochs 5 in 10] loss : 0.09924523532390594, accuracy : 0.7969047619047619\n",
      "  [epochs 6 in 10] loss : 0.08853836357593536, accuracy : 0.8243452380952381\n",
      "  [epochs 7 in 10] loss : 0.12769243121147156, accuracy : 0.8372619047619048\n",
      "  [epochs 8 in 10] loss : 0.040799032896757126, accuracy : 0.8323214285714285\n",
      "  [epochs 9 in 10] loss : 0.11278947442770004, accuracy : 0.8413988095238095\n",
      "  [epochs 10 in 10] loss : 0.07537073642015457, accuracy : 0.844672619047619\n",
      "Точность сети : 0.8382142857142857\n"
     ]
    }
   ],
   "source": [
    "second_one_layred_perceptron = PyTorchPerceptron(show_status=True, layers=[30], func=torch.nn.Tanh())\n",
    "second_one_layred_perceptron.fit(mnist_train_x, mnist_train_y)\n",
    "print(\"Точность сети : {}\".format(second_one_layred_perceptron.score(mnist_test_x, mnist_test_y)))"
   ]
  },
  {
   "cell_type": "markdown",
   "id": "c0059cfd",
   "metadata": {},
   "source": [
    "Берём функцию активации Sigmoid, ставим количество внутренних слоев - 1, широты : 30"
   ]
  },
  {
   "cell_type": "code",
   "execution_count": 26,
   "id": "5e5b63c8",
   "metadata": {
    "scrolled": true
   },
   "outputs": [
    {
     "name": "stdout",
     "output_type": "stream",
     "text": [
      "Создание сети :\n",
      "  Количество скрытых слоев     : 1\n",
      "  Количество входных нейронов  : 784\n",
      "  Koличество выходных нейронов : 10\n",
      "  Широты скрытых слоев         : [30]\n",
      "Обучение сети:\n",
      "  [epochs 1 in 10] loss : 0.038076251745224, accuracy : 0.8390773809523809\n",
      "  [epochs 2 in 10] loss : 0.08706127107143402, accuracy : 0.8603869047619047\n",
      "  [epochs 3 in 10] loss : 0.09672971814870834, accuracy : 0.8683928571428572\n",
      "  [epochs 4 in 10] loss : 0.06606509536504745, accuracy : 0.8703869047619047\n",
      "  [epochs 5 in 10] loss : 0.03175398334860802, accuracy : 0.8867261904761905\n",
      "  [epochs 6 in 10] loss : 0.04151097312569618, accuracy : 0.8733928571428572\n",
      "  [epochs 7 in 10] loss : 0.10817021131515503, accuracy : 0.8953869047619047\n",
      "  [epochs 8 in 10] loss : 0.030891314148902893, accuracy : 0.8823214285714286\n",
      "  [epochs 9 in 10] loss : 0.05638948827981949, accuracy : 0.8980654761904762\n",
      "  [epochs 10 in 10] loss : 0.033160872757434845, accuracy : 0.8986309523809524\n",
      "Точность сети : 0.8896428571428572\n"
     ]
    }
   ],
   "source": [
    "third_one_layred_perceptron = PyTorchPerceptron(show_status=True, layers=[30])\n",
    "third_one_layred_perceptron.fit(mnist_train_x, mnist_train_y)\n",
    "print(\"Точность сети : {}\".format(third_one_layred_perceptron.score(mnist_test_x, mnist_test_y)))"
   ]
  },
  {
   "cell_type": "markdown",
   "id": "c3acbdf0",
   "metadata": {},
   "source": [
    "## Трехслойные персептроны\n",
    "\n",
    "Функция активации снова Tanh, количество внутренних слоев уже 2, широты : 30, 20"
   ]
  },
  {
   "cell_type": "code",
   "execution_count": 27,
   "id": "5cfd3494",
   "metadata": {},
   "outputs": [
    {
     "name": "stdout",
     "output_type": "stream",
     "text": [
      "Создание сети :\n",
      "  Количество скрытых слоев     : 2\n",
      "  Количество входных нейронов  : 784\n",
      "  Koличество выходных нейронов : 10\n",
      "  Широты скрытых слоев         : [30, 20]\n",
      "Обучение сети:\n",
      "  [epochs 1 in 10] loss : 0.16875746846199036, accuracy : 0.6829464285714286\n",
      "  [epochs 2 in 10] loss : 0.12552401423454285, accuracy : 0.7411607142857143\n",
      "  [epochs 3 in 10] loss : 0.12813590466976166, accuracy : 0.7602083333333334\n",
      "  [epochs 4 in 10] loss : 0.15416832268238068, accuracy : 0.7918154761904762\n",
      "  [epochs 5 in 10] loss : 0.13604335486888885, accuracy : 0.8054166666666667\n",
      "  [epochs 6 in 10] loss : 0.0799979418516159, accuracy : 0.8286011904761905\n",
      "  [epochs 7 in 10] loss : 0.13247689604759216, accuracy : 0.8368452380952381\n",
      "  [epochs 8 in 10] loss : 0.05526542663574219, accuracy : 0.8377678571428572\n",
      "  [epochs 9 in 10] loss : 0.08578087389469147, accuracy : 0.8442261904761905\n",
      "  [epochs 10 in 10] loss : 0.103532575070858, accuracy : 0.8528869047619048\n",
      "Точность сети : 0.8439285714285715\n"
     ]
    }
   ],
   "source": [
    "first_double_layred_perceptron = PyTorchPerceptron(show_status=True, layers=[30, 20])\n",
    "first_double_layred_perceptron.fit(mnist_train_x, mnist_train_y)\n",
    "print(\"Точность сети : {}\".format(first_double_layred_perceptron.score(mnist_test_x, mnist_test_y)))"
   ]
  },
  {
   "cell_type": "markdown",
   "id": "a17aaaf7",
   "metadata": {},
   "source": [
    "Функция активации опять Sigmoid, количество внутренних слоев - 2, широты : 20, 15"
   ]
  },
  {
   "cell_type": "code",
   "execution_count": 28,
   "id": "e4379a01",
   "metadata": {
    "scrolled": true
   },
   "outputs": [
    {
     "name": "stdout",
     "output_type": "stream",
     "text": [
      "Создание сети :\n",
      "  Количество скрытых слоев     : 2\n",
      "  Количество входных нейронов  : 784\n",
      "  Koличество выходных нейронов : 10\n",
      "  Широты скрытых слоев         : [20, 15]\n",
      "Обучение сети:\n",
      "  [epochs 1 in 10] loss : 0.32144081592559814, accuracy : 0.10029761904761905\n",
      "  [epochs 2 in 10] loss : 0.2553577721118927, accuracy : 0.2019642857142857\n",
      "  [epochs 3 in 10] loss : 0.255424439907074, accuracy : 0.2074702380952381\n",
      "  [epochs 4 in 10] loss : 0.24368686974048615, accuracy : 0.4413690476190476\n",
      "  [epochs 5 in 10] loss : 0.1908344030380249, accuracy : 0.6929464285714285\n",
      "  [epochs 6 in 10] loss : 0.14125198125839233, accuracy : 0.7514285714285714\n",
      "  [epochs 7 in 10] loss : 0.12130536884069443, accuracy : 0.8090773809523809\n",
      "  [epochs 8 in 10] loss : 0.13843290507793427, accuracy : 0.8318452380952381\n",
      "  [epochs 9 in 10] loss : 0.14375339448451996, accuracy : 0.8257142857142857\n",
      "  [epochs 10 in 10] loss : 0.14659181237220764, accuracy : 0.8541964285714285\n",
      "Точность сети : 0.8495238095238096\n"
     ]
    }
   ],
   "source": [
    "second_double_layred_perceptron = PyTorchPerceptron(show_status=True, layers=[20, 15])\n",
    "second_double_layred_perceptron.fit(mnist_train_x, mnist_train_y)\n",
    "print(\"Точность сети : {}\".format(second_double_layred_perceptron.score(mnist_test_x, mnist_test_y)))"
   ]
  },
  {
   "cell_type": "markdown",
   "id": "4a76cec1",
   "metadata": {},
   "source": [
    "А теперь возьмём функцию активации Softsign, количество внутренних слоев снова 2, широты : 20, 15"
   ]
  },
  {
   "cell_type": "code",
   "execution_count": 29,
   "id": "2ab5272c",
   "metadata": {
    "scrolled": true
   },
   "outputs": [
    {
     "name": "stdout",
     "output_type": "stream",
     "text": [
      "Создание сети :\n",
      "  Количество скрытых слоев     : 2\n",
      "  Количество входных нейронов  : 784\n",
      "  Koличество выходных нейронов : 10\n",
      "  Широты скрытых слоев         : [20, 15]\n",
      "Обучение сети:\n",
      "  [epochs 1 in 10] loss : 0.15983879566192627, accuracy : 0.7822023809523809\n",
      "  [epochs 2 in 10] loss : 0.19299644231796265, accuracy : 0.8339880952380953\n",
      "  [epochs 3 in 10] loss : 0.10817189514636993, accuracy : 0.8504166666666667\n",
      "  [epochs 4 in 10] loss : 0.15125828981399536, accuracy : 0.8518154761904762\n",
      "  [epochs 5 in 10] loss : 0.08828683942556381, accuracy : 0.8244047619047619\n",
      "  [epochs 6 in 10] loss : 0.13533398509025574, accuracy : 0.8572619047619048\n",
      "  [epochs 7 in 10] loss : 0.10759292542934418, accuracy : 0.8720535714285714\n",
      "  [epochs 8 in 10] loss : 0.100697360932827, accuracy : 0.8613095238095239\n",
      "  [epochs 9 in 10] loss : 0.11770744621753693, accuracy : 0.8833333333333333\n",
      "  [epochs 10 in 10] loss : 0.08938132971525192, accuracy : 0.8744345238095238\n",
      "Точность сети : 0.8710714285714286\n"
     ]
    }
   ],
   "source": [
    "fourth_double_layred_perceptron = PyTorchPerceptron(show_status=True, layers=[20, 15], func=torch.nn.Softsign())\n",
    "fourth_double_layred_perceptron.fit(mnist_train_x, mnist_train_y)\n",
    "print(\"Точность сети : {}\".format(fourth_double_layred_perceptron.score(mnist_test_x, mnist_test_y)))"
   ]
  },
  {
   "cell_type": "markdown",
   "id": "77b4f252",
   "metadata": {},
   "source": [
    "## Тестирование FashionMNIST\n",
    "### Однослойные персептроны\n",
    "Функция активации по-прежнему Softsign, количество внутренних слоев - 0"
   ]
  },
  {
   "cell_type": "code",
   "execution_count": 30,
   "id": "3b78da42",
   "metadata": {},
   "outputs": [
    {
     "name": "stdout",
     "output_type": "stream",
     "text": [
      "Создание сети :\n",
      "  Количество скрытых слоев     : 0\n",
      "  Количество входных нейронов  : 784\n",
      "  Koличество выходных нейронов : 10\n",
      "  Широты скрытых слоев         : []\n",
      "Обучение сети:\n",
      "  [epochs 1 in 25] loss : 0.09184670448303223, accuracy : 0.8298666666666666\n",
      "  [epochs 2 in 25] loss : 0.08367288112640381, accuracy : 0.84175\n",
      "  [epochs 3 in 25] loss : 0.07964090257883072, accuracy : 0.8477833333333333\n",
      "  [epochs 4 in 25] loss : 0.07717395573854446, accuracy : 0.85055\n",
      "  [epochs 5 in 25] loss : 0.07548779249191284, accuracy : 0.8523833333333334\n",
      "  [epochs 6 in 25] loss : 0.07424118369817734, accuracy : 0.8540166666666666\n",
      "  [epochs 7 in 25] loss : 0.07326707243919373, accuracy : 0.8555166666666667\n",
      "  [epochs 8 in 25] loss : 0.07247597724199295, accuracy : 0.8568\n",
      "  [epochs 9 in 25] loss : 0.07181565463542938, accuracy : 0.8576166666666667\n",
      "  [epochs 10 in 25] loss : 0.07125316560268402, accuracy : 0.8583333333333333\n",
      "  [epochs 11 in 25] loss : 0.07076656073331833, accuracy : 0.8588833333333333\n",
      "  [epochs 12 in 25] loss : 0.07034033536911011, accuracy : 0.8593833333333334\n",
      "  [epochs 13 in 25] loss : 0.06996329128742218, accuracy : 0.8599666666666667\n",
      "  [epochs 14 in 25] loss : 0.06962686032056808, accuracy : 0.8604833333333334\n",
      "  [epochs 15 in 25] loss : 0.06932462006807327, accuracy : 0.8608833333333333\n",
      "  [epochs 16 in 25] loss : 0.06905137747526169, accuracy : 0.8613166666666666\n",
      "  [epochs 17 in 25] loss : 0.06880306452512741, accuracy : 0.8618\n",
      "  [epochs 18 in 25] loss : 0.06857632100582123, accuracy : 0.86205\n",
      "  [epochs 19 in 25] loss : 0.06836842745542526, accuracy : 0.86225\n",
      "  [epochs 20 in 25] loss : 0.06817711889743805, accuracy : 0.8625333333333334\n",
      "  [epochs 21 in 25] loss : 0.06800038367509842, accuracy : 0.86275\n",
      "  [epochs 22 in 25] loss : 0.067836694419384, accuracy : 0.8629833333333333\n",
      "  [epochs 23 in 25] loss : 0.06768466532230377, accuracy : 0.86335\n",
      "  [epochs 24 in 25] loss : 0.06754305213689804, accuracy : 0.86345\n",
      "  [epochs 25 in 25] loss : 0.06741083413362503, accuracy : 0.8636166666666667\n",
      "Точность сети : 0.8393\n"
     ]
    }
   ],
   "source": [
    "first_null_layred_fm_perceptron = PyTorchPerceptron(show_status=True, layers=[], func=torch.nn.Softsign(), learning_rate = 0.001, epochs=25)\n",
    "first_null_layred_fm_perceptron.fit(fashion_mnist_train_x, fashion_mnist_train_y)\n",
    "print(\"Точность сети : {}\".format(first_null_layred_fm_perceptron.score(fashion_mnist_test_x, fashion_mnist_test_y)))"
   ]
  },
  {
   "cell_type": "markdown",
   "id": "231b654d",
   "metadata": {},
   "source": [
    "А теперь функция активации - Sigmoid, но количество внутренних слоев снова 0"
   ]
  },
  {
   "cell_type": "code",
   "execution_count": 31,
   "id": "e513ce2c",
   "metadata": {},
   "outputs": [
    {
     "name": "stdout",
     "output_type": "stream",
     "text": [
      "Создание сети :\n",
      "  Количество скрытых слоев     : 0\n",
      "  Количество входных нейронов  : 784\n",
      "  Koличество выходных нейронов : 10\n",
      "  Широты скрытых слоев         : []\n",
      "Обучение сети:\n",
      "  [epochs 1 in 20] loss : 0.0925111249089241, accuracy : 0.8298833333333333\n",
      "  [epochs 2 in 20] loss : 0.08425075560808182, accuracy : 0.84205\n",
      "  [epochs 3 in 20] loss : 0.08015041798353195, accuracy : 0.8474333333333334\n",
      "  [epochs 4 in 20] loss : 0.07761970162391663, accuracy : 0.8502833333333333\n",
      "  [epochs 5 in 20] loss : 0.0758773535490036, accuracy : 0.85225\n",
      "  [epochs 6 in 20] loss : 0.07458319514989853, accuracy : 0.8539166666666667\n",
      "  [epochs 7 in 20] loss : 0.07356967031955719, accuracy : 0.8554166666666667\n",
      "  [epochs 8 in 20] loss : 0.07274599373340607, accuracy : 0.8567333333333333\n",
      "  [epochs 9 in 20] loss : 0.07205836474895477, accuracy : 0.8573833333333334\n",
      "  [epochs 10 in 20] loss : 0.07147298008203506, accuracy : 0.8584666666666667\n",
      "  [epochs 11 in 20] loss : 0.07096676528453827, accuracy : 0.8590833333333333\n",
      "  [epochs 12 in 20] loss : 0.07052372395992279, accuracy : 0.8595666666666667\n",
      "  [epochs 13 in 20] loss : 0.0701320618391037, accuracy : 0.8600833333333333\n",
      "  [epochs 14 in 20] loss : 0.06978287547826767, accuracy : 0.8604833333333334\n",
      "  [epochs 15 in 20] loss : 0.0694693773984909, accuracy : 0.8610166666666667\n",
      "  [epochs 16 in 20] loss : 0.06918615847826004, accuracy : 0.8613166666666666\n",
      "  [epochs 17 in 20] loss : 0.0689290314912796, accuracy : 0.8616\n",
      "  [epochs 18 in 20] loss : 0.06869443506002426, accuracy : 0.8620666666666666\n",
      "  [epochs 19 in 20] loss : 0.06847953796386719, accuracy : 0.86245\n",
      "  [epochs 20 in 20] loss : 0.06828192621469498, accuracy : 0.8626666666666667\n",
      "Точность сети : 0.8392\n"
     ]
    }
   ],
   "source": [
    "second_null_layred_fm_perceptron = PyTorchPerceptron(show_status=True, layers=[], learning_rate = 0.001, epochs=20)\n",
    "second_null_layred_fm_perceptron.fit(fashion_mnist_train_x, fashion_mnist_train_y)\n",
    "print(\"Точность сети : {}\".format(second_null_layred_fm_perceptron.score(fashion_mnist_test_x, fashion_mnist_test_y)))"
   ]
  },
  {
   "cell_type": "markdown",
   "id": "1e33e907",
   "metadata": {},
   "source": [
    "Функция активации теперь Tanh, количество внутренних слоев : 0"
   ]
  },
  {
   "cell_type": "code",
   "execution_count": 32,
   "id": "051d8920",
   "metadata": {},
   "outputs": [
    {
     "name": "stdout",
     "output_type": "stream",
     "text": [
      "Создание сети :\n",
      "  Количество скрытых слоев     : 0\n",
      "  Количество входных нейронов  : 784\n",
      "  Koличество выходных нейронов : 10\n",
      "  Широты скрытых слоев         : []\n",
      "Обучение сети:\n",
      "  [epochs 1 in 10] loss : 0.09171874821186066, accuracy : 0.8295333333333333\n",
      "  [epochs 2 in 10] loss : 0.08374341577291489, accuracy : 0.8423\n",
      "  [epochs 3 in 10] loss : 0.0797809585928917, accuracy : 0.8479333333333333\n",
      "  [epochs 4 in 10] loss : 0.07732633501291275, accuracy : 0.8503\n",
      "  [epochs 5 in 10] loss : 0.07562997192144394, accuracy : 0.85245\n",
      "  [epochs 6 in 10] loss : 0.07436563819646835, accuracy : 0.8536666666666667\n",
      "  [epochs 7 in 10] loss : 0.07337258756160736, accuracy : 0.85565\n",
      "  [epochs 8 in 10] loss : 0.07256375253200531, accuracy : 0.8568333333333333\n",
      "  [epochs 9 in 10] loss : 0.07188756763935089, accuracy : 0.85745\n",
      "  [epochs 10 in 10] loss : 0.07131130993366241, accuracy : 0.8582333333333333\n",
      "Точность сети : 0.837\n"
     ]
    }
   ],
   "source": [
    "second_null_layred_fm_perceptron = PyTorchPerceptron(show_status=True, layers=[], func=torch.nn.Tanh(), learning_rate=0.001)\n",
    "second_null_layred_fm_perceptron.fit(fashion_mnist_train_x, fashion_mnist_train_y)\n",
    "print(\"Точность сети : {}\".format(second_null_layred_fm_perceptron.score(fashion_mnist_test_x, fashion_mnist_test_y)))"
   ]
  },
  {
   "cell_type": "markdown",
   "id": "ec347b60",
   "metadata": {},
   "source": [
    "## Двуслойные персептроны\n",
    "Функция активации : Sigmoid, количество внутренних слоев : 1, широты : 30"
   ]
  },
  {
   "cell_type": "code",
   "execution_count": 33,
   "id": "664961c9",
   "metadata": {},
   "outputs": [
    {
     "name": "stdout",
     "output_type": "stream",
     "text": [
      "Создание сети :\n",
      "  Количество скрытых слоев     : 1\n",
      "  Количество входных нейронов  : 784\n",
      "  Koличество выходных нейронов : 10\n",
      "  Широты скрытых слоев         : [30]\n",
      "Обучение сети:\n",
      "  [epochs 1 in 20] loss : 0.07748822122812271, accuracy : 0.83425\n",
      "  [epochs 2 in 20] loss : 0.06540372222661972, accuracy : 0.8551666666666666\n",
      "  [epochs 3 in 20] loss : 0.05642436072230339, accuracy : 0.8645833333333334\n",
      "  [epochs 4 in 20] loss : 0.048693276941776276, accuracy : 0.8701333333333333\n",
      "  [epochs 5 in 20] loss : 0.04208383709192276, accuracy : 0.8753833333333333\n",
      "  [epochs 6 in 20] loss : 0.038992609828710556, accuracy : 0.8791333333333333\n",
      "  [epochs 7 in 20] loss : 0.036563850939273834, accuracy : 0.882\n",
      "  [epochs 8 in 20] loss : 0.03439778834581375, accuracy : 0.8846666666666667\n",
      "  [epochs 9 in 20] loss : 0.03249048441648483, accuracy : 0.8866\n",
      "  [epochs 10 in 20] loss : 0.030817732214927673, accuracy : 0.8886\n",
      "  [epochs 11 in 20] loss : 0.02940545044839382, accuracy : 0.8899833333333333\n",
      "  [epochs 12 in 20] loss : 0.02823006547987461, accuracy : 0.8911666666666667\n",
      "  [epochs 13 in 20] loss : 0.027265572920441628, accuracy : 0.8928166666666667\n",
      "  [epochs 14 in 20] loss : 0.026431430131196976, accuracy : 0.8941166666666667\n",
      "  [epochs 15 in 20] loss : 0.025685185566544533, accuracy : 0.8954666666666666\n",
      "  [epochs 16 in 20] loss : 0.02501414716243744, accuracy : 0.89655\n",
      "  [epochs 17 in 20] loss : 0.024392496794462204, accuracy : 0.89755\n",
      "  [epochs 18 in 20] loss : 0.023790543898940086, accuracy : 0.8987833333333334\n",
      "  [epochs 19 in 20] loss : 0.02316592074930668, accuracy : 0.8996\n",
      "  [epochs 20 in 20] loss : 0.022487053647637367, accuracy : 0.9006666666666666\n",
      "Точность сети : 0.8679\n"
     ]
    }
   ],
   "source": [
    "first_one_layred_fm_perceptron = PyTorchPerceptron(show_status=True, layers=[30], epochs=20, learning_rate=0.001)\n",
    "first_one_layred_fm_perceptron.fit(fashion_mnist_train_x, fashion_mnist_train_y)\n",
    "print(\"Точность сети : {}\".format(first_one_layred_fm_perceptron.score(fashion_mnist_test_x, fashion_mnist_test_y)))"
   ]
  },
  {
   "cell_type": "markdown",
   "id": "5642151e",
   "metadata": {},
   "source": [
    "Функция активации : Sigmoid, количество внутренних слоев : 1, широты : 50"
   ]
  },
  {
   "cell_type": "code",
   "execution_count": 34,
   "id": "06043465",
   "metadata": {},
   "outputs": [
    {
     "name": "stdout",
     "output_type": "stream",
     "text": [
      "Создание сети :\n",
      "  Количество скрытых слоев     : 1\n",
      "  Количество входных нейронов  : 784\n",
      "  Koличество выходных нейронов : 10\n",
      "  Широты скрытых слоев         : [50]\n",
      "Обучение сети:\n",
      "  [epochs 1 in 20] loss : 0.07173742353916168, accuracy : 0.8422\n",
      "  [epochs 2 in 20] loss : 0.05924806743860245, accuracy : 0.8615\n",
      "  [epochs 3 in 20] loss : 0.04803786799311638, accuracy : 0.871\n",
      "  [epochs 4 in 20] loss : 0.0429396890103817, accuracy : 0.8784666666666666\n",
      "  [epochs 5 in 20] loss : 0.03874620050191879, accuracy : 0.8832666666666666\n",
      "  [epochs 6 in 20] loss : 0.03582490608096123, accuracy : 0.8874\n",
      "  [epochs 7 in 20] loss : 0.03466220572590828, accuracy : 0.8903666666666666\n",
      "  [epochs 8 in 20] loss : 0.03401711583137512, accuracy : 0.8926\n",
      "  [epochs 9 in 20] loss : 0.03308793529868126, accuracy : 0.89465\n",
      "  [epochs 10 in 20] loss : 0.03205915540456772, accuracy : 0.8962666666666667\n",
      "  [epochs 11 in 20] loss : 0.031108003109693527, accuracy : 0.8976833333333334\n",
      "  [epochs 12 in 20] loss : 0.03064872696995735, accuracy : 0.8989333333333334\n",
      "  [epochs 13 in 20] loss : 0.0308246873319149, accuracy : 0.9003833333333333\n",
      "  [epochs 14 in 20] loss : 0.030708253383636475, accuracy : 0.90165\n",
      "  [epochs 15 in 20] loss : 0.03059006668627262, accuracy : 0.9025666666666666\n",
      "  [epochs 16 in 20] loss : 0.0303335078060627, accuracy : 0.9037333333333334\n",
      "  [epochs 17 in 20] loss : 0.02993682399392128, accuracy : 0.9046833333333333\n",
      "  [epochs 18 in 20] loss : 0.02946607396006584, accuracy : 0.9056833333333333\n",
      "  [epochs 19 in 20] loss : 0.028971444815397263, accuracy : 0.9067333333333333\n",
      "  [epochs 20 in 20] loss : 0.02850238047540188, accuracy : 0.90775\n",
      "Точность сети : 0.8694\n"
     ]
    }
   ],
   "source": [
    "second_one_layred_fm_perceptron = PyTorchPerceptron(show_status=True, layers=[50], learning_rate=0.001, epochs=20)\n",
    "second_one_layred_fm_perceptron.fit(fashion_mnist_train_x, fashion_mnist_train_y)\n",
    "print(\"Точность сети : {}\".format(second_one_layred_fm_perceptron.score(fashion_mnist_test_x, fashion_mnist_test_y)))"
   ]
  },
  {
   "cell_type": "markdown",
   "id": "26aec4d0",
   "metadata": {},
   "source": [
    "Функция активации : ReLU, количество внутренних слоев : 1, широты : 100"
   ]
  },
  {
   "cell_type": "code",
   "execution_count": 35,
   "id": "dc8b044d",
   "metadata": {},
   "outputs": [
    {
     "name": "stdout",
     "output_type": "stream",
     "text": [
      "Создание сети :\n",
      "  Количество скрытых слоев     : 1\n",
      "  Количество входных нейронов  : 784\n",
      "  Koличество выходных нейронов : 10\n",
      "  Широты скрытых слоев         : [100]\n",
      "Обучение сети:\n",
      "  [epochs 1 in 20] loss : 0.07133587449789047, accuracy : 0.8287\n",
      "  [epochs 2 in 20] loss : 0.05107247084379196, accuracy : 0.8514166666666667\n",
      "  [epochs 3 in 20] loss : 0.04410821571946144, accuracy : 0.8593333333333333\n",
      "  [epochs 4 in 20] loss : 0.0372810997068882, accuracy : 0.8666833333333334\n",
      "  [epochs 5 in 20] loss : 0.030343320220708847, accuracy : 0.8745333333333334\n",
      "  [epochs 6 in 20] loss : 0.026263248175382614, accuracy : 0.8799666666666667\n",
      "  [epochs 7 in 20] loss : 0.02812732197344303, accuracy : 0.8797\n",
      "  [epochs 8 in 20] loss : 0.027690093964338303, accuracy : 0.8798666666666667\n",
      "  [epochs 9 in 20] loss : 0.029587075114250183, accuracy : 0.8834166666666666\n",
      "  [epochs 10 in 20] loss : 0.02938065305352211, accuracy : 0.8846333333333334\n",
      "  [epochs 11 in 20] loss : 0.028890257701277733, accuracy : 0.8878\n",
      "  [epochs 12 in 20] loss : 0.022098572924733162, accuracy : 0.8904166666666666\n",
      "  [epochs 13 in 20] loss : 0.024465033784508705, accuracy : 0.89185\n",
      "  [epochs 14 in 20] loss : 0.024291956797242165, accuracy : 0.89215\n",
      "  [epochs 15 in 20] loss : 0.023346932604908943, accuracy : 0.8936166666666666\n",
      "  [epochs 16 in 20] loss : 0.02120966464281082, accuracy : 0.89695\n",
      "  [epochs 17 in 20] loss : 0.026650577783584595, accuracy : 0.8940333333333333\n",
      "  [epochs 18 in 20] loss : 0.022306570783257484, accuracy : 0.8983833333333333\n",
      "  [epochs 19 in 20] loss : 0.020326286554336548, accuracy : 0.8995166666666666\n",
      "  [epochs 20 in 20] loss : 0.02184399589896202, accuracy : 0.8993333333333333\n",
      "Точность сети : 0.858\n"
     ]
    }
   ],
   "source": [
    "third_one_layred_fm_perceptron = PyTorchPerceptron(show_status=True, layers=[100], learning_rate=0.001, epochs=20, func=torch.nn.ReLU())\n",
    "third_one_layred_fm_perceptron.fit(fashion_mnist_train_x, fashion_mnist_train_y)\n",
    "print(\"Точность сети : {}\".format(third_one_layred_fm_perceptron.score(fashion_mnist_test_x, fashion_mnist_test_y)))"
   ]
  },
  {
   "cell_type": "markdown",
   "id": "48ba157a",
   "metadata": {},
   "source": [
    "### Тестирование CIFAR-10\n",
    "\n",
    "Функция активации : Tanh, количество внутренних слоев : 1, широты : 1000"
   ]
  },
  {
   "cell_type": "code",
   "execution_count": 36,
   "id": "47359c79",
   "metadata": {
    "scrolled": true
   },
   "outputs": [
    {
     "name": "stdout",
     "output_type": "stream",
     "text": [
      "Создание сети :\n",
      "  Количество скрытых слоев     : 2\n",
      "  Количество входных нейронов  : 1024\n",
      "  Koличество выходных нейронов : 10\n",
      "  Широты скрытых слоев         : [324, 100]\n",
      "Обучение сети:\n",
      "  [epochs 1 in 50] loss : 0.31419816613197327, accuracy : 0.12632\n",
      "  [epochs 2 in 50] loss : 0.31299400329589844, accuracy : 0.14212\n",
      "  [epochs 3 in 50] loss : 0.3138038218021393, accuracy : 0.1445\n",
      "  [epochs 4 in 50] loss : 0.31293925642967224, accuracy : 0.14866\n",
      "  [epochs 5 in 50] loss : 0.3117167353630066, accuracy : 0.15196\n",
      "  [epochs 6 in 50] loss : 0.3091548681259155, accuracy : 0.15388\n",
      "  [epochs 7 in 50] loss : 0.30661776661872864, accuracy : 0.15588\n",
      "  [epochs 8 in 50] loss : 0.30422675609588623, accuracy : 0.15702\n",
      "  [epochs 9 in 50] loss : 0.3032611012458801, accuracy : 0.15924\n",
      "  [epochs 10 in 50] loss : 0.30183711647987366, accuracy : 0.1604\n",
      "  [epochs 11 in 50] loss : 0.3008131682872772, accuracy : 0.16126\n",
      "  [epochs 12 in 50] loss : 0.2998107075691223, accuracy : 0.16232\n",
      "  [epochs 13 in 50] loss : 0.2993115782737732, accuracy : 0.16332\n",
      "  [epochs 14 in 50] loss : 0.29806479811668396, accuracy : 0.16472\n",
      "  [epochs 15 in 50] loss : 0.29739314317703247, accuracy : 0.16618\n",
      "  [epochs 16 in 50] loss : 0.29686209559440613, accuracy : 0.16656\n",
      "  [epochs 17 in 50] loss : 0.2965238690376282, accuracy : 0.16874\n",
      "  [epochs 18 in 50] loss : 0.2956947684288025, accuracy : 0.1691\n",
      "  [epochs 19 in 50] loss : 0.2945251762866974, accuracy : 0.1704\n",
      "  [epochs 20 in 50] loss : 0.29432791471481323, accuracy : 0.1714\n",
      "  [epochs 21 in 50] loss : 0.2945410907268524, accuracy : 0.17304\n",
      "  [epochs 22 in 50] loss : 0.2945247292518616, accuracy : 0.1739\n",
      "  [epochs 23 in 50] loss : 0.2936471998691559, accuracy : 0.17522\n",
      "  [epochs 24 in 50] loss : 0.29203924536705017, accuracy : 0.17662\n",
      "  [epochs 25 in 50] loss : 0.29159143567085266, accuracy : 0.1776\n",
      "  [epochs 26 in 50] loss : 0.2907108664512634, accuracy : 0.17832\n",
      "  [epochs 27 in 50] loss : 0.2904331088066101, accuracy : 0.17952\n",
      "  [epochs 28 in 50] loss : 0.28882667422294617, accuracy : 0.17998\n",
      "  [epochs 29 in 50] loss : 0.28815239667892456, accuracy : 0.1807\n",
      "  [epochs 30 in 50] loss : 0.2874944806098938, accuracy : 0.18168\n",
      "  [epochs 31 in 50] loss : 0.2863294184207916, accuracy : 0.18204\n",
      "  [epochs 32 in 50] loss : 0.2841801643371582, accuracy : 0.183\n",
      "  [epochs 33 in 50] loss : 0.28334593772888184, accuracy : 0.1842\n",
      "  [epochs 34 in 50] loss : 0.2806094288825989, accuracy : 0.18562\n",
      "  [epochs 35 in 50] loss : 0.27896541357040405, accuracy : 0.18652\n",
      "  [epochs 36 in 50] loss : 0.2773507535457611, accuracy : 0.18734\n",
      "  [epochs 37 in 50] loss : 0.2769518196582794, accuracy : 0.18848\n",
      "  [epochs 38 in 50] loss : 0.27547770738601685, accuracy : 0.1898\n",
      "  [epochs 39 in 50] loss : 0.2733115255832672, accuracy : 0.19058\n",
      "  [epochs 40 in 50] loss : 0.2722730040550232, accuracy : 0.19172\n",
      "  [epochs 41 in 50] loss : 0.2716629207134247, accuracy : 0.19266\n",
      "  [epochs 42 in 50] loss : 0.27060753107070923, accuracy : 0.1939\n",
      "  [epochs 43 in 50] loss : 0.26945391297340393, accuracy : 0.1948\n",
      "  [epochs 44 in 50] loss : 0.26807671785354614, accuracy : 0.19594\n",
      "  [epochs 45 in 50] loss : 0.26636892557144165, accuracy : 0.19666\n",
      "  [epochs 46 in 50] loss : 0.2653481662273407, accuracy : 0.19744\n",
      "  [epochs 47 in 50] loss : 0.2633489966392517, accuracy : 0.19864\n",
      "  [epochs 48 in 50] loss : 0.26258668303489685, accuracy : 0.19954\n",
      "  [epochs 49 in 50] loss : 0.26055702567100525, accuracy : 0.20048\n",
      "  [epochs 50 in 50] loss : 0.2584988474845886, accuracy : 0.20144\n"
     ]
    },
    {
     "data": {
      "text/plain": [
       "PyTorchPerceptron(\n",
       "  (func): Tanh()\n",
       "  (net): Sequential(\n",
       "    (0): Linear(in_features=1024, out_features=324, bias=True)\n",
       "    (1): Tanh()\n",
       "    (2): Linear(in_features=324, out_features=100, bias=True)\n",
       "    (3): Tanh()\n",
       "    (4): Linear(in_features=100, out_features=10, bias=True)\n",
       "  )\n",
       ")"
      ]
     },
     "execution_count": 36,
     "metadata": {},
     "output_type": "execute_result"
    }
   ],
   "source": [
    "first_null_cf_perceptron = PyTorchPerceptron(show_status=True, layers=[324, 100], learning_rate=0.0001, epochs=50, func=torch.nn.Tanh())\n",
    "first_null_cf_perceptron.fit(cifar_train_x, cifar_train_y)"
   ]
  },
  {
   "cell_type": "code",
   "execution_count": 37,
   "id": "3efb2693",
   "metadata": {
    "scrolled": true
   },
   "outputs": [
    {
     "name": "stdout",
     "output_type": "stream",
     "text": [
      "Точность сети : 0.4553\n",
      "Confusion matrix :\n",
      "[[430  21  79  29  52  15   7  40  60  24]\n",
      " [ 43 580  39  39  34  37  37  35  61 177]\n",
      " [ 59   8 224  57 105  58  36  43   8   7]\n",
      " [ 21  21 102 346  69 237 131  72  33  31]\n",
      " [ 22  13 142  33 332  55  85  72  12   7]\n",
      " [ 33  17  94 176  83 329  64  66  24  13]\n",
      " [ 30  21 153 118 155  99 553  47  14  28]\n",
      " [ 36  28  91  61 101  80  26 495  20  32]\n",
      " [256 103  43  43  43  40  20  35 698 115]\n",
      " [ 70 188  33  98  26  50  41  95  70 566]]\n"
     ]
    }
   ],
   "source": [
    "print(\"Точность сети : {}\".format(first_null_cf_perceptron.score(cifar_test_x, cifar_test_y)))\n",
    "print(\"Confusion matrix :\")\n",
    "print(first_null_cf_perceptron.confusion_matrix(cifar_test_x, cifar_test_y))"
   ]
  },
  {
   "cell_type": "markdown",
   "id": "ec02129c",
   "metadata": {},
   "source": [
    "Функция активации : Tanh, количество внутренних слоев : 2, широты : 1000"
   ]
  },
  {
   "cell_type": "code",
   "execution_count": 40,
   "id": "b8270468",
   "metadata": {
    "scrolled": true
   },
   "outputs": [
    {
     "name": "stdout",
     "output_type": "stream",
     "text": [
      "Создание сети :\n",
      "  Количество скрытых слоев     : 0\n",
      "  Количество входных нейронов  : 1024\n",
      "  Koличество выходных нейронов : 10\n",
      "  Широты скрытых слоев         : []\n",
      "Обучение сети:\n",
      "  [epochs 1 in 50] loss : 0.3288258910179138, accuracy : 0.12902\n",
      "  [epochs 2 in 50] loss : 0.32856640219688416, accuracy : 0.13546\n",
      "  [epochs 3 in 50] loss : 0.3282984495162964, accuracy : 0.13838\n",
      "  [epochs 4 in 50] loss : 0.3279775083065033, accuracy : 0.1403\n",
      "  [epochs 5 in 50] loss : 0.3276473581790924, accuracy : 0.14204\n",
      "  [epochs 6 in 50] loss : 0.3273269236087799, accuracy : 0.14284\n",
      "  [epochs 7 in 50] loss : 0.3270213007926941, accuracy : 0.14348\n",
      "  [epochs 8 in 50] loss : 0.3267306387424469, accuracy : 0.14454\n",
      "  [epochs 9 in 50] loss : 0.32645338773727417, accuracy : 0.14504\n",
      "  [epochs 10 in 50] loss : 0.3261883556842804, accuracy : 0.14554\n",
      "  [epochs 11 in 50] loss : 0.3259340822696686, accuracy : 0.14602\n",
      "  [epochs 12 in 50] loss : 0.3256896436214447, accuracy : 0.14644\n",
      "  [epochs 13 in 50] loss : 0.32545432448387146, accuracy : 0.1469\n",
      "  [epochs 14 in 50] loss : 0.32522740960121155, accuracy : 0.14726\n",
      "  [epochs 15 in 50] loss : 0.3250083327293396, accuracy : 0.148\n",
      "  [epochs 16 in 50] loss : 0.3247966766357422, accuracy : 0.14882\n",
      "  [epochs 17 in 50] loss : 0.32459205389022827, accuracy : 0.14944\n",
      "  [epochs 18 in 50] loss : 0.3243940770626068, accuracy : 0.14984\n",
      "  [epochs 19 in 50] loss : 0.3242025375366211, accuracy : 0.15064\n",
      "  [epochs 20 in 50] loss : 0.3240170180797577, accuracy : 0.15134\n",
      "  [epochs 21 in 50] loss : 0.3238373398780823, accuracy : 0.1518\n",
      "  [epochs 22 in 50] loss : 0.3236631453037262, accuracy : 0.15208\n",
      "  [epochs 23 in 50] loss : 0.32349419593811035, accuracy : 0.1523\n",
      "  [epochs 24 in 50] loss : 0.3233303129673004, accuracy : 0.15262\n",
      "  [epochs 25 in 50] loss : 0.32317131757736206, accuracy : 0.1527\n",
      "  [epochs 26 in 50] loss : 0.3230169415473938, accuracy : 0.15324\n",
      "  [epochs 27 in 50] loss : 0.3228669762611389, accuracy : 0.15358\n",
      "  [epochs 28 in 50] loss : 0.3227212429046631, accuracy : 0.1538\n",
      "  [epochs 29 in 50] loss : 0.32257962226867676, accuracy : 0.15418\n",
      "  [epochs 30 in 50] loss : 0.32244184613227844, accuracy : 0.15432\n",
      "  [epochs 31 in 50] loss : 0.32230785489082336, accuracy : 0.15458\n",
      "  [epochs 32 in 50] loss : 0.32217738032341003, accuracy : 0.15492\n",
      "  [epochs 33 in 50] loss : 0.32205042243003845, accuracy : 0.15494\n",
      "  [epochs 34 in 50] loss : 0.3219267427921295, accuracy : 0.15518\n",
      "  [epochs 35 in 50] loss : 0.32180625200271606, accuracy : 0.15536\n",
      "  [epochs 36 in 50] loss : 0.32168877124786377, accuracy : 0.15568\n",
      "  [epochs 37 in 50] loss : 0.32157421112060547, accuracy : 0.15576\n",
      "  [epochs 38 in 50] loss : 0.3214625418186188, accuracy : 0.15588\n",
      "  [epochs 39 in 50] loss : 0.32135358452796936, accuracy : 0.15598\n",
      "  [epochs 40 in 50] loss : 0.3212471902370453, accuracy : 0.1564\n",
      "  [epochs 41 in 50] loss : 0.32114338874816895, accuracy : 0.1567\n",
      "  [epochs 42 in 50] loss : 0.321042001247406, accuracy : 0.15698\n",
      "  [epochs 43 in 50] loss : 0.3209429383277893, accuracy : 0.15714\n",
      "  [epochs 44 in 50] loss : 0.3208460807800293, accuracy : 0.15752\n",
      "  [epochs 45 in 50] loss : 0.32075145840644836, accuracy : 0.15774\n",
      "  [epochs 46 in 50] loss : 0.32065892219543457, accuracy : 0.15776\n",
      "  [epochs 47 in 50] loss : 0.3205684423446655, accuracy : 0.15792\n",
      "  [epochs 48 in 50] loss : 0.3204798698425293, accuracy : 0.15804\n",
      "  [epochs 49 in 50] loss : 0.32039323449134827, accuracy : 0.15808\n",
      "  [epochs 50 in 50] loss : 0.3203084468841553, accuracy : 0.15826\n"
     ]
    },
    {
     "data": {
      "text/plain": [
       "PyTorchPerceptron(\n",
       "  (func): Tanh()\n",
       "  (net): Sequential(\n",
       "    (0): Linear(in_features=1024, out_features=10, bias=True)\n",
       "  )\n",
       ")"
      ]
     },
     "execution_count": 40,
     "metadata": {},
     "output_type": "execute_result"
    }
   ],
   "source": [
    "second_null_cf_perceptron = PyTorchPerceptron(show_status=True, layers=[], learning_rate=0.0001, epochs=50, func=torch.nn.Tanh())\n",
    "second_null_cf_perceptron.fit(cifar_train_x, cifar_train_y)"
   ]
  },
  {
   "cell_type": "code",
   "execution_count": 41,
   "id": "243811cd",
   "metadata": {},
   "outputs": [
    {
     "name": "stdout",
     "output_type": "stream",
     "text": [
      "Точность сети : 0.3046\n",
      "Confusion matrix :\n",
      "[[243  25  70  27  46  19  13  35  42  37]\n",
      " [ 55 401  52  73  54  49  77  54  80 152]\n",
      " [  1   1  18   8   9   3   9   4   0   1]\n",
      " [140  93 279 354 271 277 338 165  70  58]\n",
      " [  1   0  18   4  47   6  11  14   0   1]\n",
      " [ 49  68 157 270 159 376 166 143  58  36]\n",
      " [ 11  22  92  32 125  27 220  20   2  25]\n",
      " [ 49  41 113  53 159  97  60 315  10  39]\n",
      " [388 209 162 105  93 108  67 108 661 240]\n",
      " [ 63 140  39  74  37  38  39 142  77 411]]\n"
     ]
    }
   ],
   "source": [
    "print(\"Точность сети : {}\".format(second_null_cf_perceptron.score(cifar_test_x, cifar_test_y)))\n",
    "print(\"Confusion matrix :\")\n",
    "print(second_null_cf_perceptron.confusion_matrix(cifar_test_x, cifar_test_y))"
   ]
  },
  {
   "cell_type": "markdown",
   "id": "bb0a432f",
   "metadata": {},
   "source": [
    "## Выводы\n",
    "\n",
    "### Итоги тестирования\n",
    "\n",
    "Приведем итоговую таблицу тестрования нейросетей различной конфигурации для различных датасетов. \n",
    "\n",
    "| Кол-во слоев | Широты | Фун-я активации | Скорость обучения | Кол-во эпох | Тестовая точность (%) | Датасет |\n",
    "|:-:|:-:|:-:|:-:|:-:|:-:|:-:|\n",
    "| 1| 784| ReLU| 0.05| 10| 88| MNIST |\n",
    "| 1| 784|Tanh| 0.05| 10| 88| MNIST |\n",
    "| 1| 784| Sigmoid| 0.05| 10| 87| MNIST|\n",
    "| 2| 784-30| Tanh| 0.05| 10| 83| MNIST |\n",
    "| 2| 784-30|Sigmoid| 0.05| 10| 88| MNIST|\n",
    "| 3| 784-30-20| Tanh| 0.05| 10| 84| MNIST |\n",
    "| 3| 784-20-15| Sigmoid| 0.05| 10| 84| MNIST |\n",
    "| 3| 784-20-15| Softsign| 0.05| 10| 87| MNIST |\n",
    "| 1| 784 | Softsign| 0.001| 25| 83| FashionMNIST |\n",
    "|1| 784 | Sigmoid | 0.001| 20| 83| FashionMNIST |\n",
    "| 1| 784 | Tanh | 0.001| 10| 83| FashionMNIST |\n",
    "| 2| 784-30 | Sigmoid | 0.001| 20| 86| FashionMNIST |\n",
    "|2| 784-50 | Sigmoid | 0.001| 20| 86| FashionMNIST|\n",
    "| 2| 784-100 | ReLU | 0.001| 20| 85| FashionMNIST |\n",
    "| 1| 1024 | Tanh | 0.0001| 50| 30| CIFAR-10|\n",
    "| 2| 1024-324-100| Tanh | 0.0001| 50| 45| CIFAR-10|\n",
    "\n",
    "Confusion maxtrix "
   ]
  },
  {
   "cell_type": "code",
   "execution_count": 42,
   "id": "7315b3b1",
   "metadata": {
    "scrolled": true
   },
   "outputs": [
    {
     "name": "stdout",
     "output_type": "stream",
     "text": [
      "Confusion matrix MNIST\n",
      "[[800   1  19   7   9  21   9   5  12  14]\n",
      " [  0 896  29  10   5   5   5   6  46   6]\n",
      " [  1   1 671  21   6  10   0   3   4   1]\n",
      " [  2   0  20 777   6  43   1   3  29  11]\n",
      " [  2   0   4   1 678  14   4   4   3   9]\n",
      " [  7   1   3  17   2 535   9   0   9   6]\n",
      " [  8   2  22   7  11  15 829   0   3   0]\n",
      " [  1   0  20  11  12   5   0 800   5  48]\n",
      " [  6   7  31  32   9  84  10   1 713  13]\n",
      " [  2   0   3  13  56  32   0  26  30 710]]\n",
      "\n",
      "Confusion matrix FashionMNIST\n",
      "[[856   4  16  29   0   0 158   0   2   0]\n",
      " [  1 957   0   8   0   0   1   0   0   0]\n",
      " [ 23   4 773  11  89   0 121   0   7   0]\n",
      " [ 34  25  17 893  41   1  43   0   7   0]\n",
      " [  4   6 143  40 830   0 103   0   5   0]\n",
      " [  1   0   1   0   0 938   0  15   3   4]\n",
      " [ 66   3  47  14  36   0 564   0   3   1]\n",
      " [  0   0   0   0   1  34   0 967   3  49]\n",
      " [ 15   1   3   5   3   1  10   0 970   0]\n",
      " [  0   0   0   0   0  26   0  18   0 946]]\n"
     ]
    }
   ],
   "source": [
    "print('Confusion matrix MNIST')\n",
    "print(third_null_layered_perceptron.confusion_matrix(mnist_test_x, mnist_test_y))\n",
    "print()\n",
    "print('Confusion matrix FashionMNIST')\n",
    "print(second_one_layred_fm_perceptron.confusion_matrix(fashion_mnist_test_x, fashion_mnist_test_y))"
   ]
  },
  {
   "cell_type": "markdown",
   "id": "8281beaa",
   "metadata": {},
   "source": [
    "## Вывод\n",
    "Я решил задачу классификации для датасетов MNIST, FashionMNIST и CIFAR-10 с помощью одно-, двух- и трёхслойного персептрона с использованием фреймворка для создания нейросетей PyTorch. \n",
    "Получившаяся нейросеть успешно решает задачу классификации для датасетов MNIST и FashionMNIST с довольно неплохой точностью.\n",
    "\n",
    "Для датасета CIFAR-10 точность не столь высока. Вероятно, стоило бы попробовать свёрточные нейросети, которые могут \"рассмотреть\" более широкую картину."
   ]
  }
 ],
 "metadata": {
  "kernelspec": {
   "display_name": "Python 3",
   "language": "python",
   "name": "python3"
  },
  "language_info": {
   "codemirror_mode": {
    "name": "ipython",
    "version": 3
   },
   "file_extension": ".py",
   "mimetype": "text/x-python",
   "name": "python",
   "nbconvert_exporter": "python",
   "pygments_lexer": "ipython3",
   "version": "3.8.8"
  }
 },
 "nbformat": 4,
 "nbformat_minor": 5
}
