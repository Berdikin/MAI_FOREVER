{
 "cells": [
  {
   "cell_type": "markdown",
   "metadata": {
    "scrolled": true
   },
   "source": [
    "## Лабораторная работа по курсу \\\"Искусственный интеллект\\\"\n",
    "## Многослойный персептрон\n",
    "###  Собственная реализация\n",
    "\n",
    "| Студент | Архипов Максим |\n",
    "|---------|--------|\n",
    "| Группа  | М8О-307Б-18      |"
   ]
  },
  {
   "cell_type": "markdown",
   "metadata": {},
   "source": [
    "## Подключение библиотек\n",
    "\n",
    "Устанавливаем все необходимый библиотеки: pandas, numpy, os, pickle"
   ]
  },
  {
   "cell_type": "code",
   "execution_count": 1,
   "metadata": {
    "scrolled": false
   },
   "outputs": [
    {
     "name": "stdout",
     "output_type": "stream",
     "text": [
      "Requirement already satisfied: pandas in c:\\users\\maxar\\anaconda3\\lib\\site-packages (1.2.4)\n",
      "Requirement already satisfied: numpy>=1.16.5 in c:\\users\\maxar\\anaconda3\\lib\\site-packages (from pandas) (1.19.5)\n",
      "Requirement already satisfied: python-dateutil>=2.7.3 in c:\\users\\maxar\\anaconda3\\lib\\site-packages (from pandas) (2.8.1)\n",
      "Requirement already satisfied: pytz>=2017.3 in c:\\users\\maxar\\anaconda3\\lib\\site-packages (from pandas) (2021.1)\n",
      "Requirement already satisfied: six>=1.5 in c:\\users\\maxar\\anaconda3\\lib\\site-packages (from python-dateutil>=2.7.3->pandas) (1.15.0)\n",
      "Note: you may need to restart the kernel to use updated packages.\n"
     ]
    }
   ],
   "source": [
    "%pip install pandas\n",
    "import pickle\n",
    "import os\n",
    "import numpy as np \n",
    "import matplotlib.pyplot as plt\n",
    "from sklearn.model_selection import train_test_split"
   ]
  },
  {
   "cell_type": "markdown",
   "metadata": {},
   "source": [
    "## Подготовка датасетов\n",
    "Объявим функции для анализа датасетов"
   ]
  },
  {
   "cell_type": "code",
   "execution_count": 2,
   "metadata": {},
   "outputs": [],
   "source": [
    "def count_of_keys(df):\n",
    "    unique = np.unique(df)\n",
    "    counts = np.zeros(len(unique), dtype=np.int32)\n",
    "    for v in df:\n",
    "        counts[v] += 1\n",
    "    return counts\n",
    "def visualization_of_counts(df):\n",
    "    counts = count_of_keys(df)\n",
    "    plt.ylabel(\"Кол-во элементов в классе\")\n",
    "    plt.xlabel(\"Номер каждого класса\")\n",
    "    plt.bar(np.arange(len(counts)), counts)\n",
    "    plt.xticks(np.arange(len(counts)), [i for i in range(len(counts))])\n",
    "def analyze(labels, features, string :str):\n",
    "    visualization_of_counts(labels)\n",
    "    print(\"Данные для [{}]\".format(string))\n",
    "    print(\"Количество элементов в датасете : {}\".format(len(labels)))\n",
    "    print(\"Количество атрибутов в элементе : {}\".format(len(features[0])))\n",
    "    print(\"Минимальное значение атрибута   : {}\".format(np.min(features)))\n",
    "    print(\"Максимальное значение атрибута  : {}\".format(np.max(features)))\n",
    "    print()"
   ]
  },
  {
   "cell_type": "markdown",
   "metadata": {},
   "source": [
    "### MNIST\n",
    "\n",
    "Датасет содержит черно-белые картинки, на которых изображены цифры. "
   ]
  },
  {
   "cell_type": "code",
   "execution_count": 3,
   "metadata": {
    "scrolled": true
   },
   "outputs": [
    {
     "name": "stdout",
     "output_type": "stream",
     "text": [
      "dict_keys(['Train'])\n"
     ]
    }
   ],
   "source": [
    "with open('mnist.pkl', 'rb') as mnist_pickle:\n",
    "    MNIST = pickle.load(mnist_pickle)\n",
    "print(MNIST.keys())"
   ]
  },
  {
   "cell_type": "code",
   "execution_count": 4,
   "metadata": {},
   "outputs": [
    {
     "name": "stdout",
     "output_type": "stream",
     "text": [
      "dict_keys(['Labels', 'Features'])\n"
     ]
    }
   ],
   "source": [
    "print(MNIST['Train'].keys())"
   ]
  },
  {
   "cell_type": "code",
   "execution_count": 5,
   "metadata": {},
   "outputs": [
    {
     "name": "stdout",
     "output_type": "stream",
     "text": [
      "Данные для [MNIST]\n",
      "Количество элементов в датасете : 42000\n",
      "Количество атрибутов в элементе : 784\n",
      "Минимальное значение атрибута   : 0\n",
      "Максимальное значение атрибута  : 255\n",
      "\n",
      "Данные для [Обучающая выборка из MNIST]\n",
      "Количество элементов в датасете : 33600\n",
      "Количество атрибутов в элементе : 784\n",
      "Минимальное значение атрибута   : 0.0\n",
      "Максимальное значение атрибута  : 1.0\n",
      "\n",
      "Данные для [Тестировочная выборка из MNIST]\n",
      "Количество элементов в датасете : 8400\n",
      "Количество атрибутов в элементе : 784\n",
      "Минимальное значение атрибута   : 0.0\n",
      "Максимальное значение атрибута  : 1.0\n",
      "\n"
     ]
    },
    {
     "data": {
      "image/png": "[encoded data removed]",
      "text/plain": [
       "<Figure size 432x288 with 1 Axes>"
      ]
     },
     "metadata": {
      "needs_background": "light"
     },
     "output_type": "display_data"
    }
   ],
   "source": [
    "def conv_df(df):\n",
    "    return np.array(df).astype(np.float32)/255\n",
    "\n",
    "analyze(MNIST['Train']['Labels'], MNIST['Train']['Features'], \"MNIST\")\n",
    "\n",
    "features = conv_df(MNIST['Train']['Features'])\n",
    "labels = MNIST['Train']['Labels']\n",
    "\n",
    "mnist_train_x, mnist_test_x, mnist_train_y, mnist_test_y = train_test_split(features,labels,test_size=0.2)\n",
    "\n",
    "analyze(mnist_train_y, mnist_train_x, \"Обучающая выборка из MNIST\")\n",
    "analyze(mnist_test_y, mnist_test_x, \"Тестировочная выборка из MNIST\")"
   ]
  },
  {
   "cell_type": "markdown",
   "metadata": {},
   "source": [
    "Подготовили датасет для тестирования, приведем его основные размеры"
   ]
  },
  {
   "cell_type": "code",
   "execution_count": 6,
   "metadata": {
    "scrolled": true
   },
   "outputs": [
    {
     "name": "stdout",
     "output_type": "stream",
     "text": [
      "Размер обучающей выборки : 33600\n",
      "Размер тестовой выборки  : 8400\n",
      "Размер датасета MNIST    : 42000\n"
     ]
    }
   ],
   "source": [
    "print(\"Размер обучающей выборки : {}\".format(len(mnist_train_x)))\n",
    "print(\"Размер тестовой выборки  : {}\".format(len(mnist_test_x)))\n",
    "print(\"Размер датасета MNIST    : {}\".format(len(features)))"
   ]
  },
  {
   "cell_type": "markdown",
   "metadata": {},
   "source": [
    "### FashionMNIST"
   ]
  },
  {
   "cell_type": "code",
   "execution_count": 7,
   "metadata": {
    "scrolled": true
   },
   "outputs": [
    {
     "name": "stdout",
     "output_type": "stream",
     "text": [
      "C:\\Users\\maxar\\fashion-mnist\\utils\n",
      "C:\\Users\\maxar\\fashion-mnist\n",
      "C:\\Users\\maxar\n"
     ]
    }
   ],
   "source": [
    "%cd fashion-mnist/utils\n",
    "import mnist_reader\n",
    "%cd ..\n",
    "fashion_mnist_train_x_raw, fashion_mnist_train_y = mnist_reader.load_mnist('data/fashion', kind='train')\n",
    "fashion_mnist_test_x_raw, fashion_mnist_test_y = mnist_reader.load_mnist('data/fashion', kind='t10k')\n",
    "%cd .."
   ]
  },
  {
   "cell_type": "code",
   "execution_count": 8,
   "metadata": {},
   "outputs": [
    {
     "name": "stdout",
     "output_type": "stream",
     "text": [
      "Данные для [Обучающая выборка из Fashion MNIST]\n",
      "Количество элементов в датасете : 60000\n",
      "Количество атрибутов в элементе : 784\n",
      "Минимальное значение атрибута   : 0\n",
      "Максимальное значение атрибута  : 255\n",
      "\n",
      "Данные для [Тестировочная выборка из Fashion MNIST]\n",
      "Количество элементов в датасете : 10000\n",
      "Количество атрибутов в элементе : 784\n",
      "Минимальное значение атрибута   : 0\n",
      "Максимальное значение атрибута  : 255\n",
      "\n"
     ]
    },
    {
     "data": {
      "image/png": "[encoded data removed]",
      "text/plain": [
       "<Figure size 432x288 with 1 Axes>"
      ]
     },
     "metadata": {
      "needs_background": "light"
     },
     "output_type": "display_data"
    }
   ],
   "source": [
    "analyze(fashion_mnist_train_y, fashion_mnist_train_x_raw, \"Обучающая выборка из Fashion MNIST\")\n",
    "analyze(fashion_mnist_test_y, fashion_mnist_test_x_raw, \"Тестировочная выборка из Fashion MNIST\")"
   ]
  },
  {
   "cell_type": "markdown",
   "metadata": {},
   "source": [
    "Так как каждое значение картинки имеет значение от 0 до 255, переведем данные значения в числа с плавающей точкой от 0 до 1."
   ]
  },
  {
   "cell_type": "code",
   "execution_count": 9,
   "metadata": {},
   "outputs": [],
   "source": [
    "fashion_mnist_train_x = conv_df(fashion_mnist_train_x_raw)\n",
    "fashion_mnist_test_x  = conv_df(fashion_mnist_test_x_raw)"
   ]
  },
  {
   "cell_type": "code",
   "execution_count": 10,
   "metadata": {
    "scrolled": true
   },
   "outputs": [
    {
     "name": "stdout",
     "output_type": "stream",
     "text": [
      "[0.         0.         0.         0.         0.         0.\n",
      " 0.         0.         0.         0.         0.         0.\n",
      " 0.         0.         0.         0.         0.         0.\n",
      " 0.         0.         0.         0.         0.         0.\n",
      " 0.         0.         0.         0.         0.         0.\n",
      " 0.         0.         0.         0.         0.         0.\n",
      " 0.         0.         0.         0.         0.         0.\n",
      " 0.         0.         0.         0.         0.         0.\n",
      " 0.         0.         0.         0.         0.         0.\n",
      " 0.         0.         0.         0.         0.         0.\n",
      " 0.         0.         0.         0.         0.         0.\n",
      " 0.         0.         0.         0.         0.         0.\n",
      " 0.         0.         0.         0.         0.         0.\n",
      " 0.         0.         0.         0.         0.         0.\n",
      " 0.         0.         0.         0.         0.         0.\n",
      " 0.         0.         0.         0.         0.         0.\n",
      " 0.00392157 0.         0.         0.05098039 0.28627452 0.\n",
      " 0.         0.00392157 0.01568628 0.         0.         0.\n",
      " 0.         0.00392157 0.00392157 0.         0.         0.\n",
      " 0.         0.         0.         0.         0.         0.\n",
      " 0.         0.         0.         0.         0.01176471 0.\n",
      " 0.14117648 0.53333336 0.49803922 0.24313726 0.21176471 0.\n",
      " 0.         0.         0.00392157 0.01176471 0.01568628 0.\n",
      " 0.         0.01176471 0.         0.         0.         0.\n",
      " 0.         0.         0.         0.         0.         0.\n",
      " 0.         0.         0.02352941 0.         0.4        0.8\n",
      " 0.6901961  0.5254902  0.5647059  0.48235294 0.09019608 0.\n",
      " 0.         0.         0.         0.04705882 0.03921569 0.\n",
      " 0.         0.         0.         0.         0.         0.\n",
      " 0.         0.         0.         0.         0.         0.\n",
      " 0.         0.         0.60784316 0.9254902  0.8117647  0.69803923\n",
      " 0.41960785 0.6117647  0.6313726  0.42745098 0.2509804  0.09019608\n",
      " 0.3019608  0.50980395 0.28235295 0.05882353 0.         0.\n",
      " 0.         0.         0.         0.         0.         0.\n",
      " 0.         0.         0.         0.00392157 0.         0.27058825\n",
      " 0.8117647  0.8745098  0.85490197 0.84705883 0.84705883 0.6392157\n",
      " 0.49803922 0.4745098  0.47843137 0.57254905 0.5529412  0.34509805\n",
      " 0.6745098  0.25882354 0.         0.         0.         0.\n",
      " 0.         0.         0.         0.         0.         0.00392157\n",
      " 0.00392157 0.00392157 0.         0.78431374 0.9098039  0.9098039\n",
      " 0.9137255  0.8980392  0.8745098  0.8745098  0.84313726 0.8352941\n",
      " 0.6431373  0.49803922 0.48235294 0.76862746 0.8980392  0.\n",
      " 0.         0.         0.         0.         0.         0.\n",
      " 0.         0.         0.         0.         0.         0.\n",
      " 0.         0.7176471  0.88235295 0.84705883 0.8745098  0.89411765\n",
      " 0.92156863 0.8901961  0.8784314  0.87058824 0.8784314  0.8666667\n",
      " 0.8745098  0.9607843  0.6784314  0.         0.         0.\n",
      " 0.         0.         0.         0.         0.         0.\n",
      " 0.         0.         0.         0.         0.         0.75686276\n",
      " 0.89411765 0.85490197 0.8352941  0.7764706  0.7058824  0.83137256\n",
      " 0.8235294  0.827451   0.8352941  0.8745098  0.8627451  0.9529412\n",
      " 0.7921569  0.         0.         0.         0.         0.\n",
      " 0.         0.         0.         0.         0.         0.00392157\n",
      " 0.01176471 0.         0.04705882 0.85882354 0.8627451  0.83137256\n",
      " 0.85490197 0.7529412  0.6627451  0.8901961  0.8156863  0.85490197\n",
      " 0.8784314  0.83137256 0.8862745  0.77254903 0.81960785 0.20392157\n",
      " 0.         0.         0.         0.         0.         0.\n",
      " 0.         0.         0.         0.         0.02352941 0.\n",
      " 0.3882353  0.95686275 0.87058824 0.8627451  0.85490197 0.79607844\n",
      " 0.7764706  0.8666667  0.84313726 0.8352941  0.87058824 0.8627451\n",
      " 0.9607843  0.46666667 0.654902   0.21960784 0.         0.\n",
      " 0.         0.         0.         0.         0.         0.\n",
      " 0.         0.01568628 0.         0.         0.21568628 0.9254902\n",
      " 0.89411765 0.9019608  0.89411765 0.9411765  0.9098039  0.8352941\n",
      " 0.85490197 0.8745098  0.91764706 0.8509804  0.8509804  0.81960785\n",
      " 0.36078432 0.         0.         0.         0.00392157 0.01568628\n",
      " 0.02352941 0.02745098 0.00784314 0.         0.         0.\n",
      " 0.         0.         0.92941177 0.8862745  0.8509804  0.8745098\n",
      " 0.87058824 0.85882354 0.87058824 0.8666667  0.84705883 0.8745098\n",
      " 0.8980392  0.84313726 0.85490197 1.         0.3019608  0.\n",
      " 0.         0.01176471 0.         0.         0.         0.\n",
      " 0.         0.         0.         0.24313726 0.5686275  0.8\n",
      " 0.89411765 0.8117647  0.8352941  0.8666667  0.85490197 0.8156863\n",
      " 0.827451   0.85490197 0.8784314  0.8745098  0.85882354 0.84313726\n",
      " 0.8784314  0.95686275 0.62352943 0.         0.         0.\n",
      " 0.         0.         0.07058824 0.17254902 0.32156864 0.41960785\n",
      " 0.7411765  0.89411765 0.8627451  0.87058824 0.8509804  0.8862745\n",
      " 0.78431374 0.8039216  0.827451   0.9019608  0.8784314  0.91764706\n",
      " 0.6901961  0.7372549  0.98039216 0.972549   0.9137255  0.93333334\n",
      " 0.84313726 0.         0.         0.22352941 0.73333335 0.8156863\n",
      " 0.8784314  0.8666667  0.8784314  0.8156863  0.8        0.8392157\n",
      " 0.8156863  0.81960785 0.78431374 0.62352943 0.9607843  0.75686276\n",
      " 0.80784315 0.8745098  1.         1.         0.8666667  0.91764706\n",
      " 0.8666667  0.827451   0.8627451  0.9098039  0.9647059  0.\n",
      " 0.01176471 0.7921569  0.89411765 0.8784314  0.8666667  0.827451\n",
      " 0.827451   0.8392157  0.8039216  0.8039216  0.8039216  0.8627451\n",
      " 0.9411765  0.3137255  0.5882353  1.         0.8980392  0.8666667\n",
      " 0.7372549  0.6039216  0.7490196  0.8235294  0.8        0.81960785\n",
      " 0.87058824 0.89411765 0.88235295 0.         0.38431373 0.9137255\n",
      " 0.7764706  0.8235294  0.87058824 0.8980392  0.8980392  0.91764706\n",
      " 0.9764706  0.8627451  0.7607843  0.84313726 0.8509804  0.94509804\n",
      " 0.25490198 0.28627452 0.41568628 0.45882353 0.65882355 0.85882354\n",
      " 0.8666667  0.84313726 0.8509804  0.8745098  0.8745098  0.8784314\n",
      " 0.8980392  0.11372549 0.29411766 0.8        0.83137256 0.8\n",
      " 0.75686276 0.8039216  0.827451   0.88235295 0.84705883 0.7254902\n",
      " 0.77254903 0.80784315 0.7764706  0.8352941  0.9411765  0.7647059\n",
      " 0.8901961  0.9607843  0.9372549  0.8745098  0.85490197 0.83137256\n",
      " 0.81960785 0.87058824 0.8627451  0.8666667  0.9019608  0.2627451\n",
      " 0.1882353  0.79607844 0.7176471  0.7607843  0.8352941  0.77254903\n",
      " 0.7254902  0.74509805 0.7607843  0.7529412  0.7921569  0.8392157\n",
      " 0.85882354 0.8666667  0.8627451  0.9254902  0.88235295 0.84705883\n",
      " 0.78039217 0.80784315 0.7294118  0.70980394 0.69411767 0.6745098\n",
      " 0.70980394 0.8039216  0.80784315 0.4509804  0.         0.47843137\n",
      " 0.85882354 0.75686276 0.7019608  0.67058825 0.7176471  0.76862746\n",
      " 0.8        0.8235294  0.8352941  0.8117647  0.827451   0.8235294\n",
      " 0.78431374 0.76862746 0.7607843  0.7490196  0.7647059  0.7490196\n",
      " 0.7764706  0.7529412  0.6901961  0.6117647  0.654902   0.69411767\n",
      " 0.8235294  0.36078432 0.         0.         0.2901961  0.7411765\n",
      " 0.83137256 0.7490196  0.6862745  0.6745098  0.6862745  0.70980394\n",
      " 0.7254902  0.7372549  0.7411765  0.7372549  0.75686276 0.7764706\n",
      " 0.8        0.81960785 0.8235294  0.8235294  0.827451   0.7372549\n",
      " 0.7372549  0.7607843  0.7529412  0.84705883 0.6666667  0.\n",
      " 0.00784314 0.         0.         0.         0.25882354 0.78431374\n",
      " 0.87058824 0.92941177 0.9372549  0.9490196  0.9647059  0.9529412\n",
      " 0.95686275 0.8666667  0.8627451  0.75686276 0.7490196  0.7019608\n",
      " 0.7137255  0.7137255  0.70980394 0.6901961  0.6509804  0.65882355\n",
      " 0.3882353  0.22745098 0.         0.         0.         0.\n",
      " 0.         0.         0.         0.         0.         0.15686275\n",
      " 0.23921569 0.17254902 0.28235295 0.16078432 0.13725491 0.\n",
      " 0.         0.         0.         0.         0.         0.\n",
      " 0.         0.         0.         0.         0.         0.\n",
      " 0.         0.         0.         0.         0.         0.\n",
      " 0.         0.         0.         0.         0.         0.\n",
      " 0.         0.         0.         0.         0.         0.\n",
      " 0.         0.         0.         0.         0.         0.\n",
      " 0.         0.         0.         0.         0.         0.\n",
      " 0.         0.         0.         0.         0.         0.\n",
      " 0.         0.         0.         0.         0.         0.\n",
      " 0.         0.         0.         0.         0.         0.\n",
      " 0.         0.         0.         0.         0.         0.\n",
      " 0.         0.         0.         0.        ]\n"
     ]
    }
   ],
   "source": [
    "print(fashion_mnist_train_x[0])"
   ]
  },
  {
   "cell_type": "code",
   "execution_count": 11,
   "metadata": {},
   "outputs": [
    {
     "name": "stdout",
     "output_type": "stream",
     "text": [
      "Размерр датасета Fashion MNIST : 70000\n"
     ]
    }
   ],
   "source": [
    "print(\"Размерр датасета Fashion MNIST : {}\".format(len(fashion_mnist_test_x) + len(fashion_mnist_train_x)))"
   ]
  },
  {
   "cell_type": "markdown",
   "metadata": {},
   "source": [
    "## Нейронная сеть (Перцептрон)\n",
    "\n",
    "### Основные компоненты сети\n",
    "\n",
    "Так как нейронную сеть можно представить в виде последовательности объектов, которые осуществляют взаимодействие межу собой, будем формировать нейросеть из объектов с методами forward и backward. Методы forward будут использоваться для получения результатов от нейросети, т.е. будет осуществляться прямая прогонка, а методы backward - для осуществления обратного прохода, который будет использоваться для обучения сети.\n",
    "\n",
    "Базовую нейросеть можно представить в виде последовательности классов, приведенных ниже"
   ]
  },
  {
   "cell_type": "code",
   "execution_count": 12,
   "metadata": {},
   "outputs": [],
   "source": [
    "class Softmax:\n",
    "    def forward(self,z):\n",
    "        self.z = z\n",
    "        zmax = z.max(axis=1,keepdims=True)\n",
    "        expz = np.exp(z-zmax)\n",
    "        Z = expz.sum(axis=1,keepdims=True)\n",
    "        return expz / Z\n",
    "    def backward(self,dp):\n",
    "        p = self.forward(self.z)\n",
    "        pdp = p * dp\n",
    "        return pdp - p * pdp.sum(axis=1, keepdims=True)\n",
    "    \n",
    "class CrossEntropyLoss:\n",
    "    def forward(self,p,y):\n",
    "        self.p = p\n",
    "        self.y = y\n",
    "        p_of_y = p[np.arange(len(y)), y]\n",
    "        log_prob = np.log(p_of_y)\n",
    "        return -log_prob.mean()\n",
    "    def backward(self,loss):\n",
    "        dlog_softmax = np.zeros_like(self.p)\n",
    "        dlog_softmax[np.arange(len(self.y)), self.y] -= 1.0/len(self.y)\n",
    "        return dlog_softmax / self.p\n",
    "    \n",
    "class Linear:\n",
    "    def __init__(self,nin,nout):\n",
    "        self.W = np.random.normal(0, 1.0/np.sqrt(nin), (nout, nin))\n",
    "        self.b = np.zeros((1,nout))\n",
    "        self.dW = np.zeros_like(self.W)\n",
    "        self.db = np.zeros_like(self.b)\n",
    "        \n",
    "    def forward(self, x):\n",
    "        self.x=x\n",
    "        return np.dot(x, self.W.T) + self.b\n",
    "    \n",
    "    def backward(self, dz):\n",
    "        dx = np.dot(dz, self.W)\n",
    "        dW = np.dot(dz.T, self.x)\n",
    "        db = dz.sum(axis=0)\n",
    "        self.dW = dW\n",
    "        self.db = db\n",
    "        return dx\n",
    "    \n",
    "    def update(self,lr):\n",
    "        self.W -= lr*self.dW\n",
    "        self.b -= lr*self.db\n",
    "\n",
    "class Net:\n",
    "    def __init__(self):\n",
    "        self.layers = []\n",
    "    \n",
    "    def add(self,l):\n",
    "        self.layers.append(l)\n",
    "        \n",
    "    def forward(self,x):\n",
    "        for l in self.layers:\n",
    "            x = l.forward(x)\n",
    "        return x\n",
    "    \n",
    "    def backward(self,z):\n",
    "        for l in self.layers[::-1]:\n",
    "            z = l.backward(z)\n",
    "        return z\n",
    "    \n",
    "    def update(self,lr):\n",
    "        for l in self.layers:\n",
    "            if 'update' in l.__dir__():\n",
    "                l.update(lr)\n",
    "                \n",
    "class Tanh:\n",
    "    def forward(self,x):\n",
    "        y = np.tanh(x)\n",
    "        self.y = y\n",
    "        return y\n",
    "    def backward(self,dy):\n",
    "        return (1.0-self.y**2)*dy\n",
    "    def copy(self):\n",
    "        return Tanh()"
   ]
  },
  {
   "cell_type": "markdown",
   "metadata": {},
   "source": [
    "Реализуем простую обертку над этимb классами, при помощи которой можно будет реализовать многослойный перцептрон, задав всего несколько параметров. Данный класс будет иметь зависимости от класса Net, а саму сеть можно представить следующим образом:\n",
    "\n",
    "\\[Слой нейросети\\] <-> \\[Функция активации\\] <->  ... <-> \\[Функция активации\\] <-> \\[SoftMax\\] <-> \\[Функция ошибки\\] "
   ]
  },
  {
   "cell_type": "markdown",
   "metadata": {},
   "source": [
    "### Класс Perceptron\n",
    "\n",
    "Класс Perceptron имеет множество необязательных аргументов, которые могут быть отрегулированы программистом (Программист может использовать собственные реализации функции активации, функции потерь, функции softmax и функции потерь). Кроме того программист может передать базовый Python список, в котором будут находится широты внутренних слоев нейросети. Таким образом при помощи одного списка задается кол-во скрытых слоев и их конфигурация.\n",
    "\n",
    "Процесс обучения вынесен в отдельную функцию fit (как в sklearn), кроме того пользователь может просто предоставить данные нейросети и сам класс вычислит количество входных и выходных нейронов.\n",
    "\n",
    "Таким образом, чтобы создаь нейроосеть при помощи моего фреймворка достаточно задать широты внутренних нейронов и передать данные для обучения нейросети."
   ]
  },
  {
   "cell_type": "code",
   "execution_count": 33,
   "metadata": {
    "scrolled": true
   },
   "outputs": [],
   "source": [
    "class Perceptron:\n",
    "    def __init__(self, learning_rate=0.1,epochs=10, soft=Softmax(),act_func=Tanh(),\n",
    "                layers=[5], loss_func=CrossEntropyLoss(),show_status=False):\n",
    "        self.learning_rate=learning_rate\n",
    "        self.epochs=epochs\n",
    "        self.softmax=soft\n",
    "        self.act_func=act_func\n",
    "        self.layers=layers\n",
    "        self.loss_function=loss_func\n",
    "        self.show_status=show_status\n",
    "        self.level=0\n",
    "     \n",
    "    def status_print(self, msg, level=-1):\n",
    "        if level == -1:\n",
    "            level = self.level\n",
    "        print(\"  \"*level + msg)\n",
    "    def create_net(self, X, Y):\n",
    "        self.net = Net()\n",
    "        #узнаем ширину слоев нейросети\n",
    "        layers_settings = self.layers.copy()\n",
    "        layers_settings.insert(0, len(X[0]))\n",
    "        layers_settings.append(len(np.unique(Y)))\n",
    "        self.classes_count = layers_settings[-1]\n",
    "        if self.show_status:\n",
    "            self.status_print(\"Создание сети :\")\n",
    "            self.level += 1\n",
    "            self.status_print(\"Количество скрытых слоев     : {}\".format(len(layers_settings)-2))\n",
    "            self.status_print(\"Количество входных нейронов  : {}\".format(layers_settings[0]))\n",
    "            self.status_print(\"Koличество выходных нейронов : {}\".format(layers_settings[-1]))\n",
    "            self.status_print(\"Широты скрытых слоев         : {}\".format(self.layers))\n",
    "            self.level -= 1\n",
    "            \n",
    "        #конфигурация нейросети слоями\n",
    "        for i in range(len(layers_settings)-2):\n",
    "            self.net.add(Linear(layers_settings[i], layers_settings[i+1]))\n",
    "            self.net.add(self.act_func.copy())\n",
    "        #добавляем выходной слой и softmax\n",
    "        self.net.add(Linear(layers_settings[-2], layers_settings[-1]))\n",
    "        self.net.add(self.softmax)\n",
    "        return self    \n",
    "    \n",
    "    # надо как-то обучить перцептрон\n",
    "    def fit(self, X,Y):\n",
    "        #создадим нейросеть\n",
    "        self.create_net(X,Y)\n",
    "        #процесс обучения сети\n",
    "        \n",
    "        if self.show_status:\n",
    "            self.level = 0\n",
    "            self.status_print(\"Обучение сети:\")\n",
    "            self.level += 1\n",
    "            \n",
    "        for epoch in range(1, self.epochs + 1):\n",
    "            \n",
    "            \n",
    "            self.train_epoch(X, Y)\n",
    "            if self.show_status:\n",
    "                self.status_print(\"[epochs {} in {}] loss : {}, accuracy : {}\".format(epoch, self.epochs, *(self.score(X,Y))))\n",
    "        return self\n",
    "\n",
    "    def train_epoch(self, train_x, train_y, batch_size=4):\n",
    "        net = self.net\n",
    "        loss = self.loss_function\n",
    "        lr = self.learning_rate\n",
    "        for i in range(0,len(train_x),batch_size):\n",
    "            xb = train_x[i:i+batch_size]\n",
    "            yb = train_y[i:i+batch_size]\n",
    "\n",
    "            p = net.forward(xb)\n",
    "            l = loss.forward(p,yb)\n",
    "            dp = loss.backward(l)\n",
    "            dx = net.backward(dp)\n",
    "            net.update(lr)  \n",
    "\n",
    "    #вычисление вроятнсотей принадлжения каждому возможному классу\n",
    "    def predict_prob(self, X):\n",
    "        return self.net.forward(X)\n",
    "    \n",
    "    #выдаем наиболее вероятный класс (его номер)\n",
    "    def predict(self, X):\n",
    "        return np.argmax(self.predict_prob(X))\n",
    "    \n",
    "    def score(self, X,Y, calculate_confusion_matrix=False):\n",
    "        p = self.net.forward(X)\n",
    "        l = self.loss_function.forward(p,Y)\n",
    "        pred = np.argmax(p,axis=1)\n",
    "        acc = (pred==Y).mean()\n",
    "        confusion_matrix=[]\n",
    "        if calculate_confusion_matrix:\n",
    "            confusion_matrix = np.zeros((self.classes_count, self.classes_count), dtype=np.int32)\n",
    "            for prd, act in zip (pred, Y):\n",
    "                confusion_matrix[prd][act] += 1\n",
    "        return l,acc, confusion_matrix"
   ]
  },
  {
   "cell_type": "markdown",
   "metadata": {},
   "source": [
    "## Тестирование"
   ]
  },
  {
   "cell_type": "markdown",
   "metadata": {},
   "source": [
    "### Теститрование на датасете MNIST\n",
    "Конфигурировать сети будем внутренними слоями с различными широтами."
   ]
  },
  {
   "cell_type": "markdown",
   "metadata": {},
   "source": [
    "#### Однослойный перцептрон #### "
   ]
  },
  {
   "cell_type": "code",
   "execution_count": 51,
   "metadata": {
    "scrolled": true
   },
   "outputs": [
    {
     "name": "stdout",
     "output_type": "stream",
     "text": [
      "Создание сети :\n",
      "  Количество скрытых слоев     : 0\n",
      "  Количество входных нейронов  : 784\n",
      "  Koличество выходных нейронов : 10\n",
      "  Широты скрытых слоев         : []\n",
      "Обучение сети:\n",
      "  [epochs 1 из 10] loss : 0.3572951412042933, accuracy : 0.895625\n",
      "  [epochs 2 из 10] loss : 0.3415241331232222, accuracy : 0.8997916666666667\n",
      "  [epochs 3 из 10] loss : 0.33266670111029895, accuracy : 0.9025297619047619\n",
      "  [epochs 4 из 10] loss : 0.3261046519579691, accuracy : 0.9044642857142857\n",
      "  [epochs 5 из 10] loss : 0.32069295633359335, accuracy : 0.9055059523809523\n",
      "  [epochs 6 из 10] loss : 0.3160060408694578, accuracy : 0.9072321428571428\n",
      "  [epochs 7 из 10] loss : 0.31187458258432665, accuracy : 0.9084523809523809\n",
      "  [epochs 8 из 10] loss : 0.3082077613959073, accuracy : 0.9096726190476191\n",
      "  [epochs 9 из 10] loss : 0.3049375070337054, accuracy : 0.9102083333333333\n",
      "  [epochs 10 из 10] loss : 0.3020058530851038, accuracy : 0.9107142857142857\n"
     ]
    }
   ],
   "source": [
    "null_layered_perceptron = Perceptron(show_status=True, layers=[]).fit(mnist_train_x, mnist_train_y)"
   ]
  },
  {
   "cell_type": "code",
   "execution_count": 52,
   "metadata": {},
   "outputs": [
    {
     "name": "stdout",
     "output_type": "stream",
     "text": [
      "Точность сети : 0.8936904761904761\n"
     ]
    }
   ],
   "source": [
    "print(\"Точность сети : {}\".format(null_layered_perceptron.score(mnist_test_x, mnist_test_y)[1]))"
   ]
  },
  {
   "cell_type": "markdown",
   "metadata": {},
   "source": [
    "#### Двуслойные перцептроны #### \n",
    "5 нейроного на скрытом слое"
   ]
  },
  {
   "cell_type": "code",
   "execution_count": 53,
   "metadata": {},
   "outputs": [
    {
     "name": "stdout",
     "output_type": "stream",
     "text": [
      "Создание сети :\n",
      "  Количество скрытых слоев     : 1\n",
      "  Количество входных нейронов  : 784\n",
      "  Koличество выходных нейронов : 10\n",
      "  Широты скрытых слоев         : [5]\n",
      "Обучение сети:\n",
      "  [epochs 1 из 10] loss : 0.6049979556923716, accuracy : 0.8274404761904762\n",
      "  [epochs 2 из 10] loss : 0.6397010810437083, accuracy : 0.8080952380952381\n",
      "  [epochs 3 из 10] loss : 0.5552147930194908, accuracy : 0.8392261904761905\n",
      "  [epochs 4 из 10] loss : 0.542044987939944, accuracy : 0.853125\n",
      "  [epochs 5 из 10] loss : 0.5597653292278136, accuracy : 0.8482440476190476\n",
      "  [epochs 6 из 10] loss : 0.5512255777228657, accuracy : 0.8506845238095239\n",
      "  [epochs 7 из 10] loss : 0.5141884290155895, accuracy : 0.8653571428571428\n",
      "  [epochs 8 из 10] loss : 0.5292619002175429, accuracy : 0.8571130952380952\n",
      "  [epochs 9 из 10] loss : 0.538738844943258, accuracy : 0.859672619047619\n",
      "  [epochs 10 из 10] loss : 0.5438274483253672, accuracy : 0.8563988095238095\n"
     ]
    }
   ],
   "source": [
    "first_one_layered_perceptron = Perceptron(show_status=True).fit(mnist_train_x, mnist_train_y)"
   ]
  },
  {
   "cell_type": "code",
   "execution_count": 54,
   "metadata": {},
   "outputs": [
    {
     "name": "stdout",
     "output_type": "stream",
     "text": [
      "Точность сети : 0.8455952380952381\n"
     ]
    }
   ],
   "source": [
    "print(\"Точность сети : {}\".format(first_one_layered_perceptron.score(mnist_test_x, mnist_test_y)[1]))"
   ]
  },
  {
   "cell_type": "markdown",
   "metadata": {},
   "source": [
    "25 нейронов на скрытом слое"
   ]
  },
  {
   "cell_type": "code",
   "execution_count": 55,
   "metadata": {
    "scrolled": true
   },
   "outputs": [
    {
     "name": "stdout",
     "output_type": "stream",
     "text": [
      "Создание сети :\n",
      "  Количество скрытых слоев     : 1\n",
      "  Количество входных нейронов  : 784\n",
      "  Koличество выходных нейронов : 10\n",
      "  Широты скрытых слоев         : [25]\n",
      "Обучение сети:\n",
      "  [epochs 1 из 10] loss : 0.2662705318624014, accuracy : 0.9195535714285714\n",
      "  [epochs 2 из 10] loss : 0.20534541601252232, accuracy : 0.937202380952381\n",
      "  [epochs 3 из 10] loss : 0.1654050339950967, accuracy : 0.9491964285714286\n",
      "  [epochs 4 из 10] loss : 0.16410967932914244, accuracy : 0.9490773809523809\n",
      "  [epochs 5 из 10] loss : 0.13315756153281705, accuracy : 0.9586607142857143\n",
      "  [epochs 6 из 10] loss : 0.13465463395068042, accuracy : 0.9588988095238096\n",
      "  [epochs 7 из 10] loss : 0.12001825440164193, accuracy : 0.9627678571428572\n",
      "  [epochs 8 из 10] loss : 0.11268235547629385, accuracy : 0.9649107142857143\n",
      "  [epochs 9 из 10] loss : 0.13478284291044051, accuracy : 0.9587202380952381\n",
      "  [epochs 10 из 10] loss : 0.09755938263835577, accuracy : 0.97\n",
      "Точность сети : 0.9478571428571428\n"
     ]
    }
   ],
   "source": [
    "third_one_layered_perceptron = Perceptron(show_status=True, layers=[25]).fit(mnist_train_x, mnist_train_y)\n",
    "print(\"Точность сети : {}\".format(third_one_layered_perceptron.score(mnist_test_x, mnist_test_y)[1]))"
   ]
  },
  {
   "cell_type": "markdown",
   "metadata": {},
   "source": [
    "100 нейронов на скрытом слое"
   ]
  },
  {
   "cell_type": "code",
   "execution_count": 56,
   "metadata": {},
   "outputs": [
    {
     "name": "stdout",
     "output_type": "stream",
     "text": [
      "Создание сети :\n",
      "  Количество скрытых слоев     : 1\n",
      "  Количество входных нейронов  : 784\n",
      "  Koличество выходных нейронов : 10\n",
      "  Широты скрытых слоев         : [100]\n",
      "Обучение сети:\n",
      "  [epochs 1 из 10] loss : 0.15420821713693963, accuracy : 0.9536607142857143\n",
      "  [epochs 2 из 10] loss : 0.11065692648764115, accuracy : 0.9644940476190477\n",
      "  [epochs 3 из 10] loss : 0.0848903263182959, accuracy : 0.9726785714285714\n",
      "  [epochs 4 из 10] loss : 0.10741965814716395, accuracy : 0.9638988095238096\n",
      "  [epochs 5 из 10] loss : 0.07240759584591633, accuracy : 0.9761309523809524\n",
      "  [epochs 6 из 10] loss : 0.05432748434223256, accuracy : 0.9813095238095239\n",
      "  [epochs 7 из 10] loss : 0.058686769571296676, accuracy : 0.9803273809523809\n",
      "  [epochs 8 из 10] loss : 0.0640232011558299, accuracy : 0.978452380952381\n",
      "  [epochs 9 из 10] loss : 0.03688543241680647, accuracy : 0.9878869047619048\n",
      "  [epochs 10 из 10] loss : 0.03770413847474852, accuracy : 0.9869940476190476\n",
      "Точность сети : 0.960952380952381\n"
     ]
    }
   ],
   "source": [
    "fourth_one_layered_perceptron = Perceptron(show_status=True, layers=[100]).fit(mnist_train_x, mnist_train_y)\n",
    "print(\"Точность сети : {}\".format(fourth_one_layered_perceptron.score(mnist_test_x, mnist_test_y)[1]))"
   ]
  },
  {
   "cell_type": "markdown",
   "metadata": {},
   "source": [
    "#### Трехслойные перцептроны #### "
   ]
  },
  {
   "cell_type": "markdown",
   "metadata": {},
   "source": [
    "Внутренние слои шириной 5 и 15"
   ]
  },
  {
   "cell_type": "code",
   "execution_count": 57,
   "metadata": {
    "scrolled": false
   },
   "outputs": [
    {
     "name": "stdout",
     "output_type": "stream",
     "text": [
      "Создание сети :\n",
      "  Количество скрытых слоев     : 2\n",
      "  Количество входных нейронов  : 784\n",
      "  Koличество выходных нейронов : 10\n",
      "  Широты скрытых слоев         : [5, 15]\n",
      "Обучение сети:\n",
      "  [epochs 1 из 10] loss : 0.6137674180944568, accuracy : 0.832202380952381\n",
      "  [epochs 2 из 10] loss : 0.6109061066619521, accuracy : 0.8259821428571429\n",
      "  [epochs 3 из 10] loss : 0.5891703263112175, accuracy : 0.8269047619047619\n",
      "  [epochs 4 из 10] loss : 0.5934934265228707, accuracy : 0.8376785714285714\n",
      "  [epochs 5 из 10] loss : 0.5390127405982577, accuracy : 0.8536904761904762\n",
      "  [epochs 6 из 10] loss : 0.5263869963012194, accuracy : 0.8521726190476191\n",
      "  [epochs 7 из 10] loss : 0.5316966174547577, accuracy : 0.8532440476190476\n",
      "  [epochs 8 из 10] loss : 0.6275684581784612, accuracy : 0.8181547619047619\n",
      "  [epochs 9 из 10] loss : 0.5284158253966577, accuracy : 0.8535714285714285\n",
      "  [epochs 10 из 10] loss : 0.5513914867645536, accuracy : 0.846220238095238\n",
      "Точность сети : 0.8444047619047619\n"
     ]
    }
   ],
   "source": [
    "first_double_layered_perceptron = Perceptron(show_status=True, layers=[5,15]).fit(mnist_train_x, mnist_train_y)\n",
    "print(\"Точность сети : {}\".format(first_double_layered_perceptron.score(mnist_test_x, mnist_test_y)[1]))"
   ]
  },
  {
   "cell_type": "markdown",
   "metadata": {},
   "source": [
    "Внутренние слои шириной 15 и 10"
   ]
  },
  {
   "cell_type": "code",
   "execution_count": 58,
   "metadata": {},
   "outputs": [
    {
     "name": "stdout",
     "output_type": "stream",
     "text": [
      "Создание сети :\n",
      "  Количество скрытых слоев     : 2\n",
      "  Количество входных нейронов  : 784\n",
      "  Koличество выходных нейронов : 10\n",
      "  Широты скрытых слоев         : [20, 10]\n",
      "Обучение сети:\n",
      "  [epochs 1 из 10] loss : 0.3077395908490261, accuracy : 0.9107440476190476\n",
      "  [epochs 2 из 10] loss : 0.2920944468042885, accuracy : 0.9158630952380953\n",
      "  [epochs 3 из 10] loss : 0.2804298223343153, accuracy : 0.917172619047619\n",
      "  [epochs 4 из 10] loss : 0.26987373314155805, accuracy : 0.9199702380952381\n",
      "  [epochs 5 из 10] loss : 0.253315154021473, accuracy : 0.9279464285714286\n",
      "  [epochs 6 из 10] loss : 0.21430587498681758, accuracy : 0.9389583333333333\n",
      "  [epochs 7 из 10] loss : 0.22883554554191815, accuracy : 0.9358928571428572\n",
      "  [epochs 8 из 10] loss : 0.20960353822580768, accuracy : 0.9413690476190476\n",
      "  [epochs 9 из 10] loss : 0.24908818689930495, accuracy : 0.9282440476190477\n",
      "  [epochs 10 из 10] loss : 0.22408321147901297, accuracy : 0.9367559523809523\n",
      "Точность сети : 0.9203571428571429\n"
     ]
    }
   ],
   "source": [
    "third_double_layered_perceptron = Perceptron(show_status=True, layers=[20,10]).fit(mnist_train_x, mnist_train_y)\n",
    "print(\"Точность сети : {}\".format(third_double_layered_perceptron.score(mnist_test_x, mnist_test_y)[1]))"
   ]
  },
  {
   "cell_type": "markdown",
   "metadata": {},
   "source": [
    "### Тестирование на датасете FashionMnist\n",
    "#### Однослойный перцептрон"
   ]
  },
  {
   "cell_type": "code",
   "execution_count": 59,
   "metadata": {},
   "outputs": [
    {
     "name": "stdout",
     "output_type": "stream",
     "text": [
      "Создание сети :\n",
      "  Количество скрытых слоев     : 0\n",
      "  Количество входных нейронов  : 784\n",
      "  Koличество выходных нейронов : 10\n",
      "  Широты скрытых слоев         : []\n",
      "Обучение сети:\n",
      "  [epochs 1 из 10] loss : 0.9359345231600675, accuracy : 0.7944166666666667\n",
      "  [epochs 2 из 10] loss : 0.9156744874567206, accuracy : 0.8039166666666666\n",
      "  [epochs 3 из 10] loss : 0.8799507779338235, accuracy : 0.8113333333333334\n",
      "  [epochs 4 из 10] loss : 0.89566969333539, accuracy : 0.8108\n",
      "  [epochs 5 из 10] loss : 0.8597341170478467, accuracy : 0.8160833333333334\n",
      "  [epochs 6 из 10] loss : 0.8262980519873773, accuracy : 0.8204166666666667\n",
      "  [epochs 7 из 10] loss : 0.7956648321156856, accuracy : 0.82515\n",
      "  [epochs 8 из 10] loss : 0.7572545648109318, accuracy : 0.8319666666666666\n",
      "  [epochs 9 из 10] loss : 0.7356508001347998, accuracy : 0.8356166666666667\n",
      "  [epochs 10 из 10] loss : 0.7773243732924447, accuracy : 0.8294\n",
      "Точность сети : 0.8037\n"
     ]
    }
   ],
   "source": [
    "fmnist_null_perceptron = Perceptron(show_status=True, layers=[]).fit(fashion_mnist_train_x, fashion_mnist_train_y)\n",
    "print(\"Точность сети : {}\".format(fmnist_null_perceptron.score(fashion_mnist_test_x, fashion_mnist_test_y)[1]))"
   ]
  },
  {
   "cell_type": "markdown",
   "metadata": {},
   "source": [
    "#### Двуслойный перцептрон"
   ]
  },
  {
   "cell_type": "code",
   "execution_count": 60,
   "metadata": {},
   "outputs": [
    {
     "name": "stdout",
     "output_type": "stream",
     "text": [
      "Создание сети :\n",
      "  Количество скрытых слоев     : 1\n",
      "  Количество входных нейронов  : 784\n",
      "  Koличество выходных нейронов : 10\n",
      "  Широты скрытых слоев         : [13]\n",
      "Обучение сети:\n",
      "  [epochs 1 из 10] loss : 0.4509196845878257, accuracy : 0.8424\n",
      "  [epochs 2 из 10] loss : 0.4098002416000056, accuracy : 0.8569666666666667\n",
      "  [epochs 3 из 10] loss : 0.39672821984010936, accuracy : 0.85975\n",
      "  [epochs 4 из 10] loss : 0.384613601153954, accuracy : 0.8627166666666667\n",
      "  [epochs 5 из 10] loss : 0.3740892899880581, accuracy : 0.8655833333333334\n",
      "  [epochs 6 из 10] loss : 0.365232849307868, accuracy : 0.8682\n",
      "  [epochs 7 из 10] loss : 0.3577445026335538, accuracy : 0.8701\n",
      "  [epochs 8 из 10] loss : 0.35194399528402404, accuracy : 0.8719666666666667\n",
      "  [epochs 9 из 10] loss : 0.34758416349456456, accuracy : 0.8737166666666667\n",
      "  [epochs 10 из 10] loss : 0.3445459963230441, accuracy : 0.8742333333333333\n",
      "Точность сети : 0.8528\n"
     ]
    }
   ],
   "source": [
    "fmnist_first_perceptron = Perceptron(show_status=True, layers=[13], learning_rate=0.01).fit(fashion_mnist_train_x, fashion_mnist_train_y)\n",
    "print(\"Точность сети : {}\".format(fmnist_first_perceptron.score(fashion_mnist_test_x, fashion_mnist_test_y)[1]))"
   ]
  },
  {
   "cell_type": "markdown",
   "metadata": {},
   "source": [
    "#### Трехслойный перцептрон"
   ]
  },
  {
   "cell_type": "code",
   "execution_count": 61,
   "metadata": {},
   "outputs": [
    {
     "name": "stdout",
     "output_type": "stream",
     "text": [
      "Создание сети :\n",
      "  Количество скрытых слоев     : 2\n",
      "  Количество входных нейронов  : 784\n",
      "  Koличество выходных нейронов : 10\n",
      "  Широты скрытых слоев         : [10, 15]\n",
      "Обучение сети:\n",
      "  [epochs 1 из 20] loss : 0.7864601580762298, accuracy : 0.7542\n",
      "  [epochs 2 из 20] loss : 0.5943217567064409, accuracy : 0.8084333333333333\n",
      "  [epochs 3 из 20] loss : 0.5190489207862984, accuracy : 0.82735\n",
      "  [epochs 4 из 20] loss : 0.48016843839175116, accuracy : 0.8365166666666667\n",
      "  [epochs 5 из 20] loss : 0.45616486505649007, accuracy : 0.8436833333333333\n",
      "  [epochs 6 из 20] loss : 0.4393154983891859, accuracy : 0.8487666666666667\n",
      "  [epochs 7 из 20] loss : 0.42642597786331476, accuracy : 0.85255\n",
      "  [epochs 8 из 20] loss : 0.41623078508854966, accuracy : 0.8557333333333333\n",
      "  [epochs 9 из 20] loss : 0.40797096410601946, accuracy : 0.85835\n",
      "  [epochs 10 из 20] loss : 0.40115081354522536, accuracy : 0.8601166666666666\n",
      "  [epochs 11 из 20] loss : 0.3954247878629166, accuracy : 0.8617333333333334\n",
      "  [epochs 12 из 20] loss : 0.3905465138377509, accuracy : 0.8629666666666667\n",
      "  [epochs 13 из 20] loss : 0.3863400885257085, accuracy : 0.8642166666666666\n",
      "  [epochs 14 из 20] loss : 0.3826778332381982, accuracy : 0.8655833333333334\n",
      "  [epochs 15 из 20] loss : 0.37946431874734454, accuracy : 0.8663833333333333\n",
      "  [epochs 16 из 20] loss : 0.3766255721572452, accuracy : 0.8671833333333333\n",
      "  [epochs 17 из 20] loss : 0.37410190769489665, accuracy : 0.86785\n",
      "  [epochs 18 из 20] loss : 0.3718433469099988, accuracy : 0.86815\n",
      "  [epochs 19 из 20] loss : 0.369806925800829, accuracy : 0.8685833333333334\n",
      "  [epochs 20 из 20] loss : 0.36795527433380965, accuracy : 0.8691666666666666\n",
      "Точность сети : 0.8477\n"
     ]
    }
   ],
   "source": [
    "fmnist_second_perceptron = Perceptron(show_status=True, layers=[10,15], learning_rate=0.001, epochs=20)\n",
    "fmnist_second_perceptron.fit(fashion_mnist_train_x, fashion_mnist_train_y)\n",
    "print(\"Точность сети : {}\".format(fmnist_second_perceptron.score(fashion_mnist_test_x, fashion_mnist_test_y)[1]))"
   ]
  },
  {
   "cell_type": "markdown",
   "metadata": {},
   "source": [
    "#### Четырехслойный перцептрон"
   ]
  },
  {
   "cell_type": "markdown",
   "metadata": {},
   "source": [
    "### Итоги\n",
    "\n",
    "Приведем таблицы со статистикой тестирования\n",
    "\n",
    "| Кол-во внутр-х слоев | Широты внутр-х слоев | Точность на тестовой выборке (%) | Кол-во эпох | Коэф. обучения | Датасет | \n",
    "|:--------------------:|:------------:|:--------------------------------:|:-----------:|:-----------:|:-----------:|\n",
    "| 0 |  | 89 | 10 | 0.1 | MNIST |\n",
    "| 1 | 5  | 84 | 10 | 0.1  | MNIST |\n",
    "| 1 | 10 |95 | 10 | 0.1  | MNIST |\n",
    "| 1 | 100 | 96 | 10 | 0.1  | MNIST |\n",
    "| 2 | 5, 15 | 84 | 10 | 0.1  | MNIST |\n",
    "| 2 | 15, 10 | 92 | 10 | 0.1  | MNIST |\n",
    "| 0 |  | 80 | 10 | 0.1 | FashionMNIST |\n",
    "| 1 | 13 | 85 | 10 | 0.01 | FashionMNIST |\n",
    "| 2| 10, 15 | 85 | 20 | 0.001 | FashionMNIST |\n",
    "\n",
    "\n",
    "\n",
    "\n",
    "Получим confusion matrix для двухслойного перцептрона MNIST (100 нейронов)"
   ]
  },
  {
   "cell_type": "code",
   "execution_count": 62,
   "metadata": {
    "scrolled": true
   },
   "outputs": [
    {
     "name": "stdout",
     "output_type": "stream",
     "text": [
      "[[829   0   2   4   1   3  13   0   6   2]\n",
      " [  0 873   1   0   1   0   1   3   9   0]\n",
      " [  2   1 788   4   1   0   1   3   9   0]\n",
      " [  1   4   8 895   0  14   1   2  33   5]\n",
      " [  1   2   5   1 773   2   5   1   3   9]\n",
      " [  0   0   0   8   2 716   5   1  19   1]\n",
      " [  1   1   1   0   6   6 806   0   5   1]\n",
      " [  0   3   5   1   2   0   0 886   1   9]\n",
      " [  0   2   2   2   0   0   2   0 716   3]\n",
      " [  2   0   2   4  23  10   1   7  26 790]]\n"
     ]
    }
   ],
   "source": [
    "fourth_one_layered_confusion_matrix = fourth_one_layered_perceptron.score(mnist_test_x, mnist_test_y,calculate_confusion_matrix=True)[2]\n",
    "print(fourth_one_layered_confusion_matrix)"
   ]
  },
  {
   "cell_type": "markdown",
   "metadata": {},
   "source": [
    "## Выводы\n",
    "Получил собственную нейросеть, основанную на методе обучения с учителем. Веса нейросети регулируются задачей минимизации функции ошибки методом градиентного спуска. Решил задачу классификации для датасетов MNIST, FashionMNIST с помощью 1, 2 и 3-слойного персептрона. Максимальная очность работы нейросети составила 96%.\n"
   ]
  },
  {
   "cell_type": "code",
   "execution_count": null,
   "metadata": {},
   "outputs": [],
   "source": []
  }
 ],
 "metadata": {
  "kernelspec": {
   "display_name": "Python 3",
   "language": "python",
   "name": "python3"
  },
  "language_info": {
   "codemirror_mode": {
    "name": "ipython",
    "version": 3
   },
   "file_extension": ".py",
   "mimetype": "text/x-python",
   "name": "python",
   "nbconvert_exporter": "python",
   "pygments_lexer": "ipython3",
   "version": "3.8.8"
  }
 },
 "nbformat": 4,
 "nbformat_minor": 2
}
