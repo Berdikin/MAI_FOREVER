{
 "cells": [
  {
   "cell_type": "code",
   "execution_count": null,
   "id": "dd4efad9",
   "metadata": {},
   "outputs": [],
   "source": [
    "# 1. Выбрать задачу (классификация или регрессия), датасет (пересечений не должно быть - у каждого студента свой датасет) и метрику качества"
   ]
  },
  {
   "cell_type": "code",
   "execution_count": null,
   "id": "02bb583c",
   "metadata": {},
   "outputs": [],
   "source": [
    "# 2. Сделать препроцессинг, фичеинжинириг и т.д. \\\\ разрешается использование любых пакетов"
   ]
  },
  {
   "cell_type": "code",
   "execution_count": null,
   "id": "8748069b",
   "metadata": {},
   "outputs": [],
   "source": [
    "# 2*. Посчитать различные статистики, визуализировать данные и сделать первичные выводы \\\\ разрешается использование любых пакетов"
   ]
  },
  {
   "cell_type": "code",
   "execution_count": null,
   "id": "48f4fe2c",
   "metadata": {},
   "outputs": [],
   "source": [
    "# 3. Реализовать метрику качества \\\\ аргументировать выбор метрики качества "
   ]
  },
  {
   "cell_type": "code",
   "execution_count": null,
   "id": "54c713a2",
   "metadata": {},
   "outputs": [],
   "source": [
    "# 4. Реализовать и обучить логистическую регрессию или линейную регрессию \\\\ !!!не разрешается использовать sklearn!!!"
   ]
  },
  {
   "cell_type": "code",
   "execution_count": null,
   "id": "dc3b0fcc",
   "metadata": {},
   "outputs": [],
   "source": [
    "# 4*. Добавить регуляризацию \\\\ не разрешается использовать sklearn"
   ]
  },
  {
   "cell_type": "code",
   "execution_count": null,
   "id": "7f99eb75",
   "metadata": {},
   "outputs": [],
   "source": [
    "# 5. Оценить качество модели на обучающей и тестовой выборках \\\\ не разрешается использовать sklearn"
   ]
  },
  {
   "cell_type": "code",
   "execution_count": null,
   "id": "6970403b",
   "metadata": {},
   "outputs": [],
   "source": [
    "# 5*. Сделать график ошибки модели на обучающей и тестовой выборках \n",
    "# 5*. Сделать график точности модели на обучающей и тестовой выборках"
   ]
  },
  {
   "cell_type": "code",
   "execution_count": null,
   "id": "b9388f61",
   "metadata": {},
   "outputs": [],
   "source": [
    "# 6. Обучить логистическую регрессию или линейную регрессию из sklearn, оценить качество модели на обучающей и тестовой выборках и сравнить со своей моделью"
   ]
  },
  {
   "cell_type": "code",
   "execution_count": null,
   "id": "4797294c",
   "metadata": {},
   "outputs": [],
   "source": [
    "# 6*. Сделать график ошибки модели из sklearn на обучающей и тестовой выборках и сравнить со своей моделью\n",
    "# 6*. Сделать график точности модели из sklearn на обучающей и тестовой выборках и сравнить со своей моделью"
   ]
  },
  {
   "cell_type": "code",
   "execution_count": null,
   "id": "934af9e4",
   "metadata": {},
   "outputs": [],
   "source": []
  }
 ],
 "metadata": {
  "kernelspec": {
   "display_name": "Python 3",
   "language": "python",
   "name": "python3"
  },
  "language_info": {
   "codemirror_mode": {
    "name": "ipython",
    "version": 3
   },
   "file_extension": ".py",
   "mimetype": "text/x-python",
   "name": "python",
   "nbconvert_exporter": "python",
   "pygments_lexer": "ipython3",
   "version": "3.8.8"
  }
 },
 "nbformat": 4,
 "nbformat_minor": 5
}
