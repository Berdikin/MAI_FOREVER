{
  "nbformat": 4,
  "nbformat_minor": 0,
  "metadata": {
    "colab": {
      "name": "2.ipynb\"",
      "provenance": [],
      "collapsed_sections": []
    },
    "hide_input": false,
    "kernelspec": {
      "display_name": "Python 3",
      "language": "python",
      "name": "python3"
    },
    "language_info": {
      "codemirror_mode": {
        "name": "ipython",
        "version": 3
      },
      "file_extension": ".py",
      "mimetype": "text/x-python",
      "name": "python",
      "nbconvert_exporter": "python",
      "pygments_lexer": "ipython3",
      "version": "3.7.4"
    },
    "varInspector": {
      "cols": {
        "lenName": 16,
        "lenType": 16,
        "lenVar": 40
      },
      "kernels_config": {
        "python": {
          "delete_cmd_postfix": "",
          "delete_cmd_prefix": "del ",
          "library": "var_list.py",
          "varRefreshCmd": "print(var_dic_list())"
        },
        "r": {
          "delete_cmd_postfix": ") ",
          "delete_cmd_prefix": "rm(",
          "library": "var_list.r",
          "varRefreshCmd": "cat(var_dic_list()) "
        }
      },
      "types_to_exclude": [
        "module",
        "function",
        "builtin_function_or_method",
        "instance",
        "_Feature"
      ],
      "window_display": false
    }
  },
  "cells": [
    {
      "cell_type": "markdown",
      "metadata": {
        "id": "R3EqSOCRy3et"
      },
      "source": [
        "## Данные\n",
        "\n",
        "Данные -  https://www.kaggle.com/ramamet4/app-store-apple-data-set-10k-apps\n",
        "Необходимо предсказать рейтинг приложения "
      ]
    },
    {
      "cell_type": "code",
      "metadata": {
        "id": "yxBPiW79y3ew"
      },
      "source": [
        "import pandas as pd\n",
        "import numpy as np\n",
        "from matplotlib import pyplot as plt"
      ],
      "execution_count": null,
      "outputs": []
    },
    {
      "cell_type": "code",
      "metadata": {
        "id": "oTzHxNFcy3e1",
        "outputId": "adffe915-598e-4996-8426-1a5f8123805d"
      },
      "source": [
        "data = pd.read_csv('./AppleStore.csv')\n",
        "data.head()"
      ],
      "execution_count": null,
      "outputs": [
        {
          "data": {
            "text/html": [
              "<div>\n",
              "<style scoped>\n",
              "    .dataframe tbody tr th:only-of-type {\n",
              "        vertical-align: middle;\n",
              "    }\n",
              "\n",
              "    .dataframe tbody tr th {\n",
              "        vertical-align: top;\n",
              "    }\n",
              "\n",
              "    .dataframe thead th {\n",
              "        text-align: right;\n",
              "    }\n",
              "</style>\n",
              "<table border=\"1\" class=\"dataframe\">\n",
              "  <thead>\n",
              "    <tr style=\"text-align: right;\">\n",
              "      <th></th>\n",
              "      <th>Unnamed: 0</th>\n",
              "      <th>id</th>\n",
              "      <th>track_name</th>\n",
              "      <th>size_bytes</th>\n",
              "      <th>currency</th>\n",
              "      <th>price</th>\n",
              "      <th>rating_count_tot</th>\n",
              "      <th>rating_count_ver</th>\n",
              "      <th>user_rating</th>\n",
              "      <th>user_rating_ver</th>\n",
              "      <th>ver</th>\n",
              "      <th>cont_rating</th>\n",
              "      <th>prime_genre</th>\n",
              "      <th>sup_devices.num</th>\n",
              "      <th>ipadSc_urls.num</th>\n",
              "      <th>lang.num</th>\n",
              "      <th>vpp_lic</th>\n",
              "    </tr>\n",
              "  </thead>\n",
              "  <tbody>\n",
              "    <tr>\n",
              "      <th>0</th>\n",
              "      <td>1</td>\n",
              "      <td>281656475</td>\n",
              "      <td>PAC-MAN Premium</td>\n",
              "      <td>100788224</td>\n",
              "      <td>USD</td>\n",
              "      <td>3.99</td>\n",
              "      <td>21292</td>\n",
              "      <td>26</td>\n",
              "      <td>4.0</td>\n",
              "      <td>4.5</td>\n",
              "      <td>6.3.5</td>\n",
              "      <td>4+</td>\n",
              "      <td>Games</td>\n",
              "      <td>38</td>\n",
              "      <td>5</td>\n",
              "      <td>10</td>\n",
              "      <td>1</td>\n",
              "    </tr>\n",
              "    <tr>\n",
              "      <th>1</th>\n",
              "      <td>2</td>\n",
              "      <td>281796108</td>\n",
              "      <td>Evernote - stay organized</td>\n",
              "      <td>158578688</td>\n",
              "      <td>USD</td>\n",
              "      <td>0.00</td>\n",
              "      <td>161065</td>\n",
              "      <td>26</td>\n",
              "      <td>4.0</td>\n",
              "      <td>3.5</td>\n",
              "      <td>8.2.2</td>\n",
              "      <td>4+</td>\n",
              "      <td>Productivity</td>\n",
              "      <td>37</td>\n",
              "      <td>5</td>\n",
              "      <td>23</td>\n",
              "      <td>1</td>\n",
              "    </tr>\n",
              "    <tr>\n",
              "      <th>2</th>\n",
              "      <td>3</td>\n",
              "      <td>281940292</td>\n",
              "      <td>WeatherBug - Local Weather, Radar, Maps, Alerts</td>\n",
              "      <td>100524032</td>\n",
              "      <td>USD</td>\n",
              "      <td>0.00</td>\n",
              "      <td>188583</td>\n",
              "      <td>2822</td>\n",
              "      <td>3.5</td>\n",
              "      <td>4.5</td>\n",
              "      <td>5.0.0</td>\n",
              "      <td>4+</td>\n",
              "      <td>Weather</td>\n",
              "      <td>37</td>\n",
              "      <td>5</td>\n",
              "      <td>3</td>\n",
              "      <td>1</td>\n",
              "    </tr>\n",
              "    <tr>\n",
              "      <th>3</th>\n",
              "      <td>4</td>\n",
              "      <td>282614216</td>\n",
              "      <td>eBay: Best App to Buy, Sell, Save! Online Shop...</td>\n",
              "      <td>128512000</td>\n",
              "      <td>USD</td>\n",
              "      <td>0.00</td>\n",
              "      <td>262241</td>\n",
              "      <td>649</td>\n",
              "      <td>4.0</td>\n",
              "      <td>4.5</td>\n",
              "      <td>5.10.0</td>\n",
              "      <td>12+</td>\n",
              "      <td>Shopping</td>\n",
              "      <td>37</td>\n",
              "      <td>5</td>\n",
              "      <td>9</td>\n",
              "      <td>1</td>\n",
              "    </tr>\n",
              "    <tr>\n",
              "      <th>4</th>\n",
              "      <td>5</td>\n",
              "      <td>282935706</td>\n",
              "      <td>Bible</td>\n",
              "      <td>92774400</td>\n",
              "      <td>USD</td>\n",
              "      <td>0.00</td>\n",
              "      <td>985920</td>\n",
              "      <td>5320</td>\n",
              "      <td>4.5</td>\n",
              "      <td>5.0</td>\n",
              "      <td>7.5.1</td>\n",
              "      <td>4+</td>\n",
              "      <td>Reference</td>\n",
              "      <td>37</td>\n",
              "      <td>5</td>\n",
              "      <td>45</td>\n",
              "      <td>1</td>\n",
              "    </tr>\n",
              "  </tbody>\n",
              "</table>\n",
              "</div>"
            ],
            "text/plain": [
              "   Unnamed: 0         id                                         track_name  \\\n",
              "0           1  281656475                                    PAC-MAN Premium   \n",
              "1           2  281796108                          Evernote - stay organized   \n",
              "2           3  281940292    WeatherBug - Local Weather, Radar, Maps, Alerts   \n",
              "3           4  282614216  eBay: Best App to Buy, Sell, Save! Online Shop...   \n",
              "4           5  282935706                                              Bible   \n",
              "\n",
              "   size_bytes currency  price  rating_count_tot  rating_count_ver  \\\n",
              "0   100788224      USD   3.99             21292                26   \n",
              "1   158578688      USD   0.00            161065                26   \n",
              "2   100524032      USD   0.00            188583              2822   \n",
              "3   128512000      USD   0.00            262241               649   \n",
              "4    92774400      USD   0.00            985920              5320   \n",
              "\n",
              "   user_rating  user_rating_ver     ver cont_rating   prime_genre  \\\n",
              "0          4.0              4.5   6.3.5          4+         Games   \n",
              "1          4.0              3.5   8.2.2          4+  Productivity   \n",
              "2          3.5              4.5   5.0.0          4+       Weather   \n",
              "3          4.0              4.5  5.10.0         12+      Shopping   \n",
              "4          4.5              5.0   7.5.1          4+     Reference   \n",
              "\n",
              "   sup_devices.num  ipadSc_urls.num  lang.num  vpp_lic  \n",
              "0               38                5        10        1  \n",
              "1               37                5        23        1  \n",
              "2               37                5         3        1  \n",
              "3               37                5         9        1  \n",
              "4               37                5        45        1  "
            ]
          },
          "execution_count": 56,
          "metadata": {},
          "output_type": "execute_result"
        }
      ]
    },
    {
      "cell_type": "code",
      "metadata": {
        "id": "AdvU1awHy3e7"
      },
      "source": [
        "num_cols = [\n",
        "    'size_bytes',\n",
        "    'price',\n",
        "    'rating_count_tot',\n",
        "    'rating_count_ver',\n",
        "    'sup_devices.num',\n",
        "    'ipadSc_urls.num',\n",
        "    'lang.num',\n",
        "    'cont_rating',\n",
        "]\n",
        "\n",
        "cat_cols = [\n",
        "    'currency',\n",
        "    'prime_genre'\n",
        "]\n",
        "\n",
        "target_col = 'user_rating'\n",
        "\n",
        "cols = num_cols + cat_cols + [target_col]"
      ],
      "execution_count": null,
      "outputs": []
    },
    {
      "cell_type": "code",
      "metadata": {
        "id": "6uCVQEzNy3fB",
        "scrolled": false,
        "outputId": "5efb49af-7b53-43bc-aea9-8fdbdc282d7c"
      },
      "source": [
        "data = data[cols]\n",
        "data['cont_rating'] = data['cont_rating'].str.slice(0, -1).astype(int)\n",
        "data.head()"
      ],
      "execution_count": null,
      "outputs": [
        {
          "data": {
            "text/html": [
              "<div>\n",
              "<style scoped>\n",
              "    .dataframe tbody tr th:only-of-type {\n",
              "        vertical-align: middle;\n",
              "    }\n",
              "\n",
              "    .dataframe tbody tr th {\n",
              "        vertical-align: top;\n",
              "    }\n",
              "\n",
              "    .dataframe thead th {\n",
              "        text-align: right;\n",
              "    }\n",
              "</style>\n",
              "<table border=\"1\" class=\"dataframe\">\n",
              "  <thead>\n",
              "    <tr style=\"text-align: right;\">\n",
              "      <th></th>\n",
              "      <th>size_bytes</th>\n",
              "      <th>price</th>\n",
              "      <th>rating_count_tot</th>\n",
              "      <th>rating_count_ver</th>\n",
              "      <th>sup_devices.num</th>\n",
              "      <th>ipadSc_urls.num</th>\n",
              "      <th>lang.num</th>\n",
              "      <th>cont_rating</th>\n",
              "      <th>currency</th>\n",
              "      <th>prime_genre</th>\n",
              "      <th>user_rating</th>\n",
              "    </tr>\n",
              "  </thead>\n",
              "  <tbody>\n",
              "    <tr>\n",
              "      <th>0</th>\n",
              "      <td>100788224</td>\n",
              "      <td>3.99</td>\n",
              "      <td>21292</td>\n",
              "      <td>26</td>\n",
              "      <td>38</td>\n",
              "      <td>5</td>\n",
              "      <td>10</td>\n",
              "      <td>4</td>\n",
              "      <td>USD</td>\n",
              "      <td>Games</td>\n",
              "      <td>4.0</td>\n",
              "    </tr>\n",
              "    <tr>\n",
              "      <th>1</th>\n",
              "      <td>158578688</td>\n",
              "      <td>0.00</td>\n",
              "      <td>161065</td>\n",
              "      <td>26</td>\n",
              "      <td>37</td>\n",
              "      <td>5</td>\n",
              "      <td>23</td>\n",
              "      <td>4</td>\n",
              "      <td>USD</td>\n",
              "      <td>Productivity</td>\n",
              "      <td>4.0</td>\n",
              "    </tr>\n",
              "    <tr>\n",
              "      <th>2</th>\n",
              "      <td>100524032</td>\n",
              "      <td>0.00</td>\n",
              "      <td>188583</td>\n",
              "      <td>2822</td>\n",
              "      <td>37</td>\n",
              "      <td>5</td>\n",
              "      <td>3</td>\n",
              "      <td>4</td>\n",
              "      <td>USD</td>\n",
              "      <td>Weather</td>\n",
              "      <td>3.5</td>\n",
              "    </tr>\n",
              "    <tr>\n",
              "      <th>3</th>\n",
              "      <td>128512000</td>\n",
              "      <td>0.00</td>\n",
              "      <td>262241</td>\n",
              "      <td>649</td>\n",
              "      <td>37</td>\n",
              "      <td>5</td>\n",
              "      <td>9</td>\n",
              "      <td>12</td>\n",
              "      <td>USD</td>\n",
              "      <td>Shopping</td>\n",
              "      <td>4.0</td>\n",
              "    </tr>\n",
              "    <tr>\n",
              "      <th>4</th>\n",
              "      <td>92774400</td>\n",
              "      <td>0.00</td>\n",
              "      <td>985920</td>\n",
              "      <td>5320</td>\n",
              "      <td>37</td>\n",
              "      <td>5</td>\n",
              "      <td>45</td>\n",
              "      <td>4</td>\n",
              "      <td>USD</td>\n",
              "      <td>Reference</td>\n",
              "      <td>4.5</td>\n",
              "    </tr>\n",
              "  </tbody>\n",
              "</table>\n",
              "</div>"
            ],
            "text/plain": [
              "   size_bytes  price  rating_count_tot  rating_count_ver  sup_devices.num  \\\n",
              "0   100788224   3.99             21292                26               38   \n",
              "1   158578688   0.00            161065                26               37   \n",
              "2   100524032   0.00            188583              2822               37   \n",
              "3   128512000   0.00            262241               649               37   \n",
              "4    92774400   0.00            985920              5320               37   \n",
              "\n",
              "   ipadSc_urls.num  lang.num  cont_rating currency   prime_genre  user_rating  \n",
              "0                5        10            4      USD         Games          4.0  \n",
              "1                5        23            4      USD  Productivity          4.0  \n",
              "2                5         3            4      USD       Weather          3.5  \n",
              "3                5         9           12      USD      Shopping          4.0  \n",
              "4                5        45            4      USD     Reference          4.5  "
            ]
          },
          "execution_count": 58,
          "metadata": {},
          "output_type": "execute_result"
        }
      ]
    },
    {
      "cell_type": "code",
      "metadata": {
        "id": "SC7qkIi8y3fF",
        "outputId": "fec11970-0ed2-4f07-ead7-71ba2e414d31"
      },
      "source": [
        "data.isna().mean()"
      ],
      "execution_count": null,
      "outputs": [
        {
          "data": {
            "text/plain": [
              "size_bytes          0.0\n",
              "price               0.0\n",
              "rating_count_tot    0.0\n",
              "rating_count_ver    0.0\n",
              "sup_devices.num     0.0\n",
              "ipadSc_urls.num     0.0\n",
              "lang.num            0.0\n",
              "cont_rating         0.0\n",
              "currency            0.0\n",
              "prime_genre         0.0\n",
              "user_rating         0.0\n",
              "dtype: float64"
            ]
          },
          "execution_count": 59,
          "metadata": {},
          "output_type": "execute_result"
        }
      ]
    },
    {
      "cell_type": "code",
      "metadata": {
        "id": "3_JPQiJ_y3fJ",
        "outputId": "dae57f6d-1867-4e15-8ea5-867492a7ab44"
      },
      "source": [
        "for col in cat_cols:\n",
        "    print(f\"{col} DISTRIBUTION\")\n",
        "    print(data[col].value_counts())\n",
        "    print()"
      ],
      "execution_count": null,
      "outputs": [
        {
          "name": "stdout",
          "output_type": "stream",
          "text": [
            "currency DISTRIBUTION\n",
            "USD    7197\n",
            "Name: currency, dtype: int64\n",
            "\n",
            "prime_genre DISTRIBUTION\n",
            "Games                3862\n",
            "Entertainment         535\n",
            "Education             453\n",
            "Photo & Video         349\n",
            "Utilities             248\n",
            "Health & Fitness      180\n",
            "Productivity          178\n",
            "Social Networking     167\n",
            "Lifestyle             144\n",
            "Music                 138\n",
            "Shopping              122\n",
            "Sports                114\n",
            "Book                  112\n",
            "Finance               104\n",
            "Travel                 81\n",
            "News                   75\n",
            "Weather                72\n",
            "Reference              64\n",
            "Food & Drink           63\n",
            "Business               57\n",
            "Navigation             46\n",
            "Medical                23\n",
            "Catalogs               10\n",
            "Name: prime_genre, dtype: int64\n",
            "\n"
          ]
        }
      ]
    },
    {
      "cell_type": "code",
      "metadata": {
        "id": "csl-6myHy3fN"
      },
      "source": [
        "data = data.drop(columns=['currency'])\n",
        "cat_cols.remove('currency')"
      ],
      "execution_count": null,
      "outputs": []
    },
    {
      "cell_type": "code",
      "metadata": {
        "id": "l2p5nTDFy3fU",
        "scrolled": false,
        "outputId": "5a11efcc-7697-4181-be59-2e899e641dff"
      },
      "source": [
        "data.hist(column=num_cols+cat_cols+[target_col], figsize=(14, 10))"
      ],
      "execution_count": null,
      "outputs": [
        {
          "data": {
            "image/png": "[encoded data removed]",
            "text/plain": [
              "<Figure size 1008x720 with 9 Axes>"
            ]
          },
          "metadata": {
            "needs_background": "light"
          },
          "output_type": "display_data"
        }
      ]
    },
    {
      "cell_type": "code",
      "metadata": {
        "id": "C08zuEony3fn",
        "scrolled": false,
        "outputId": "8a80d48e-ec0d-43f0-866f-8c4effe952bc"
      },
      "source": [
        "data['is_free'] = data['price'] == 0\n",
        "cat_cols.append('is_free')\n",
        "data.head()"
      ],
      "execution_count": null,
      "outputs": [
        {
          "data": {
            "text/html": [
              "<div>\n",
              "<style scoped>\n",
              "    .dataframe tbody tr th:only-of-type {\n",
              "        vertical-align: middle;\n",
              "    }\n",
              "\n",
              "    .dataframe tbody tr th {\n",
              "        vertical-align: top;\n",
              "    }\n",
              "\n",
              "    .dataframe thead th {\n",
              "        text-align: right;\n",
              "    }\n",
              "</style>\n",
              "<table border=\"1\" class=\"dataframe\">\n",
              "  <thead>\n",
              "    <tr style=\"text-align: right;\">\n",
              "      <th></th>\n",
              "      <th>size_bytes</th>\n",
              "      <th>price</th>\n",
              "      <th>rating_count_tot</th>\n",
              "      <th>rating_count_ver</th>\n",
              "      <th>sup_devices.num</th>\n",
              "      <th>ipadSc_urls.num</th>\n",
              "      <th>lang.num</th>\n",
              "      <th>cont_rating</th>\n",
              "      <th>prime_genre</th>\n",
              "      <th>user_rating</th>\n",
              "      <th>is_free</th>\n",
              "    </tr>\n",
              "  </thead>\n",
              "  <tbody>\n",
              "    <tr>\n",
              "      <th>0</th>\n",
              "      <td>100788224</td>\n",
              "      <td>3.99</td>\n",
              "      <td>21292</td>\n",
              "      <td>26</td>\n",
              "      <td>38</td>\n",
              "      <td>5</td>\n",
              "      <td>10</td>\n",
              "      <td>4</td>\n",
              "      <td>Games</td>\n",
              "      <td>4.0</td>\n",
              "      <td>False</td>\n",
              "    </tr>\n",
              "    <tr>\n",
              "      <th>1</th>\n",
              "      <td>158578688</td>\n",
              "      <td>0.00</td>\n",
              "      <td>161065</td>\n",
              "      <td>26</td>\n",
              "      <td>37</td>\n",
              "      <td>5</td>\n",
              "      <td>23</td>\n",
              "      <td>4</td>\n",
              "      <td>Productivity</td>\n",
              "      <td>4.0</td>\n",
              "      <td>True</td>\n",
              "    </tr>\n",
              "    <tr>\n",
              "      <th>2</th>\n",
              "      <td>100524032</td>\n",
              "      <td>0.00</td>\n",
              "      <td>188583</td>\n",
              "      <td>2822</td>\n",
              "      <td>37</td>\n",
              "      <td>5</td>\n",
              "      <td>3</td>\n",
              "      <td>4</td>\n",
              "      <td>Weather</td>\n",
              "      <td>3.5</td>\n",
              "      <td>True</td>\n",
              "    </tr>\n",
              "    <tr>\n",
              "      <th>3</th>\n",
              "      <td>128512000</td>\n",
              "      <td>0.00</td>\n",
              "      <td>262241</td>\n",
              "      <td>649</td>\n",
              "      <td>37</td>\n",
              "      <td>5</td>\n",
              "      <td>9</td>\n",
              "      <td>12</td>\n",
              "      <td>Shopping</td>\n",
              "      <td>4.0</td>\n",
              "      <td>True</td>\n",
              "    </tr>\n",
              "    <tr>\n",
              "      <th>4</th>\n",
              "      <td>92774400</td>\n",
              "      <td>0.00</td>\n",
              "      <td>985920</td>\n",
              "      <td>5320</td>\n",
              "      <td>37</td>\n",
              "      <td>5</td>\n",
              "      <td>45</td>\n",
              "      <td>4</td>\n",
              "      <td>Reference</td>\n",
              "      <td>4.5</td>\n",
              "      <td>True</td>\n",
              "    </tr>\n",
              "  </tbody>\n",
              "</table>\n",
              "</div>"
            ],
            "text/plain": [
              "   size_bytes  price  rating_count_tot  rating_count_ver  sup_devices.num  \\\n",
              "0   100788224   3.99             21292                26               38   \n",
              "1   158578688   0.00            161065                26               37   \n",
              "2   100524032   0.00            188583              2822               37   \n",
              "3   128512000   0.00            262241               649               37   \n",
              "4    92774400   0.00            985920              5320               37   \n",
              "\n",
              "   ipadSc_urls.num  lang.num  cont_rating   prime_genre  user_rating  is_free  \n",
              "0                5        10            4         Games          4.0    False  \n",
              "1                5        23            4  Productivity          4.0     True  \n",
              "2                5         3            4       Weather          3.5     True  \n",
              "3                5         9           12      Shopping          4.0     True  \n",
              "4                5        45            4     Reference          4.5     True  "
            ]
          },
          "execution_count": 65,
          "metadata": {},
          "output_type": "execute_result"
        }
      ]
    },
    {
      "cell_type": "code",
      "metadata": {
        "id": "Zf7ueaAYy3fs",
        "outputId": "7c6af62e-4f81-4cf1-b5e4-55bf39a62a28"
      },
      "source": [
        "a = pd.DataFrame.from_dict({'categorical': ['a', 'b', 'a', 'c']})\n",
        "a"
      ],
      "execution_count": null,
      "outputs": [
        {
          "data": {
            "text/html": [
              "<div>\n",
              "<style scoped>\n",
              "    .dataframe tbody tr th:only-of-type {\n",
              "        vertical-align: middle;\n",
              "    }\n",
              "\n",
              "    .dataframe tbody tr th {\n",
              "        vertical-align: top;\n",
              "    }\n",
              "\n",
              "    .dataframe thead th {\n",
              "        text-align: right;\n",
              "    }\n",
              "</style>\n",
              "<table border=\"1\" class=\"dataframe\">\n",
              "  <thead>\n",
              "    <tr style=\"text-align: right;\">\n",
              "      <th></th>\n",
              "      <th>categorical</th>\n",
              "    </tr>\n",
              "  </thead>\n",
              "  <tbody>\n",
              "    <tr>\n",
              "      <th>0</th>\n",
              "      <td>a</td>\n",
              "    </tr>\n",
              "    <tr>\n",
              "      <th>1</th>\n",
              "      <td>b</td>\n",
              "    </tr>\n",
              "    <tr>\n",
              "      <th>2</th>\n",
              "      <td>a</td>\n",
              "    </tr>\n",
              "    <tr>\n",
              "      <th>3</th>\n",
              "      <td>c</td>\n",
              "    </tr>\n",
              "  </tbody>\n",
              "</table>\n",
              "</div>"
            ],
            "text/plain": [
              "  categorical\n",
              "0           a\n",
              "1           b\n",
              "2           a\n",
              "3           c"
            ]
          },
          "execution_count": 67,
          "metadata": {},
          "output_type": "execute_result"
        }
      ]
    },
    {
      "cell_type": "code",
      "metadata": {
        "id": "7TZRKn-Xy3fv",
        "outputId": "72bd8f41-7f28-4316-f4bc-398dfcdde0d5"
      },
      "source": [
        "pd.get_dummies(a)"
      ],
      "execution_count": null,
      "outputs": [
        {
          "data": {
            "text/html": [
              "<div>\n",
              "<style scoped>\n",
              "    .dataframe tbody tr th:only-of-type {\n",
              "        vertical-align: middle;\n",
              "    }\n",
              "\n",
              "    .dataframe tbody tr th {\n",
              "        vertical-align: top;\n",
              "    }\n",
              "\n",
              "    .dataframe thead th {\n",
              "        text-align: right;\n",
              "    }\n",
              "</style>\n",
              "<table border=\"1\" class=\"dataframe\">\n",
              "  <thead>\n",
              "    <tr style=\"text-align: right;\">\n",
              "      <th></th>\n",
              "      <th>categorical_a</th>\n",
              "      <th>categorical_b</th>\n",
              "      <th>categorical_c</th>\n",
              "    </tr>\n",
              "  </thead>\n",
              "  <tbody>\n",
              "    <tr>\n",
              "      <th>0</th>\n",
              "      <td>1</td>\n",
              "      <td>0</td>\n",
              "      <td>0</td>\n",
              "    </tr>\n",
              "    <tr>\n",
              "      <th>1</th>\n",
              "      <td>0</td>\n",
              "      <td>1</td>\n",
              "      <td>0</td>\n",
              "    </tr>\n",
              "    <tr>\n",
              "      <th>2</th>\n",
              "      <td>1</td>\n",
              "      <td>0</td>\n",
              "      <td>0</td>\n",
              "    </tr>\n",
              "    <tr>\n",
              "      <th>3</th>\n",
              "      <td>0</td>\n",
              "      <td>0</td>\n",
              "      <td>1</td>\n",
              "    </tr>\n",
              "  </tbody>\n",
              "</table>\n",
              "</div>"
            ],
            "text/plain": [
              "   categorical_a  categorical_b  categorical_c\n",
              "0              1              0              0\n",
              "1              0              1              0\n",
              "2              1              0              0\n",
              "3              0              0              1"
            ]
          },
          "execution_count": 69,
          "metadata": {},
          "output_type": "execute_result"
        }
      ]
    },
    {
      "cell_type": "code",
      "metadata": {
        "id": "ktXAw6G4y3fz",
        "scrolled": false
      },
      "source": [
        "# Задание: \n",
        "добавьте в датафрейм колонки для всех категориальных фичей и обновите список категориальных фичей\n"
      ],
      "execution_count": null,
      "outputs": []
    },
    {
      "cell_type": "code",
      "metadata": {
        "id": "KOwf47Sqy3f2"
      },
      "source": [
        "# TO DO"
      ],
      "execution_count": null,
      "outputs": []
    },
    {
      "cell_type": "markdown",
      "metadata": {
        "id": "5CsX8Hvcy3f5"
      },
      "source": [
        "### Масштабирование признаков\n",
        "\n",
        "\n",
        "StandardScaler во время .fit() для каждого признака $x_i$ считает среднее $\\mu_i$ и стандартное отклонение $\\sigma_i$ на обучающем датасете. Во время .transform() к каждому признаку применяется:\n",
        "\n",
        "$$\\mathbf{x_i}^{\\text{new}} = \\frac{\\mathbf{x_i} - \\mu_i}{\\sigma_i}$$\n",
        "\n",
        "\n",
        "MinMaxScaler во время .fit() для каждого признака $x_i$ считает минимум $x_{i, \\text{min}}$ и максимум $x_{i, \\text{max}}$ на обучающем датасете. Во время .transform() к каждому признаку применяется:\n",
        "\n",
        "$$\\mathbf{x_i}^{\\text{new}} = \\frac{\\mathbf{x_i} - x_{i, \\text{min}}}{x_{i, \\text{max}} - x_{i, \\text{min}}}$$"
      ]
    },
    {
      "cell_type": "code",
      "metadata": {
        "id": "ryWzn4FAy3f6"
      },
      "source": [
        "from sklearn.preprocessing import StandardScaler\n",
        "\n",
        "pca = StandardScaler()\n",
        "pca.fit(data[num_cols + cat_cols])\n",
        "X = pca.transform(data[num_cols + cat_cols])"
      ],
      "execution_count": null,
      "outputs": []
    },
    {
      "cell_type": "markdown",
      "metadata": {
        "id": "uk4bKe1jy3f9"
      },
      "source": [
        "## Разделение на train/test\n",
        "\n"
      ]
    },
    {
      "cell_type": "code",
      "metadata": {
        "id": "xhDN3xvTy3gF"
      },
      "source": [
        "from sklearn.model_selection import train_test_split"
      ],
      "execution_count": null,
      "outputs": []
    },
    {
      "cell_type": "code",
      "metadata": {
        "id": "7WZupnVWy3gJ"
      },
      "source": [
        "X_train, X_test, y_train, y_test = train_test_split(X, data[target_col], test_size=0.2)"
      ],
      "execution_count": null,
      "outputs": []
    },
    {
      "cell_type": "markdown",
      "metadata": {
        "id": "YN04Y8SSy3gN"
      },
      "source": [
        "## Обучение\n"
      ]
    },
    {
      "cell_type": "code",
      "metadata": {
        "id": "tU6MSLCQy3gR"
      },
      "source": [
        "from sklearn.linear_model import LinearRegression\n",
        "from sklearn.neighbors import KNeighborsRegressor\n",
        "from sklearn.metrics import r2_score, mean_squared_error"
      ],
      "execution_count": null,
      "outputs": []
    },
    {
      "cell_type": "code",
      "metadata": {
        "id": "tcSu8p8Xy3gX"
      },
      "source": [
        "def print_metrics(y_preds, y):\n",
        "    print(f'R^2: {r2_score(y_preds, y)}')\n",
        "    print(f'MSE: {mean_squared_error(y_preds, y)}')"
      ],
      "execution_count": null,
      "outputs": []
    },
    {
      "cell_type": "code",
      "metadata": {
        "id": "oNdfnZ4jy3gb",
        "outputId": "2e8ff1d0-0536-481e-e987-fe289ba7db2a"
      },
      "source": [
        "lr = LinearRegression()\n",
        "lr.fit(X_train, y_train)\n",
        "\n",
        "print_metrics(lr.predict(X_test), y_test)"
      ],
      "execution_count": null,
      "outputs": [
        {
          "name": "stdout",
          "output_type": "stream",
          "text": [
            "R^2: -5.385357576726276\n",
            "MSE: 2.0906450663529377\n"
          ]
        }
      ]
    },
    {
      "cell_type": "code",
      "metadata": {
        "id": "wH0qXYNbu-cS",
        "outputId": "2e8ff1d0-0536-481e-e987-fe289ba7db2a"
      },
      "source": [
        "knn = KNeighborsRegressor(n_neighbors=5)\n",
        "knn.fit(X_train, y_train)\n",
        "\n",
        "print_metrics(knn.predict(X_test), y_test)"
      ],
      "execution_count": null,
      "outputs": [
        {
          "name": "stdout",
          "output_type": "stream",
          "text": [
            "R^2: -0.9307166797951487\n",
            "MSE: 1.982166666666667\n"
          ]
        }
      ]
    },
    {
      "cell_type": "markdown",
      "metadata": {
        "id": "ACDf5eMEy3gt"
      },
      "source": [
        "## Cross Validation\n"
      ]
    },
    {
      "cell_type": "code",
      "metadata": {
        "id": "6B-hvt0xy3gv"
      },
      "source": [
        "from sklearn.metrics import make_scorer\n",
        "from sklearn.model_selection import cross_validate"
      ],
      "execution_count": null,
      "outputs": []
    },
    {
      "cell_type": "code",
      "metadata": {
        "id": "rvBUIh8Ey3g3",
        "outputId": "2e8405b6-fdb4-4909-98c4-b2470779427d"
      },
      "source": [
        "cross_validate(LinearRegression(), X, data[target_col], cv=5, \n",
        "               scoring={'r2_score': make_scorer(r2_score), \n",
        "                        'mean_squared_error': make_scorer(mean_squared_error)})"
      ],
      "execution_count": null,
      "outputs": [
        {
          "data": {
            "text/plain": [
              "{'fit_time': array([0.02933645, 0.09676242, 0.00416398, 0.00404048, 0.00413752]),\n",
              " 'score_time': array([0.00104761, 0.00130248, 0.00825548, 0.00090766, 0.00673914]),\n",
              " 'test_r2_score': array([-0.8403236 ,  0.06632424,  0.11577587,  0.11001782,  0.07098694]),\n",
              " 'test_mean_squared_error': array([1.67464833, 1.48741076, 1.94032193, 2.81724575, 2.93227299])}"
            ]
          },
          "execution_count": 24,
          "metadata": {},
          "output_type": "execute_result"
        }
      ]
    },
    {
      "cell_type": "code",
      "metadata": {
        "id": "7p2M51I2y3g6",
        "outputId": "4876eed0-8147-492b-d46f-bb6786983d83"
      },
      "source": [
        "cross_validate(KNeighborsRegressor(), X, data[target_col], cv=5, \n",
        "               scoring={'r2_score': make_scorer(r2_score, ), \n",
        "                        'mean_squared_error': make_scorer(mean_squared_error)})"
      ],
      "execution_count": null,
      "outputs": [
        {
          "data": {
            "text/plain": [
              "{'fit_time': array([0.05117822, 0.03009272, 0.04021716, 0.03795767, 0.03631473]),\n",
              " 'score_time': array([0.19877458, 0.30158305, 0.2406919 , 0.30147433, 0.2400794 ]),\n",
              " 'test_r2_score': array([-0.59746466, -0.00837802,  0.0274914 ,  0.19082863,  0.0752518 ]),\n",
              " 'test_mean_squared_error': array([1.45365278, 1.60641667, 2.13405142, 2.5614385 , 2.91881167])}"
            ]
          },
          "execution_count": 25,
          "metadata": {},
          "output_type": "execute_result"
        }
      ]
    },
    {
      "cell_type": "markdown",
      "metadata": {
        "id": "UliVq-4qy3hC"
      },
      "source": [
        "## GridSearchCV"
      ]
    },
    {
      "cell_type": "code",
      "metadata": {
        "id": "0evesgvhy3hD"
      },
      "source": [
        "from sklearn.model_selection import GridSearchCV"
      ],
      "execution_count": null,
      "outputs": []
    },
    {
      "cell_type": "code",
      "metadata": {
        "id": "Q3BiK1oBy3hG",
        "scrolled": true,
        "outputId": "78853985-2bcd-4330-c95b-e20cb55b208e"
      },
      "source": [
        "gbr_grid_search = GridSearchCV(KNeighborsRegressor(), \n",
        "                               [{'n_neighbors': [1, 2, 3, 4, 6, 8, 10, 15]}],\n",
        "                               cv=5,\n",
        "                               error_score=make_scorer(mean_squared_error),\n",
        "                               verbose=10)\n",
        "gbr_grid_search.fit(X_train, y_train)"
      ],
      "execution_count": null,
      "outputs": [
        {
          "name": "stdout",
          "output_type": "stream",
          "text": [
            "Fitting 5 folds for each of 8 candidates, totalling 40 fits\n",
            "[CV] n_neighbors=1 ...................................................\n",
            "[CV] ...................... n_neighbors=1, score=-0.386, total=   0.2s\n",
            "[CV] n_neighbors=1 ...................................................\n"
          ]
        },
        {
          "name": "stderr",
          "output_type": "stream",
          "text": [
            "[Parallel(n_jobs=1)]: Using backend SequentialBackend with 1 concurrent workers.\n",
            "[Parallel(n_jobs=1)]: Done   1 out of   1 | elapsed:    0.2s remaining:    0.0s\n"
          ]
        },
        {
          "name": "stdout",
          "output_type": "stream",
          "text": [
            "[CV] ...................... n_neighbors=1, score=-0.436, total=   0.2s\n",
            "[CV] n_neighbors=1 ...................................................\n"
          ]
        },
        {
          "name": "stderr",
          "output_type": "stream",
          "text": [
            "[Parallel(n_jobs=1)]: Done   2 out of   2 | elapsed:    0.3s remaining:    0.0s\n"
          ]
        },
        {
          "name": "stdout",
          "output_type": "stream",
          "text": [
            "[CV] ...................... n_neighbors=1, score=-0.369, total=   0.2s\n",
            "[CV] n_neighbors=1 ...................................................\n",
            "[CV] ...................... n_neighbors=1, score=-0.489, total=   0.2s\n",
            "[CV] n_neighbors=1 ...................................................\n"
          ]
        },
        {
          "name": "stderr",
          "output_type": "stream",
          "text": [
            "[Parallel(n_jobs=1)]: Done   3 out of   3 | elapsed:    0.6s remaining:    0.0s\n",
            "[Parallel(n_jobs=1)]: Done   4 out of   4 | elapsed:    0.7s remaining:    0.0s\n"
          ]
        },
        {
          "name": "stdout",
          "output_type": "stream",
          "text": [
            "[CV] ...................... n_neighbors=1, score=-0.263, total=   0.2s\n",
            "[CV] n_neighbors=2 ...................................................\n",
            "[CV] ...................... n_neighbors=2, score=-0.050, total=   0.2s\n",
            "[CV] n_neighbors=2 ...................................................\n"
          ]
        },
        {
          "name": "stderr",
          "output_type": "stream",
          "text": [
            "[Parallel(n_jobs=1)]: Done   5 out of   5 | elapsed:    0.9s remaining:    0.0s\n",
            "[Parallel(n_jobs=1)]: Done   6 out of   6 | elapsed:    1.1s remaining:    0.0s\n"
          ]
        },
        {
          "name": "stdout",
          "output_type": "stream",
          "text": [
            "[CV] ...................... n_neighbors=2, score=-0.153, total=   0.2s\n",
            "[CV] n_neighbors=2 ...................................................\n"
          ]
        },
        {
          "name": "stderr",
          "output_type": "stream",
          "text": [
            "[Parallel(n_jobs=1)]: Done   7 out of   7 | elapsed:    1.3s remaining:    0.0s\n"
          ]
        },
        {
          "name": "stdout",
          "output_type": "stream",
          "text": [
            "[CV] ...................... n_neighbors=2, score=-0.039, total=   0.2s\n",
            "[CV] n_neighbors=2 ...................................................\n",
            "[CV] ...................... n_neighbors=2, score=-0.099, total=   0.2s\n",
            "[CV] n_neighbors=2 ...................................................\n"
          ]
        },
        {
          "name": "stderr",
          "output_type": "stream",
          "text": [
            "[Parallel(n_jobs=1)]: Done   8 out of   8 | elapsed:    1.5s remaining:    0.0s\n",
            "[Parallel(n_jobs=1)]: Done   9 out of   9 | elapsed:    1.7s remaining:    0.0s\n"
          ]
        },
        {
          "name": "stdout",
          "output_type": "stream",
          "text": [
            "[CV] ....................... n_neighbors=2, score=0.054, total=   0.2s\n",
            "[CV] n_neighbors=3 ...................................................\n",
            "[CV] ....................... n_neighbors=3, score=0.066, total=   0.2s\n",
            "[CV] n_neighbors=3 ...................................................\n",
            "[CV] ....................... n_neighbors=3, score=0.012, total=   0.2s\n",
            "[CV] n_neighbors=3 ...................................................\n",
            "[CV] ....................... n_neighbors=3, score=0.058, total=   0.3s\n",
            "[CV] n_neighbors=3 ...................................................\n",
            "[CV] ...................... n_neighbors=3, score=-0.007, total=   0.2s\n",
            "[CV] n_neighbors=3 ...................................................\n",
            "[CV] ....................... n_neighbors=3, score=0.112, total=   0.2s\n",
            "[CV] n_neighbors=4 ...................................................\n",
            "[CV] ....................... n_neighbors=4, score=0.111, total=   0.2s\n",
            "[CV] n_neighbors=4 ...................................................\n",
            "[CV] ....................... n_neighbors=4, score=0.040, total=   0.2s\n",
            "[CV] n_neighbors=4 ...................................................\n",
            "[CV] ....................... n_neighbors=4, score=0.118, total=   0.3s\n",
            "[CV] n_neighbors=4 ...................................................\n",
            "[CV] ....................... n_neighbors=4, score=0.042, total=   0.2s\n",
            "[CV] n_neighbors=4 ...................................................\n",
            "[CV] ....................... n_neighbors=4, score=0.150, total=   0.2s\n",
            "[CV] n_neighbors=6 ...................................................\n",
            "[CV] ....................... n_neighbors=6, score=0.137, total=   0.2s\n",
            "[CV] n_neighbors=6 ...................................................\n",
            "[CV] ....................... n_neighbors=6, score=0.108, total=   0.2s\n",
            "[CV] n_neighbors=6 ...................................................\n",
            "[CV] ....................... n_neighbors=6, score=0.173, total=   0.3s\n",
            "[CV] n_neighbors=6 ...................................................\n",
            "[CV] ....................... n_neighbors=6, score=0.097, total=   0.2s\n",
            "[CV] n_neighbors=6 ...................................................\n",
            "[CV] ....................... n_neighbors=6, score=0.184, total=   0.2s\n",
            "[CV] n_neighbors=8 ...................................................\n",
            "[CV] ....................... n_neighbors=8, score=0.144, total=   0.2s\n",
            "[CV] n_neighbors=8 ...................................................\n",
            "[CV] ....................... n_neighbors=8, score=0.126, total=   0.2s\n",
            "[CV] n_neighbors=8 ...................................................\n",
            "[CV] ....................... n_neighbors=8, score=0.190, total=   0.3s\n",
            "[CV] n_neighbors=8 ...................................................\n",
            "[CV] ....................... n_neighbors=8, score=0.113, total=   0.2s\n",
            "[CV] n_neighbors=8 ...................................................\n",
            "[CV] ....................... n_neighbors=8, score=0.191, total=   0.2s\n",
            "[CV] n_neighbors=10 ..................................................\n",
            "[CV] ...................... n_neighbors=10, score=0.151, total=   0.2s\n",
            "[CV] n_neighbors=10 ..................................................\n",
            "[CV] ...................... n_neighbors=10, score=0.145, total=   0.2s\n",
            "[CV] n_neighbors=10 ..................................................\n",
            "[CV] ...................... n_neighbors=10, score=0.184, total=   0.3s\n",
            "[CV] n_neighbors=10 ..................................................\n",
            "[CV] ...................... n_neighbors=10, score=0.125, total=   0.2s\n",
            "[CV] n_neighbors=10 ..................................................\n",
            "[CV] ...................... n_neighbors=10, score=0.192, total=   0.2s\n",
            "[CV] n_neighbors=15 ..................................................\n",
            "[CV] ...................... n_neighbors=15, score=0.154, total=   0.3s\n",
            "[CV] n_neighbors=15 ..................................................\n",
            "[CV] ...................... n_neighbors=15, score=0.138, total=   0.2s\n",
            "[CV] n_neighbors=15 ..................................................\n",
            "[CV] ...................... n_neighbors=15, score=0.193, total=   0.3s\n",
            "[CV] n_neighbors=15 ..................................................\n",
            "[CV] ...................... n_neighbors=15, score=0.119, total=   0.2s\n",
            "[CV] n_neighbors=15 ..................................................\n",
            "[CV] ...................... n_neighbors=15, score=0.195, total=   0.2s\n"
          ]
        },
        {
          "name": "stderr",
          "output_type": "stream",
          "text": [
            "[Parallel(n_jobs=1)]: Done  40 out of  40 | elapsed:    8.8s finished\n"
          ]
        },
        {
          "data": {
            "text/plain": [
              "GridSearchCV(cv=5, error_score=make_scorer(mean_squared_error),\n",
              "             estimator=KNeighborsRegressor(algorithm='auto', leaf_size=30,\n",
              "                                           metric='minkowski',\n",
              "                                           metric_params=None, n_jobs=None,\n",
              "                                           n_neighbors=5, p=2,\n",
              "                                           weights='uniform'),\n",
              "             iid='deprecated', n_jobs=None,\n",
              "             param_grid=[{'n_neighbors': [1, 2, 3, 4, 6, 8, 10, 15]}],\n",
              "             pre_dispatch='2*n_jobs', refit=True, return_train_score=False,\n",
              "             scoring=None, verbose=10)"
            ]
          },
          "execution_count": 91,
          "metadata": {},
          "output_type": "execute_result"
        }
      ]
    },
    {
      "cell_type": "code",
      "metadata": {
        "id": "tTR0-nRBy3hJ",
        "outputId": "a1fd4807-5db3-405d-9965-f7aabca4ddc3"
      },
      "source": [
        "print(gbr_grid_search.best_params_)\n",
        "print(gbr_grid_search.best_score_)\n",
        "print(gbr_grid_search.best_estimator_)"
      ],
      "execution_count": null,
      "outputs": [
        {
          "name": "stdout",
          "output_type": "stream",
          "text": [
            "{'n_neighbors': 15}\n",
            "0.15991433616898054\n",
            "KNeighborsRegressor(algorithm='auto', leaf_size=30, metric='minkowski',\n",
            "                    metric_params=None, n_jobs=None, n_neighbors=15, p=2,\n",
            "                    weights='uniform')\n"
          ]
        }
      ]
    },
    {
      "cell_type": "code",
      "metadata": {
        "id": "kTH4TSYDy3hb"
      },
      "source": [
        "# Задание: Убучите несколько других моделей и получите лучшие скоры"
      ],
      "execution_count": null,
      "outputs": []
    },
    {
      "cell_type": "code",
      "metadata": {
        "id": "UJxdd9Zku-cV"
      },
      "source": [
        "# TO DO"
      ],
      "execution_count": null,
      "outputs": []
    },
    {
      "cell_type": "code",
      "metadata": {
        "id": "1S7NAkkCu-cV"
      },
      "source": [
        ""
      ],
      "execution_count": null,
      "outputs": []
    }
  ]
}