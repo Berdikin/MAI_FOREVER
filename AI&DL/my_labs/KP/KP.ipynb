{
 "cells": [
  {
   "cell_type": "code",
   "execution_count": 1,
   "metadata": {},
   "outputs": [
    {
     "data": {
      "text/html": [
       "<div>\n",
       "<style scoped>\n",
       "    .dataframe tbody tr th:only-of-type {\n",
       "        vertical-align: middle;\n",
       "    }\n",
       "\n",
       "    .dataframe tbody tr th {\n",
       "        vertical-align: top;\n",
       "    }\n",
       "\n",
       "    .dataframe thead th {\n",
       "        text-align: right;\n",
       "    }\n",
       "</style>\n",
       "<table border=\"1\" class=\"dataframe\">\n",
       "  <thead>\n",
       "    <tr style=\"text-align: right;\">\n",
       "      <th></th>\n",
       "      <th>world_rank</th>\n",
       "      <th>institution</th>\n",
       "      <th>country</th>\n",
       "      <th>national_rank</th>\n",
       "      <th>quality_of_education</th>\n",
       "      <th>alumni_employment</th>\n",
       "      <th>quality_of_faculty</th>\n",
       "      <th>publications</th>\n",
       "      <th>influence</th>\n",
       "      <th>citations</th>\n",
       "      <th>broad_impact</th>\n",
       "      <th>patents</th>\n",
       "      <th>score</th>\n",
       "      <th>year</th>\n",
       "    </tr>\n",
       "  </thead>\n",
       "  <tbody>\n",
       "    <tr>\n",
       "      <th>0</th>\n",
       "      <td>1</td>\n",
       "      <td>Harvard University</td>\n",
       "      <td>USA</td>\n",
       "      <td>1</td>\n",
       "      <td>7</td>\n",
       "      <td>9</td>\n",
       "      <td>1</td>\n",
       "      <td>1</td>\n",
       "      <td>1</td>\n",
       "      <td>1</td>\n",
       "      <td>NaN</td>\n",
       "      <td>5</td>\n",
       "      <td>100.00</td>\n",
       "      <td>2012</td>\n",
       "    </tr>\n",
       "    <tr>\n",
       "      <th>1</th>\n",
       "      <td>2</td>\n",
       "      <td>Massachusetts Institute of Technology</td>\n",
       "      <td>USA</td>\n",
       "      <td>2</td>\n",
       "      <td>9</td>\n",
       "      <td>17</td>\n",
       "      <td>3</td>\n",
       "      <td>12</td>\n",
       "      <td>4</td>\n",
       "      <td>4</td>\n",
       "      <td>NaN</td>\n",
       "      <td>1</td>\n",
       "      <td>91.67</td>\n",
       "      <td>2012</td>\n",
       "    </tr>\n",
       "    <tr>\n",
       "      <th>2</th>\n",
       "      <td>3</td>\n",
       "      <td>Stanford University</td>\n",
       "      <td>USA</td>\n",
       "      <td>3</td>\n",
       "      <td>17</td>\n",
       "      <td>11</td>\n",
       "      <td>5</td>\n",
       "      <td>4</td>\n",
       "      <td>2</td>\n",
       "      <td>2</td>\n",
       "      <td>NaN</td>\n",
       "      <td>15</td>\n",
       "      <td>89.50</td>\n",
       "      <td>2012</td>\n",
       "    </tr>\n",
       "    <tr>\n",
       "      <th>3</th>\n",
       "      <td>4</td>\n",
       "      <td>University of Cambridge</td>\n",
       "      <td>United Kingdom</td>\n",
       "      <td>1</td>\n",
       "      <td>10</td>\n",
       "      <td>24</td>\n",
       "      <td>4</td>\n",
       "      <td>16</td>\n",
       "      <td>16</td>\n",
       "      <td>11</td>\n",
       "      <td>NaN</td>\n",
       "      <td>50</td>\n",
       "      <td>86.17</td>\n",
       "      <td>2012</td>\n",
       "    </tr>\n",
       "    <tr>\n",
       "      <th>4</th>\n",
       "      <td>5</td>\n",
       "      <td>California Institute of Technology</td>\n",
       "      <td>USA</td>\n",
       "      <td>4</td>\n",
       "      <td>2</td>\n",
       "      <td>29</td>\n",
       "      <td>7</td>\n",
       "      <td>37</td>\n",
       "      <td>22</td>\n",
       "      <td>22</td>\n",
       "      <td>NaN</td>\n",
       "      <td>18</td>\n",
       "      <td>85.21</td>\n",
       "      <td>2012</td>\n",
       "    </tr>\n",
       "  </tbody>\n",
       "</table>\n",
       "</div>"
      ],
      "text/plain": [
       "   world_rank                            institution         country  \\\n",
       "0           1                     Harvard University             USA   \n",
       "1           2  Massachusetts Institute of Technology             USA   \n",
       "2           3                    Stanford University             USA   \n",
       "3           4                University of Cambridge  United Kingdom   \n",
       "4           5     California Institute of Technology             USA   \n",
       "\n",
       "   national_rank  quality_of_education  alumni_employment  quality_of_faculty  \\\n",
       "0              1                     7                  9                   1   \n",
       "1              2                     9                 17                   3   \n",
       "2              3                    17                 11                   5   \n",
       "3              1                    10                 24                   4   \n",
       "4              4                     2                 29                   7   \n",
       "\n",
       "   publications  influence  citations  broad_impact  patents   score  year  \n",
       "0             1          1          1           NaN        5  100.00  2012  \n",
       "1            12          4          4           NaN        1   91.67  2012  \n",
       "2             4          2          2           NaN       15   89.50  2012  \n",
       "3            16         16         11           NaN       50   86.17  2012  \n",
       "4            37         22         22           NaN       18   85.21  2012  "
      ]
     },
     "execution_count": 1,
     "metadata": {},
     "output_type": "execute_result"
    }
   ],
   "source": [
    "# 1. Выбрать задачу (классификация или регрессия), датасет (пересечений не должно быть - у каждого студента свой датасет)\n",
    "# и метрику качества\n",
    "\n",
    "# Мой выбор - регрессия и метрика R2\n",
    "import matplotlib.pyplot as plt\n",
    "import seaborn as sns\n",
    "import pandas as pd\n",
    "import numpy as np\n",
    "import sklearn\n",
    "import warnings\n",
    "warnings.simplefilter(\"ignore\")\n",
    "%matplotlib inline\n",
    "\n",
    "sns.set(style=\"darkgrid\")\n",
    "data = pd.read_csv(\"cwurData.csv\")\n",
    "data.head()"
   ]
  },
  {
   "cell_type": "code",
   "execution_count": 2,
   "metadata": {},
   "outputs": [
    {
     "data": {
      "text/plain": [
       "(2200, 14)"
      ]
     },
     "execution_count": 2,
     "metadata": {},
     "output_type": "execute_result"
    }
   ],
   "source": [
    "data.shape"
   ]
  },
  {
   "cell_type": "code",
   "execution_count": 3,
   "metadata": {},
   "outputs": [
    {
     "data": {
      "text/plain": [
       "world_rank                0\n",
       "institution               0\n",
       "country                   0\n",
       "national_rank             0\n",
       "quality_of_education      0\n",
       "alumni_employment         0\n",
       "quality_of_faculty        0\n",
       "publications              0\n",
       "influence                 0\n",
       "citations                 0\n",
       "broad_impact            200\n",
       "patents                   0\n",
       "score                     0\n",
       "year                      0\n",
       "dtype: int64"
      ]
     },
     "execution_count": 3,
     "metadata": {},
     "output_type": "execute_result"
    }
   ],
   "source": [
    "# 2. Сделать препроцессинг, фичеинжинириг и т.д. \\\\ разрешается использование любых пакетов\n",
    "data.isna().sum()"
   ]
  },
  {
   "cell_type": "code",
   "execution_count": 4,
   "metadata": {},
   "outputs": [],
   "source": [
    "categorical = list(data.dtypes[data.dtypes == \"object\"].index)\n",
    "\n",
    "a = data[categorical]\n",
    "a = pd.get_dummies(a)\n",
    "\n",
    "def change(a):\n",
    "    if np.isnan(a)==True:\n",
    "            return 0\n",
    "    else:\n",
    "        return a\n",
    "    \n",
    "data = data.drop(columns=categorical)\n",
    "\n",
    "data = data.join(a)"
   ]
  },
  {
   "cell_type": "code",
   "execution_count": 5,
   "metadata": {},
   "outputs": [
    {
     "data": {
      "text/plain": [
       "world_rank                      int64\n",
       "national_rank                   int64\n",
       "quality_of_education            int64\n",
       "alumni_employment               int64\n",
       "quality_of_faculty              int64\n",
       "                                ...  \n",
       "country_USA                     uint8\n",
       "country_Uganda                  uint8\n",
       "country_United Arab Emirates    uint8\n",
       "country_United Kingdom          uint8\n",
       "country_Uruguay                 uint8\n",
       "Length: 1095, dtype: object"
      ]
     },
     "execution_count": 5,
     "metadata": {},
     "output_type": "execute_result"
    }
   ],
   "source": [
    "data.dtypes"
   ]
  },
  {
   "cell_type": "code",
   "execution_count": 6,
   "metadata": {},
   "outputs": [],
   "source": [
    "y = data[\"score\"]\n",
    "X = data.drop(columns=[\"score\",\"broad_impact\"])\n",
    "\n",
    "from sklearn.model_selection import train_test_split\n",
    "\n",
    "numeric_features = data.select_dtypes(include=np.number).columns.tolist()\n",
    "X_nf = data[numeric_features]\n",
    "numeric_features = X_nf.columns\n",
    "X_nf = X_nf.fillna(method='ffill')\n",
    "X_nf.isna().mean()\n",
    "\n",
    "X_train, X_test, y_train, y_test = train_test_split(X_nf, y, test_size=0.3, random_state=10)"
   ]
  },
  {
   "cell_type": "code",
   "execution_count": 7,
   "metadata": {},
   "outputs": [],
   "source": [
    "for i in list(X_train.columns):\n",
    "    X_test[i] = X_test[i].agg(change)\n",
    "    X_train[i] = X_train[i].agg(change)\n",
    "    y_train = y_train.agg(change)\n",
    "    y_test = y_test.agg(change)"
   ]
  },
  {
   "cell_type": "code",
   "execution_count": 8,
   "metadata": {},
   "outputs": [],
   "source": [
    "from sklearn.preprocessing import StandardScaler\n",
    "\n",
    "sc = StandardScaler()\n",
    "\n",
    "sc.fit(X_train)\n",
    "X_train_sc = sc.transform(X_train)\n",
    "X_test_sc  = sc.transform(X_test)"
   ]
  },
  {
   "cell_type": "code",
   "execution_count": 9,
   "metadata": {},
   "outputs": [
    {
     "data": {
      "text/plain": [
       "<AxesSubplot:xlabel='score', ylabel='Density'>"
      ]
     },
     "execution_count": 9,
     "metadata": {},
     "output_type": "execute_result"
    },
    {
     "data": {
      "image/png": "[encoded data removed]",
      "text/plain": [
       "<Figure size 432x288 with 1 Axes>"
      ]
     },
     "metadata": {},
     "output_type": "display_data"
    }
   ],
   "source": [
    "# 2*. Посчитать различные статистики, визуализировать данные и сделать первичные выводы \\\\ разрешается использование любых пакетов\n",
    "sns.distplot(y_train)"
   ]
  },
  {
   "cell_type": "code",
   "execution_count": 10,
   "metadata": {},
   "outputs": [],
   "source": [
    "# 3. Реализовать метрику качества \\\\ аргументировать выбор метрики качества\n",
    "# метрика р2 используется в реализации лин регрессии и поэтому очень удобна для сравнения\n",
    "def r2(real, predicted):\n",
    "    Sum1 = np.sum((predicted - real) ** 2)\n",
    "    Sum2 = np.sum((real - np.mean(real)) ** 2)\n",
    "\n",
    "    r2 = 1 - Sum1 / Sum2\n",
    "\n",
    "    return r2"
   ]
  },
  {
   "cell_type": "code",
   "execution_count": 11,
   "metadata": {},
   "outputs": [],
   "source": [
    "# 4. Реализовать и обучить логистическую регрессию или линейную регрессию \\\\ !!!не разрешается использовать sklearn!!!\n",
    "def predict_y(x, weight, bias):\n",
    "    return weight*x + bias\n",
    "\n",
    "def cost_function(x, y, weight, bias):\n",
    "    companies = len(x)\n",
    "    total_error = 0.0\n",
    "    for i in range(companies):\n",
    "        total_error += (y[i] - (weight*x[i] + bias))**2\n",
    "    return total_error / companies"
   ]
  },
  {
   "cell_type": "code",
   "execution_count": 12,
   "metadata": {},
   "outputs": [],
   "source": [
    "def update_weights(x, y, weight, bias, learning_rate):\n",
    "    weight_deriv = 0\n",
    "    bias_deriv = 0\n",
    "    companies = len(x)\n",
    "\n",
    "    for i in range(companies):\n",
    "        # Вычисление частных производных\n",
    "        # -2x(y - (mx + b))\n",
    "        weight_deriv += -2*x[i] * (y[i] - (weight*x[i] + bias))\n",
    "\n",
    "        # -2(y - (mx + b))\n",
    "        bias_deriv += -2*(y[i] - (weight*x[i] + bias))\n",
    "\n",
    "    # Мы вычитаем, потому что производные указывают в направлении самого крутого подъема\n",
    "    weight -= (weight_deriv / companies) * learning_rate\n",
    "    bias -= (bias_deriv / companies) * learning_rate\n",
    "\n",
    "    return weight, bias"
   ]
  },
  {
   "cell_type": "code",
   "execution_count": 13,
   "metadata": {},
   "outputs": [],
   "source": [
    "def train(x, y, weight, bias, learning_rate, iters):\n",
    "    cost_history = []\n",
    "\n",
    "    for i in range(iters):\n",
    "        weight,bias = update_weights(x, y, weight, bias, learning_rate)\n",
    "\n",
    "        #Calculate cost for auditing purposes\n",
    "        cost = cost_function(x, y, weight, bias)\n",
    "        cost_history.append(cost)\n",
    "\n",
    "        # Log Progress\n",
    "        if i % 10 == 0:\n",
    "            print(\"iter={}    weight={}    bias={}    cost={}\".format(i, weight, bias, cost))\n",
    "            \n",
    "\n",
    "    return weight, bias, cost_history, score"
   ]
  },
  {
   "cell_type": "code",
   "execution_count": 16,
   "metadata": {
    "scrolled": true
   },
   "outputs": [
    {
     "name": "stdout",
     "output_type": "stream",
     "text": [
      "iter=0    weight=[-0.08267003 -0.02985125 -0.08813122 ... -0.00255609  0.00324657\n",
      " -0.00253084]    bias=[0.95528247 0.95528247 0.95528247 ... 0.95528247 0.95528247 0.95528247]    cost=[2248.0245323  2248.61291276 2247.93218731 ... 2248.70048453 2248.70008787\n",
      " 2248.70049724]\n",
      "iter=10    weight=[-0.82367726 -0.29742087 -0.87808944 ... -0.0254674   0.03234695\n",
      " -0.0252159 ]    bias=[9.51789235 9.51789235 9.51789235 ... 9.51789235 9.51789235 9.51789235]    cost=[1514.27683387 1519.60835283 1513.44006394 ... 1520.4018709  1520.39827668\n",
      " 1520.4019861 ]\n",
      "iter=20    weight=[-1.42913412 -0.51604473 -1.52354281 ... -0.04418761  0.05612408\n",
      " -0.04375124]    bias=[16.51416804 16.51416804 16.51416804 ... 16.51416804 16.51416804\n",
      " 16.51416804]    cost=[1024.42102114 1032.91909718 1023.08726718 ... 1034.18391063 1034.17818168\n",
      " 1034.18409424]\n",
      "iter=30    weight=[-1.92383645 -0.69467635 -2.05092522 ... -0.05948339  0.07555173\n",
      " -0.05889596]    bias=[22.23063465 22.23063465 22.23063465 ... 22.23063465 22.23063465\n",
      " 22.23063465]    cost=[697.38937555 708.00147033 695.72383109 ... 709.58092434 709.57377023\n",
      " 709.58115362]\n",
      "iter=40    weight=[-2.32804427 -0.84063138 -2.48183504 ... -0.07198115  0.09142554\n",
      " -0.0712703 ]    bias=[26.90140407 26.90140407 26.90140407 ... 26.90140407 26.90140407\n",
      " 26.90140407]    cost=[479.06044194 491.08387249 477.1733915  ... 492.87338304 492.86527748\n",
      " 492.87364281]\n",
      "iter=50    weight=[-2.65831149 -0.95988727 -2.83391974 ... -0.08219274  0.10439559\n",
      " -0.08138104]    bias=[30.71776276 30.71776276 30.71776276 ... 30.71776276 30.71776276\n",
      " 30.71776276]    cost=[333.3023054  346.26795495 331.2673758  ... 348.19770092 348.18896017\n",
      " 348.19798106]\n",
      "iter=60    weight=[-2.92816386 -1.05732802 -3.12159857 ... -0.09053634  0.11499307\n",
      " -0.08964225]    bias=[33.83600566 33.83600566 33.83600566 ... 33.83600566 33.83600566\n",
      " 33.83600566]    cost=[235.99301149 249.58769397 233.85935659 ... 251.61106223 251.60189741\n",
      " 251.61135595]\n",
      "iter=70    weight=[-3.14865289 -1.1369442  -3.35665312 ... -0.09735367  0.12365198\n",
      " -0.09639226]    bias=[36.38383714 36.38383714 36.38383714 ... 36.38383714 36.38383714\n",
      " 36.38383714]    cost=[171.02855116 185.04318102 168.82898645 ... 187.12905227 187.11960435\n",
      " 187.12935506]\n",
      "iter=80    weight=[-3.32880848 -1.20199642 -3.5487098  ... -0.10292393  0.13072694\n",
      " -0.10190751]    bias=[38.46560096 38.46560096 38.46560096 ... 38.46560096 38.46560096\n",
      " 38.46560096]    cost=[127.65775955 141.95274965 125.41419294 ... 144.08034838 144.07071146\n",
      " 144.08065724]\n",
      "iter=90    weight=[-3.47600871 -1.25514882 -3.70563409 ... -0.10747524  0.1365077\n",
      " -0.10641387]    bias=[40.16655356 40.16655356 40.16655356 ... 40.16655356 40.16655356\n",
      " 40.16655356]    cost=[ 98.70307334 113.18523416  96.4301307  ... 115.3406905  115.33092739\n",
      " 115.34100339]\n"
     ]
    }
   ],
   "source": [
    "x = X_train_sc\n",
    "y = y_train.values\n",
    "for i in range(len(x)):\n",
    "    for k in range(len(x[i])):\n",
    "        if np.isnan(x[i][k])==True:\n",
    "            x[i][k]=0\n",
    "for i in range(len(y)):\n",
    "    if np.isnan(y[i])==True:\n",
    "            y[i]=0\n",
    "weight = 0 # веса\n",
    "bias = 0 # сдвиг\n",
    "lr = 0.01 # качество обучения\n",
    "iters = 100 # итерации\n",
    "score = [] # оценка\n",
    "weight, bias, cost_history, score = train(x,y,weight,bias,lr,iters)"
   ]
  },
  {
   "cell_type": "code",
   "execution_count": 17,
   "metadata": {},
   "outputs": [],
   "source": [
    "# 4*. Добавить регуляризацию \\\\ не разрешается использовать sklearn"
   ]
  },
  {
   "cell_type": "code",
   "execution_count": 18,
   "metadata": {},
   "outputs": [
    {
     "data": {
      "text/plain": [
       "array([[45.61526368, 42.37241975, 44.15219332, ..., 41.43366408,\n",
       "        41.39276117, 41.4336246 ],\n",
       "       [38.98212911, 41.91784376, 38.46816225, ..., 41.43366408,\n",
       "        41.39276117, 41.4336246 ],\n",
       "       [38.03453846, 41.58953889, 38.46816225, ..., 41.43366408,\n",
       "        41.39276117, 41.4336246 ],\n",
       "       ...,\n",
       "       [36.57761783, 40.75614958, 38.46816225, ..., 41.43366408,\n",
       "        41.39276117, 41.4336246 ],\n",
       "       [35.81954531, 41.23597979, 38.84293353, ..., 41.43366408,\n",
       "        41.39276117, 41.4336246 ],\n",
       "       [46.2311976 , 41.64004733, 47.96236799, ..., 41.43366408,\n",
       "        41.39276117, 41.4336246 ]])"
      ]
     },
     "execution_count": 18,
     "metadata": {},
     "output_type": "execute_result"
    }
   ],
   "source": [
    "# 5. Оценить качество модели на обучающей и тестовой выборках \\\\ не разрешается использовать sklearn\n",
    "x = X_test_sc\n",
    "y = y_test.values\n",
    "for i in range(len(x)):\n",
    "    for k in range(len(x[i])):\n",
    "        if np.isnan(x[i][k])==True:\n",
    "            x[i][k]=0\n",
    "for i in range(len(y)):\n",
    "    if np.isnan(y[i])==True:\n",
    "            y[i]=0\n",
    "predict_y (x, weight, bias)"
   ]
  },
  {
   "cell_type": "code",
   "execution_count": 19,
   "metadata": {},
   "outputs": [
    {
     "data": {
      "image/png": "[encoded data removed]",
      "text/plain": [
       "<Figure size 432x288 with 1 Axes>"
      ]
     },
     "metadata": {},
     "output_type": "display_data"
    }
   ],
   "source": [
    "# 5*. Сделать график ошибки модели на обучающей и тестовой выборках \n",
    "# 5*. Сделать график точности модели на обучающей и тестовой выборках\n",
    "plt.plot(cost_history)\n",
    "plt.grid(True)\n",
    "plt.show()"
   ]
  },
  {
   "cell_type": "code",
   "execution_count": 20,
   "metadata": {},
   "outputs": [
    {
     "name": "stdout",
     "output_type": "stream",
     "text": [
      "LinearRegression: 0.9949457131891914\n",
      "LR RMSE: 0.5783901071473211\n"
     ]
    }
   ],
   "source": [
    "# 6. Обучить логистическую регрессию или линейную регрессию из sklearn, оценить качество модели на \n",
    "# обучающей и тестовой выборках и сравнить со своей моделью\n",
    "from sklearn import linear_model\n",
    "from sklearn.metrics import mean_squared_error\n",
    "\n",
    "lr = linear_model.LinearRegression()\n",
    "lr.fit(X_train_sc, y_train)\n",
    "print (\"LinearRegression:\", lr.score(X_test_sc, y_test))\n",
    "print (\"LR RMSE:\", np.sqrt(mean_squared_error(lr.predict(X_test_sc), y_test)))"
   ]
  },
  {
   "cell_type": "code",
   "execution_count": 21,
   "metadata": {},
   "outputs": [],
   "source": [
    "# 6*. Сделать график ошибки модели из sklearn на обучающей и тестовой выборках и сравнить со своей моделью\n",
    "# 6*. Сделать график точности модели из sklearn на обучающей и тестовой выборках и сравнить со своей моделью"
   ]
  },
  {
   "cell_type": "code",
   "execution_count": 22,
   "metadata": {},
   "outputs": [
    {
     "data": {
      "text/plain": [
       "<AxesSubplot:xlabel='score', ylabel='Density'>"
      ]
     },
     "execution_count": 22,
     "metadata": {},
     "output_type": "execute_result"
    },
    {
     "data": {
      "image/png": "[encoded data removed]",
      "text/plain": [
       "<Figure size 432x288 with 1 Axes>"
      ]
     },
     "metadata": {},
     "output_type": "display_data"
    }
   ],
   "source": [
    "error = (y_train - lr.predict(X_train)) ** 2\n",
    "sns.distplot(error)"
   ]
  },
  {
   "cell_type": "code",
   "execution_count": 23,
   "metadata": {},
   "outputs": [
    {
     "data": {
      "text/plain": [
       "<AxesSubplot:xlabel='score', ylabel='Density'>"
      ]
     },
     "execution_count": 23,
     "metadata": {},
     "output_type": "execute_result"
    },
    {
     "data": {
      "image/png": "[encoded data removed]",
      "text/plain": [
       "<Figure size 432x288 with 1 Axes>"
      ]
     },
     "metadata": {},
     "output_type": "display_data"
    }
   ],
   "source": [
    "error = (y_test - lr.predict(X_test)) ** 2\n",
    "sns.distplot(error)"
   ]
  },
  {
   "cell_type": "code",
   "execution_count": null,
   "metadata": {},
   "outputs": [],
   "source": []
  }
 ],
 "metadata": {
  "kernelspec": {
   "display_name": "Python 3",
   "language": "python",
   "name": "python3"
  },
  "language_info": {
   "codemirror_mode": {
    "name": "ipython",
    "version": 3
   },
   "file_extension": ".py",
   "mimetype": "text/x-python",
   "name": "python",
   "nbconvert_exporter": "python",
   "pygments_lexer": "ipython3",
   "version": "3.8.5"
  }
 },
 "nbformat": 4,
 "nbformat_minor": 5
}
