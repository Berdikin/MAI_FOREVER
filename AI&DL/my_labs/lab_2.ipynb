{
 "cells": [
  {
   "cell_type": "markdown",
   "metadata": {
    "id": "R3EqSOCRy3et"
   },
   "source": [
    "## Данные\n",
    "\n",
    "Данные -  https://www.kaggle.com/ramamet4/app-store-apple-data-set-10k-apps\n",
    "Необходимо предсказать рейтинг приложения "
   ]
  },
  {
   "cell_type": "code",
   "execution_count": 1,
   "metadata": {
    "executionInfo": {
     "elapsed": 3,
     "status": "ok",
     "timestamp": 1632992893112,
     "user": {
      "displayName": "Иван Сгибнев",
      "photoUrl": "https://lh3.googleusercontent.com/a/default-user=s64",
      "userId": "13579244940532270562"
     },
     "user_tz": -180
    },
    "id": "yxBPiW79y3ew"
   },
   "outputs": [],
   "source": [
    "import pandas as pd\n",
    "import numpy as np\n",
    "import warnings\n",
    "from matplotlib import pyplot as plt"
   ]
  },
  {
   "cell_type": "code",
   "execution_count": 2,
   "metadata": {
    "id": "oTzHxNFcy3e1",
    "outputId": "adffe915-598e-4996-8426-1a5f8123805d"
   },
   "outputs": [
    {
     "data": {
      "text/html": [
       "<div>\n",
       "<style scoped>\n",
       "    .dataframe tbody tr th:only-of-type {\n",
       "        vertical-align: middle;\n",
       "    }\n",
       "\n",
       "    .dataframe tbody tr th {\n",
       "        vertical-align: top;\n",
       "    }\n",
       "\n",
       "    .dataframe thead th {\n",
       "        text-align: right;\n",
       "    }\n",
       "</style>\n",
       "<table border=\"1\" class=\"dataframe\">\n",
       "  <thead>\n",
       "    <tr style=\"text-align: right;\">\n",
       "      <th></th>\n",
       "      <th>Unnamed: 0</th>\n",
       "      <th>id</th>\n",
       "      <th>track_name</th>\n",
       "      <th>size_bytes</th>\n",
       "      <th>currency</th>\n",
       "      <th>price</th>\n",
       "      <th>rating_count_tot</th>\n",
       "      <th>rating_count_ver</th>\n",
       "      <th>user_rating</th>\n",
       "      <th>user_rating_ver</th>\n",
       "      <th>ver</th>\n",
       "      <th>cont_rating</th>\n",
       "      <th>prime_genre</th>\n",
       "      <th>sup_devices.num</th>\n",
       "      <th>ipadSc_urls.num</th>\n",
       "      <th>lang.num</th>\n",
       "      <th>vpp_lic</th>\n",
       "    </tr>\n",
       "  </thead>\n",
       "  <tbody>\n",
       "    <tr>\n",
       "      <th>0</th>\n",
       "      <td>1</td>\n",
       "      <td>281656475</td>\n",
       "      <td>PAC-MAN Premium</td>\n",
       "      <td>100788224</td>\n",
       "      <td>USD</td>\n",
       "      <td>3.99</td>\n",
       "      <td>21292</td>\n",
       "      <td>26</td>\n",
       "      <td>4.0</td>\n",
       "      <td>4.5</td>\n",
       "      <td>6.3.5</td>\n",
       "      <td>4+</td>\n",
       "      <td>Games</td>\n",
       "      <td>38</td>\n",
       "      <td>5</td>\n",
       "      <td>10</td>\n",
       "      <td>1</td>\n",
       "    </tr>\n",
       "    <tr>\n",
       "      <th>1</th>\n",
       "      <td>2</td>\n",
       "      <td>281796108</td>\n",
       "      <td>Evernote - stay organized</td>\n",
       "      <td>158578688</td>\n",
       "      <td>USD</td>\n",
       "      <td>0.00</td>\n",
       "      <td>161065</td>\n",
       "      <td>26</td>\n",
       "      <td>4.0</td>\n",
       "      <td>3.5</td>\n",
       "      <td>8.2.2</td>\n",
       "      <td>4+</td>\n",
       "      <td>Productivity</td>\n",
       "      <td>37</td>\n",
       "      <td>5</td>\n",
       "      <td>23</td>\n",
       "      <td>1</td>\n",
       "    </tr>\n",
       "    <tr>\n",
       "      <th>2</th>\n",
       "      <td>3</td>\n",
       "      <td>281940292</td>\n",
       "      <td>WeatherBug - Local Weather, Radar, Maps, Alerts</td>\n",
       "      <td>100524032</td>\n",
       "      <td>USD</td>\n",
       "      <td>0.00</td>\n",
       "      <td>188583</td>\n",
       "      <td>2822</td>\n",
       "      <td>3.5</td>\n",
       "      <td>4.5</td>\n",
       "      <td>5.0.0</td>\n",
       "      <td>4+</td>\n",
       "      <td>Weather</td>\n",
       "      <td>37</td>\n",
       "      <td>5</td>\n",
       "      <td>3</td>\n",
       "      <td>1</td>\n",
       "    </tr>\n",
       "    <tr>\n",
       "      <th>3</th>\n",
       "      <td>4</td>\n",
       "      <td>282614216</td>\n",
       "      <td>eBay: Best App to Buy, Sell, Save! Online Shop...</td>\n",
       "      <td>128512000</td>\n",
       "      <td>USD</td>\n",
       "      <td>0.00</td>\n",
       "      <td>262241</td>\n",
       "      <td>649</td>\n",
       "      <td>4.0</td>\n",
       "      <td>4.5</td>\n",
       "      <td>5.10.0</td>\n",
       "      <td>12+</td>\n",
       "      <td>Shopping</td>\n",
       "      <td>37</td>\n",
       "      <td>5</td>\n",
       "      <td>9</td>\n",
       "      <td>1</td>\n",
       "    </tr>\n",
       "    <tr>\n",
       "      <th>4</th>\n",
       "      <td>5</td>\n",
       "      <td>282935706</td>\n",
       "      <td>Bible</td>\n",
       "      <td>92774400</td>\n",
       "      <td>USD</td>\n",
       "      <td>0.00</td>\n",
       "      <td>985920</td>\n",
       "      <td>5320</td>\n",
       "      <td>4.5</td>\n",
       "      <td>5.0</td>\n",
       "      <td>7.5.1</td>\n",
       "      <td>4+</td>\n",
       "      <td>Reference</td>\n",
       "      <td>37</td>\n",
       "      <td>5</td>\n",
       "      <td>45</td>\n",
       "      <td>1</td>\n",
       "    </tr>\n",
       "  </tbody>\n",
       "</table>\n",
       "</div>"
      ],
      "text/plain": [
       "   Unnamed: 0         id                                         track_name  \\\n",
       "0           1  281656475                                    PAC-MAN Premium   \n",
       "1           2  281796108                          Evernote - stay organized   \n",
       "2           3  281940292    WeatherBug - Local Weather, Radar, Maps, Alerts   \n",
       "3           4  282614216  eBay: Best App to Buy, Sell, Save! Online Shop...   \n",
       "4           5  282935706                                              Bible   \n",
       "\n",
       "   size_bytes currency  price  rating_count_tot  rating_count_ver  \\\n",
       "0   100788224      USD   3.99             21292                26   \n",
       "1   158578688      USD   0.00            161065                26   \n",
       "2   100524032      USD   0.00            188583              2822   \n",
       "3   128512000      USD   0.00            262241               649   \n",
       "4    92774400      USD   0.00            985920              5320   \n",
       "\n",
       "   user_rating  user_rating_ver     ver cont_rating   prime_genre  \\\n",
       "0          4.0              4.5   6.3.5          4+         Games   \n",
       "1          4.0              3.5   8.2.2          4+  Productivity   \n",
       "2          3.5              4.5   5.0.0          4+       Weather   \n",
       "3          4.0              4.5  5.10.0         12+      Shopping   \n",
       "4          4.5              5.0   7.5.1          4+     Reference   \n",
       "\n",
       "   sup_devices.num  ipadSc_urls.num  lang.num  vpp_lic  \n",
       "0               38                5        10        1  \n",
       "1               37                5        23        1  \n",
       "2               37                5         3        1  \n",
       "3               37                5         9        1  \n",
       "4               37                5        45        1  "
      ]
     },
     "execution_count": 2,
     "metadata": {},
     "output_type": "execute_result"
    }
   ],
   "source": [
    "data = pd.read_csv('./AppleStore.csv')\n",
    "data.head()"
   ]
  },
  {
   "cell_type": "markdown",
   "metadata": {
    "id": "dxAbj4ONy3e6"
   },
   "source": [
    "Поделим фичи на числовые и категориальные\n"
   ]
  },
  {
   "cell_type": "code",
   "execution_count": 3,
   "metadata": {
    "id": "AdvU1awHy3e7"
   },
   "outputs": [],
   "source": [
    "num_cols = [\n",
    "    'size_bytes',\n",
    "    'price',\n",
    "    'rating_count_tot',\n",
    "    'rating_count_ver',\n",
    "    'sup_devices.num',\n",
    "    'ipadSc_urls.num',\n",
    "    'lang.num',\n",
    "    'cont_rating',\n",
    "]\n",
    "\n",
    "cat_cols = [\n",
    "    'currency',\n",
    "    'prime_genre'\n",
    "]\n",
    "\n",
    "target_col = 'user_rating'\n",
    "\n",
    "cols = num_cols + cat_cols + [target_col]"
   ]
  },
  {
   "cell_type": "code",
   "execution_count": 4,
   "metadata": {
    "id": "6uCVQEzNy3fB",
    "outputId": "5efb49af-7b53-43bc-aea9-8fdbdc282d7c"
   },
   "outputs": [
    {
     "data": {
      "text/html": [
       "<div>\n",
       "<style scoped>\n",
       "    .dataframe tbody tr th:only-of-type {\n",
       "        vertical-align: middle;\n",
       "    }\n",
       "\n",
       "    .dataframe tbody tr th {\n",
       "        vertical-align: top;\n",
       "    }\n",
       "\n",
       "    .dataframe thead th {\n",
       "        text-align: right;\n",
       "    }\n",
       "</style>\n",
       "<table border=\"1\" class=\"dataframe\">\n",
       "  <thead>\n",
       "    <tr style=\"text-align: right;\">\n",
       "      <th></th>\n",
       "      <th>size_bytes</th>\n",
       "      <th>price</th>\n",
       "      <th>rating_count_tot</th>\n",
       "      <th>rating_count_ver</th>\n",
       "      <th>sup_devices.num</th>\n",
       "      <th>ipadSc_urls.num</th>\n",
       "      <th>lang.num</th>\n",
       "      <th>cont_rating</th>\n",
       "      <th>currency</th>\n",
       "      <th>prime_genre</th>\n",
       "      <th>user_rating</th>\n",
       "    </tr>\n",
       "  </thead>\n",
       "  <tbody>\n",
       "    <tr>\n",
       "      <th>0</th>\n",
       "      <td>100788224</td>\n",
       "      <td>3.99</td>\n",
       "      <td>21292</td>\n",
       "      <td>26</td>\n",
       "      <td>38</td>\n",
       "      <td>5</td>\n",
       "      <td>10</td>\n",
       "      <td>4</td>\n",
       "      <td>USD</td>\n",
       "      <td>Games</td>\n",
       "      <td>4.0</td>\n",
       "    </tr>\n",
       "    <tr>\n",
       "      <th>1</th>\n",
       "      <td>158578688</td>\n",
       "      <td>0.00</td>\n",
       "      <td>161065</td>\n",
       "      <td>26</td>\n",
       "      <td>37</td>\n",
       "      <td>5</td>\n",
       "      <td>23</td>\n",
       "      <td>4</td>\n",
       "      <td>USD</td>\n",
       "      <td>Productivity</td>\n",
       "      <td>4.0</td>\n",
       "    </tr>\n",
       "    <tr>\n",
       "      <th>2</th>\n",
       "      <td>100524032</td>\n",
       "      <td>0.00</td>\n",
       "      <td>188583</td>\n",
       "      <td>2822</td>\n",
       "      <td>37</td>\n",
       "      <td>5</td>\n",
       "      <td>3</td>\n",
       "      <td>4</td>\n",
       "      <td>USD</td>\n",
       "      <td>Weather</td>\n",
       "      <td>3.5</td>\n",
       "    </tr>\n",
       "    <tr>\n",
       "      <th>3</th>\n",
       "      <td>128512000</td>\n",
       "      <td>0.00</td>\n",
       "      <td>262241</td>\n",
       "      <td>649</td>\n",
       "      <td>37</td>\n",
       "      <td>5</td>\n",
       "      <td>9</td>\n",
       "      <td>12</td>\n",
       "      <td>USD</td>\n",
       "      <td>Shopping</td>\n",
       "      <td>4.0</td>\n",
       "    </tr>\n",
       "    <tr>\n",
       "      <th>4</th>\n",
       "      <td>92774400</td>\n",
       "      <td>0.00</td>\n",
       "      <td>985920</td>\n",
       "      <td>5320</td>\n",
       "      <td>37</td>\n",
       "      <td>5</td>\n",
       "      <td>45</td>\n",
       "      <td>4</td>\n",
       "      <td>USD</td>\n",
       "      <td>Reference</td>\n",
       "      <td>4.5</td>\n",
       "    </tr>\n",
       "  </tbody>\n",
       "</table>\n",
       "</div>"
      ],
      "text/plain": [
       "   size_bytes  price  rating_count_tot  rating_count_ver  sup_devices.num  \\\n",
       "0   100788224   3.99             21292                26               38   \n",
       "1   158578688   0.00            161065                26               37   \n",
       "2   100524032   0.00            188583              2822               37   \n",
       "3   128512000   0.00            262241               649               37   \n",
       "4    92774400   0.00            985920              5320               37   \n",
       "\n",
       "   ipadSc_urls.num  lang.num  cont_rating currency   prime_genre  user_rating  \n",
       "0                5        10            4      USD         Games          4.0  \n",
       "1                5        23            4      USD  Productivity          4.0  \n",
       "2                5         3            4      USD       Weather          3.5  \n",
       "3                5         9           12      USD      Shopping          4.0  \n",
       "4                5        45            4      USD     Reference          4.5  "
      ]
     },
     "execution_count": 4,
     "metadata": {},
     "output_type": "execute_result"
    }
   ],
   "source": [
    "data = data[cols]\n",
    "data['cont_rating'] = data['cont_rating'].str.slice(0, -1).astype(int)\n",
    "data.head()"
   ]
  },
  {
   "cell_type": "code",
   "execution_count": 5,
   "metadata": {
    "id": "SC7qkIi8y3fF",
    "outputId": "fec11970-0ed2-4f07-ead7-71ba2e414d31"
   },
   "outputs": [
    {
     "data": {
      "text/plain": [
       "size_bytes          0.0\n",
       "price               0.0\n",
       "rating_count_tot    0.0\n",
       "rating_count_ver    0.0\n",
       "sup_devices.num     0.0\n",
       "ipadSc_urls.num     0.0\n",
       "lang.num            0.0\n",
       "cont_rating         0.0\n",
       "currency            0.0\n",
       "prime_genre         0.0\n",
       "user_rating         0.0\n",
       "dtype: float64"
      ]
     },
     "execution_count": 5,
     "metadata": {},
     "output_type": "execute_result"
    }
   ],
   "source": [
    "data.isna().mean()"
   ]
  },
  {
   "cell_type": "code",
   "execution_count": 6,
   "metadata": {
    "id": "3_JPQiJ_y3fJ",
    "outputId": "dae57f6d-1867-4e15-8ea5-867492a7ab44"
   },
   "outputs": [
    {
     "name": "stdout",
     "output_type": "stream",
     "text": [
      "currency DISTRIBUTION\n",
      "USD    7197\n",
      "Name: currency, dtype: int64\n",
      "\n",
      "prime_genre DISTRIBUTION\n",
      "Games                3862\n",
      "Entertainment         535\n",
      "Education             453\n",
      "Photo & Video         349\n",
      "Utilities             248\n",
      "Health & Fitness      180\n",
      "Productivity          178\n",
      "Social Networking     167\n",
      "Lifestyle             144\n",
      "Music                 138\n",
      "Shopping              122\n",
      "Sports                114\n",
      "Book                  112\n",
      "Finance               104\n",
      "Travel                 81\n",
      "News                   75\n",
      "Weather                72\n",
      "Reference              64\n",
      "Food & Drink           63\n",
      "Business               57\n",
      "Navigation             46\n",
      "Medical                23\n",
      "Catalogs               10\n",
      "Name: prime_genre, dtype: int64\n",
      "\n"
     ]
    }
   ],
   "source": [
    "#распределение категориальных фичей\n",
    "for col in cat_cols:\n",
    "    print(f\"{col} DISTRIBUTION\")\n",
    "    print(data[col].value_counts())\n",
    "    print()"
   ]
  },
  {
   "cell_type": "code",
   "execution_count": 7,
   "metadata": {
    "id": "csl-6myHy3fN"
   },
   "outputs": [],
   "source": [
    "data = data.drop(columns=['currency'])\n",
    "cat_cols.remove('currency')"
   ]
  },
  {
   "cell_type": "code",
   "execution_count": 8,
   "metadata": {
    "id": "l2p5nTDFy3fU",
    "outputId": "5a11efcc-7697-4181-be59-2e899e641dff"
   },
   "outputs": [
    {
     "data": {
      "image/png": "[encoded data removed]",
      "text/plain": [
       "<Figure size 1008x720 with 9 Axes>"
      ]
     },
     "metadata": {
      "needs_background": "light"
     },
     "output_type": "display_data"
    }
   ],
   "source": [
    "data.hist(column=num_cols+cat_cols+[target_col], figsize=(14, 10))\n",
    "None"
   ]
  },
  {
   "cell_type": "markdown",
   "metadata": {
    "id": "W1mNkeiUy3fZ"
   },
   "source": [
    "А теперь посмотрим на корреляции между фичами"
   ]
  },
  {
   "cell_type": "code",
   "execution_count": 9,
   "metadata": {
    "id": "pZw73JW0y3fa",
    "outputId": "a07962f1-a725-4558-d575-1cb9f4b0448e",
    "scrolled": true
   },
   "outputs": [
    {
     "name": "stderr",
     "output_type": "stream",
     "text": [
      "<ipython-input-9-96612fe94b20>:1: FutureWarning: this method is deprecated in favour of `Styler.format(precision=..)`\n",
      "  data.corr().style.background_gradient(cmap='coolwarm').set_precision(2)\n"
     ]
    },
    {
     "data": {
      "text/html": [
       "<style type=\"text/css\">\n",
       "#T_9bee7_row0_col0, #T_9bee7_row1_col1, #T_9bee7_row2_col2, #T_9bee7_row3_col3, #T_9bee7_row4_col4, #T_9bee7_row5_col5, #T_9bee7_row6_col6, #T_9bee7_row7_col7, #T_9bee7_row8_col8 {\n",
       "  background-color: #b40426;\n",
       "  color: #f1f1f1;\n",
       "}\n",
       "#T_9bee7_row0_col1, #T_9bee7_row1_col0 {\n",
       "  background-color: #93b5fe;\n",
       "  color: #000000;\n",
       "}\n",
       "#T_9bee7_row0_col2, #T_9bee7_row5_col3 {\n",
       "  background-color: #465ecf;\n",
       "  color: #f1f1f1;\n",
       "}\n",
       "#T_9bee7_row0_col3, #T_9bee7_row4_col6 {\n",
       "  background-color: #4257c9;\n",
       "  color: #f1f1f1;\n",
       "}\n",
       "#T_9bee7_row0_col4, #T_9bee7_row1_col2, #T_9bee7_row1_col3, #T_9bee7_row1_col4, #T_9bee7_row4_col0, #T_9bee7_row4_col1, #T_9bee7_row5_col7, #T_9bee7_row7_col5, #T_9bee7_row7_col6, #T_9bee7_row7_col8 {\n",
       "  background-color: #3b4cc0;\n",
       "  color: #f1f1f1;\n",
       "}\n",
       "#T_9bee7_row0_col5 {\n",
       "  background-color: #88abfd;\n",
       "  color: #000000;\n",
       "}\n",
       "#T_9bee7_row0_col6, #T_9bee7_row2_col1, #T_9bee7_row6_col4, #T_9bee7_row8_col4 {\n",
       "  background-color: #4f69d9;\n",
       "  color: #f1f1f1;\n",
       "}\n",
       "#T_9bee7_row0_col7, #T_9bee7_row8_col6 {\n",
       "  background-color: #84a7fc;\n",
       "  color: #f1f1f1;\n",
       "}\n",
       "#T_9bee7_row0_col8, #T_9bee7_row3_col8 {\n",
       "  background-color: #6a8bef;\n",
       "  color: #f1f1f1;\n",
       "}\n",
       "#T_9bee7_row1_col5 {\n",
       "  background-color: #6c8ff1;\n",
       "  color: #f1f1f1;\n",
       "}\n",
       "#T_9bee7_row1_col6 {\n",
       "  background-color: #4c66d6;\n",
       "  color: #f1f1f1;\n",
       "}\n",
       "#T_9bee7_row1_col7, #T_9bee7_row5_col4 {\n",
       "  background-color: #506bda;\n",
       "  color: #f1f1f1;\n",
       "}\n",
       "#T_9bee7_row1_col8 {\n",
       "  background-color: #6384eb;\n",
       "  color: #f1f1f1;\n",
       "}\n",
       "#T_9bee7_row2_col0, #T_9bee7_row2_col5, #T_9bee7_row3_col0, #T_9bee7_row6_col0 {\n",
       "  background-color: #5d7ce6;\n",
       "  color: #f1f1f1;\n",
       "}\n",
       "#T_9bee7_row2_col3, #T_9bee7_row6_col5 {\n",
       "  background-color: #7396f5;\n",
       "  color: #f1f1f1;\n",
       "}\n",
       "#T_9bee7_row2_col4, #T_9bee7_row4_col7 {\n",
       "  background-color: #5e7de7;\n",
       "  color: #f1f1f1;\n",
       "}\n",
       "#T_9bee7_row2_col6, #T_9bee7_row3_col2 {\n",
       "  background-color: #799cf8;\n",
       "  color: #f1f1f1;\n",
       "}\n",
       "#T_9bee7_row2_col7 {\n",
       "  background-color: #5b7ae5;\n",
       "  color: #f1f1f1;\n",
       "}\n",
       "#T_9bee7_row2_col8, #T_9bee7_row8_col0 {\n",
       "  background-color: #6f92f3;\n",
       "  color: #f1f1f1;\n",
       "}\n",
       "#T_9bee7_row3_col1 {\n",
       "  background-color: #5572df;\n",
       "  color: #f1f1f1;\n",
       "}\n",
       "#T_9bee7_row3_col4 {\n",
       "  background-color: #6687ed;\n",
       "  color: #f1f1f1;\n",
       "}\n",
       "#T_9bee7_row3_col5, #T_9bee7_row8_col2 {\n",
       "  background-color: #5f7fe8;\n",
       "  color: #f1f1f1;\n",
       "}\n",
       "#T_9bee7_row3_col6, #T_9bee7_row7_col1 {\n",
       "  background-color: #516ddb;\n",
       "  color: #f1f1f1;\n",
       "}\n",
       "#T_9bee7_row3_col7 {\n",
       "  background-color: #5977e3;\n",
       "  color: #f1f1f1;\n",
       "}\n",
       "#T_9bee7_row4_col2, #T_9bee7_row7_col2 {\n",
       "  background-color: #485fd1;\n",
       "  color: #f1f1f1;\n",
       "}\n",
       "#T_9bee7_row4_col3 {\n",
       "  background-color: #4b64d5;\n",
       "  color: #f1f1f1;\n",
       "}\n",
       "#T_9bee7_row4_col5 {\n",
       "  background-color: #4e68d8;\n",
       "  color: #f1f1f1;\n",
       "}\n",
       "#T_9bee7_row4_col8 {\n",
       "  background-color: #4961d2;\n",
       "  color: #f1f1f1;\n",
       "}\n",
       "#T_9bee7_row5_col0, #T_9bee7_row6_col8 {\n",
       "  background-color: #8badfd;\n",
       "  color: #000000;\n",
       "}\n",
       "#T_9bee7_row5_col1 {\n",
       "  background-color: #6e90f2;\n",
       "  color: #f1f1f1;\n",
       "}\n",
       "#T_9bee7_row5_col2 {\n",
       "  background-color: #4a63d3;\n",
       "  color: #f1f1f1;\n",
       "}\n",
       "#T_9bee7_row5_col6, #T_9bee7_row8_col1 {\n",
       "  background-color: #688aef;\n",
       "  color: #f1f1f1;\n",
       "}\n",
       "#T_9bee7_row5_col8 {\n",
       "  background-color: #a9c6fd;\n",
       "  color: #000000;\n",
       "}\n",
       "#T_9bee7_row6_col1 {\n",
       "  background-color: #5875e1;\n",
       "  color: #f1f1f1;\n",
       "}\n",
       "#T_9bee7_row6_col2 {\n",
       "  background-color: #7093f3;\n",
       "  color: #f1f1f1;\n",
       "}\n",
       "#T_9bee7_row6_col3 {\n",
       "  background-color: #4358cb;\n",
       "  color: #f1f1f1;\n",
       "}\n",
       "#T_9bee7_row6_col7 {\n",
       "  background-color: #445acc;\n",
       "  color: #f1f1f1;\n",
       "}\n",
       "#T_9bee7_row7_col0 {\n",
       "  background-color: #86a9fc;\n",
       "  color: #f1f1f1;\n",
       "}\n",
       "#T_9bee7_row7_col3 {\n",
       "  background-color: #3f53c6;\n",
       "  color: #f1f1f1;\n",
       "}\n",
       "#T_9bee7_row7_col4 {\n",
       "  background-color: #6180e9;\n",
       "  color: #f1f1f1;\n",
       "}\n",
       "#T_9bee7_row8_col3 {\n",
       "  background-color: #5470de;\n",
       "  color: #f1f1f1;\n",
       "}\n",
       "#T_9bee7_row8_col5 {\n",
       "  background-color: #abc8fd;\n",
       "  color: #000000;\n",
       "}\n",
       "#T_9bee7_row8_col7 {\n",
       "  background-color: #3d50c3;\n",
       "  color: #f1f1f1;\n",
       "}\n",
       "</style>\n",
       "<table id=\"T_9bee7_\">\n",
       "  <thead>\n",
       "    <tr>\n",
       "      <th class=\"blank level0\" >&nbsp;</th>\n",
       "      <th class=\"col_heading level0 col0\" >size_bytes</th>\n",
       "      <th class=\"col_heading level0 col1\" >price</th>\n",
       "      <th class=\"col_heading level0 col2\" >rating_count_tot</th>\n",
       "      <th class=\"col_heading level0 col3\" >rating_count_ver</th>\n",
       "      <th class=\"col_heading level0 col4\" >sup_devices.num</th>\n",
       "      <th class=\"col_heading level0 col5\" >ipadSc_urls.num</th>\n",
       "      <th class=\"col_heading level0 col6\" >lang.num</th>\n",
       "      <th class=\"col_heading level0 col7\" >cont_rating</th>\n",
       "      <th class=\"col_heading level0 col8\" >user_rating</th>\n",
       "    </tr>\n",
       "  </thead>\n",
       "  <tbody>\n",
       "    <tr>\n",
       "      <th id=\"T_9bee7_level0_row0\" class=\"row_heading level0 row0\" >size_bytes</th>\n",
       "      <td id=\"T_9bee7_row0_col0\" class=\"data row0 col0\" >1.00</td>\n",
       "      <td id=\"T_9bee7_row0_col1\" class=\"data row0 col1\" >0.18</td>\n",
       "      <td id=\"T_9bee7_row0_col2\" class=\"data row0 col2\" >0.00</td>\n",
       "      <td id=\"T_9bee7_row0_col3\" class=\"data row0 col3\" >0.01</td>\n",
       "      <td id=\"T_9bee7_row0_col4\" class=\"data row0 col4\" >-0.12</td>\n",
       "      <td id=\"T_9bee7_row0_col5\" class=\"data row0 col5\" >0.15</td>\n",
       "      <td id=\"T_9bee7_row0_col6\" class=\"data row0 col6\" >0.00</td>\n",
       "      <td id=\"T_9bee7_row0_col7\" class=\"data row0 col7\" >0.14</td>\n",
       "      <td id=\"T_9bee7_row0_col8\" class=\"data row0 col8\" >0.07</td>\n",
       "    </tr>\n",
       "    <tr>\n",
       "      <th id=\"T_9bee7_level0_row1\" class=\"row_heading level0 row1\" >price</th>\n",
       "      <td id=\"T_9bee7_row1_col0\" class=\"data row1 col0\" >0.18</td>\n",
       "      <td id=\"T_9bee7_row1_col1\" class=\"data row1 col1\" >1.00</td>\n",
       "      <td id=\"T_9bee7_row1_col2\" class=\"data row1 col2\" >-0.04</td>\n",
       "      <td id=\"T_9bee7_row1_col3\" class=\"data row1 col3\" >-0.02</td>\n",
       "      <td id=\"T_9bee7_row1_col4\" class=\"data row1 col4\" >-0.12</td>\n",
       "      <td id=\"T_9bee7_row1_col5\" class=\"data row1 col5\" >0.07</td>\n",
       "      <td id=\"T_9bee7_row1_col6\" class=\"data row1 col6\" >-0.01</td>\n",
       "      <td id=\"T_9bee7_row1_col7\" class=\"data row1 col7\" >-0.03</td>\n",
       "      <td id=\"T_9bee7_row1_col8\" class=\"data row1 col8\" >0.05</td>\n",
       "    </tr>\n",
       "    <tr>\n",
       "      <th id=\"T_9bee7_level0_row2\" class=\"row_heading level0 row2\" >rating_count_tot</th>\n",
       "      <td id=\"T_9bee7_row2_col0\" class=\"data row2 col0\" >0.00</td>\n",
       "      <td id=\"T_9bee7_row2_col1\" class=\"data row2 col1\" >-0.04</td>\n",
       "      <td id=\"T_9bee7_row2_col2\" class=\"data row2 col2\" >1.00</td>\n",
       "      <td id=\"T_9bee7_row2_col3\" class=\"data row2 col3\" >0.16</td>\n",
       "      <td id=\"T_9bee7_row2_col4\" class=\"data row2 col4\" >0.01</td>\n",
       "      <td id=\"T_9bee7_row2_col5\" class=\"data row2 col5\" >0.02</td>\n",
       "      <td id=\"T_9bee7_row2_col6\" class=\"data row2 col6\" >0.14</td>\n",
       "      <td id=\"T_9bee7_row2_col7\" class=\"data row2 col7\" >0.01</td>\n",
       "      <td id=\"T_9bee7_row2_col8\" class=\"data row2 col8\" >0.08</td>\n",
       "    </tr>\n",
       "    <tr>\n",
       "      <th id=\"T_9bee7_level0_row3\" class=\"row_heading level0 row3\" >rating_count_ver</th>\n",
       "      <td id=\"T_9bee7_row3_col0\" class=\"data row3 col0\" >0.01</td>\n",
       "      <td id=\"T_9bee7_row3_col1\" class=\"data row3 col1\" >-0.02</td>\n",
       "      <td id=\"T_9bee7_row3_col2\" class=\"data row3 col2\" >0.16</td>\n",
       "      <td id=\"T_9bee7_row3_col3\" class=\"data row3 col3\" >1.00</td>\n",
       "      <td id=\"T_9bee7_row3_col4\" class=\"data row3 col4\" >0.04</td>\n",
       "      <td id=\"T_9bee7_row3_col5\" class=\"data row3 col5\" >0.02</td>\n",
       "      <td id=\"T_9bee7_row3_col6\" class=\"data row3 col6\" >0.01</td>\n",
       "      <td id=\"T_9bee7_row3_col7\" class=\"data row3 col7\" >0.00</td>\n",
       "      <td id=\"T_9bee7_row3_col8\" class=\"data row3 col8\" >0.07</td>\n",
       "    </tr>\n",
       "    <tr>\n",
       "      <th id=\"T_9bee7_level0_row4\" class=\"row_heading level0 row4\" >sup_devices.num</th>\n",
       "      <td id=\"T_9bee7_row4_col0\" class=\"data row4 col0\" >-0.12</td>\n",
       "      <td id=\"T_9bee7_row4_col1\" class=\"data row4 col1\" >-0.12</td>\n",
       "      <td id=\"T_9bee7_row4_col2\" class=\"data row4 col2\" >0.01</td>\n",
       "      <td id=\"T_9bee7_row4_col3\" class=\"data row4 col3\" >0.04</td>\n",
       "      <td id=\"T_9bee7_row4_col4\" class=\"data row4 col4\" >1.00</td>\n",
       "      <td id=\"T_9bee7_row4_col5\" class=\"data row4 col5\" >-0.04</td>\n",
       "      <td id=\"T_9bee7_row4_col6\" class=\"data row4 col6\" >-0.04</td>\n",
       "      <td id=\"T_9bee7_row4_col7\" class=\"data row4 col7\" >0.02</td>\n",
       "      <td id=\"T_9bee7_row4_col8\" class=\"data row4 col8\" >-0.04</td>\n",
       "    </tr>\n",
       "    <tr>\n",
       "      <th id=\"T_9bee7_level0_row5\" class=\"row_heading level0 row5\" >ipadSc_urls.num</th>\n",
       "      <td id=\"T_9bee7_row5_col0\" class=\"data row5 col0\" >0.15</td>\n",
       "      <td id=\"T_9bee7_row5_col1\" class=\"data row5 col1\" >0.07</td>\n",
       "      <td id=\"T_9bee7_row5_col2\" class=\"data row5 col2\" >0.02</td>\n",
       "      <td id=\"T_9bee7_row5_col3\" class=\"data row5 col3\" >0.02</td>\n",
       "      <td id=\"T_9bee7_row5_col4\" class=\"data row5 col4\" >-0.04</td>\n",
       "      <td id=\"T_9bee7_row5_col5\" class=\"data row5 col5\" >1.00</td>\n",
       "      <td id=\"T_9bee7_row5_col6\" class=\"data row5 col6\" >0.09</td>\n",
       "      <td id=\"T_9bee7_row5_col7\" class=\"data row5 col7\" >-0.11</td>\n",
       "      <td id=\"T_9bee7_row5_col8\" class=\"data row5 col8\" >0.27</td>\n",
       "    </tr>\n",
       "    <tr>\n",
       "      <th id=\"T_9bee7_level0_row6\" class=\"row_heading level0 row6\" >lang.num</th>\n",
       "      <td id=\"T_9bee7_row6_col0\" class=\"data row6 col0\" >0.00</td>\n",
       "      <td id=\"T_9bee7_row6_col1\" class=\"data row6 col1\" >-0.01</td>\n",
       "      <td id=\"T_9bee7_row6_col2\" class=\"data row6 col2\" >0.14</td>\n",
       "      <td id=\"T_9bee7_row6_col3\" class=\"data row6 col3\" >0.01</td>\n",
       "      <td id=\"T_9bee7_row6_col4\" class=\"data row6 col4\" >-0.04</td>\n",
       "      <td id=\"T_9bee7_row6_col5\" class=\"data row6 col5\" >0.09</td>\n",
       "      <td id=\"T_9bee7_row6_col6\" class=\"data row6 col6\" >1.00</td>\n",
       "      <td id=\"T_9bee7_row6_col7\" class=\"data row6 col7\" >-0.07</td>\n",
       "      <td id=\"T_9bee7_row6_col8\" class=\"data row6 col8\" >0.17</td>\n",
       "    </tr>\n",
       "    <tr>\n",
       "      <th id=\"T_9bee7_level0_row7\" class=\"row_heading level0 row7\" >cont_rating</th>\n",
       "      <td id=\"T_9bee7_row7_col0\" class=\"data row7 col0\" >0.14</td>\n",
       "      <td id=\"T_9bee7_row7_col1\" class=\"data row7 col1\" >-0.03</td>\n",
       "      <td id=\"T_9bee7_row7_col2\" class=\"data row7 col2\" >0.01</td>\n",
       "      <td id=\"T_9bee7_row7_col3\" class=\"data row7 col3\" >0.00</td>\n",
       "      <td id=\"T_9bee7_row7_col4\" class=\"data row7 col4\" >0.02</td>\n",
       "      <td id=\"T_9bee7_row7_col5\" class=\"data row7 col5\" >-0.11</td>\n",
       "      <td id=\"T_9bee7_row7_col6\" class=\"data row7 col6\" >-0.07</td>\n",
       "      <td id=\"T_9bee7_row7_col7\" class=\"data row7 col7\" >1.00</td>\n",
       "      <td id=\"T_9bee7_row7_col8\" class=\"data row7 col8\" >-0.10</td>\n",
       "    </tr>\n",
       "    <tr>\n",
       "      <th id=\"T_9bee7_level0_row8\" class=\"row_heading level0 row8\" >user_rating</th>\n",
       "      <td id=\"T_9bee7_row8_col0\" class=\"data row8 col0\" >0.07</td>\n",
       "      <td id=\"T_9bee7_row8_col1\" class=\"data row8 col1\" >0.05</td>\n",
       "      <td id=\"T_9bee7_row8_col2\" class=\"data row8 col2\" >0.08</td>\n",
       "      <td id=\"T_9bee7_row8_col3\" class=\"data row8 col3\" >0.07</td>\n",
       "      <td id=\"T_9bee7_row8_col4\" class=\"data row8 col4\" >-0.04</td>\n",
       "      <td id=\"T_9bee7_row8_col5\" class=\"data row8 col5\" >0.27</td>\n",
       "      <td id=\"T_9bee7_row8_col6\" class=\"data row8 col6\" >0.17</td>\n",
       "      <td id=\"T_9bee7_row8_col7\" class=\"data row8 col7\" >-0.10</td>\n",
       "      <td id=\"T_9bee7_row8_col8\" class=\"data row8 col8\" >1.00</td>\n",
       "    </tr>\n",
       "  </tbody>\n",
       "</table>\n"
      ],
      "text/plain": [
       "<pandas.io.formats.style.Styler at 0x7f544ca6cf40>"
      ]
     },
     "execution_count": 9,
     "metadata": {},
     "output_type": "execute_result"
    }
   ],
   "source": [
    "data.corr().style.background_gradient(cmap='coolwarm').set_precision(2)"
   ]
  },
  {
   "cell_type": "code",
   "execution_count": 10,
   "metadata": {
    "id": "C08zuEony3fn",
    "outputId": "8a80d48e-ec0d-43f0-866f-8c4effe952bc"
   },
   "outputs": [
    {
     "data": {
      "text/html": [
       "<div>\n",
       "<style scoped>\n",
       "    .dataframe tbody tr th:only-of-type {\n",
       "        vertical-align: middle;\n",
       "    }\n",
       "\n",
       "    .dataframe tbody tr th {\n",
       "        vertical-align: top;\n",
       "    }\n",
       "\n",
       "    .dataframe thead th {\n",
       "        text-align: right;\n",
       "    }\n",
       "</style>\n",
       "<table border=\"1\" class=\"dataframe\">\n",
       "  <thead>\n",
       "    <tr style=\"text-align: right;\">\n",
       "      <th></th>\n",
       "      <th>size_bytes</th>\n",
       "      <th>price</th>\n",
       "      <th>rating_count_tot</th>\n",
       "      <th>rating_count_ver</th>\n",
       "      <th>sup_devices.num</th>\n",
       "      <th>ipadSc_urls.num</th>\n",
       "      <th>lang.num</th>\n",
       "      <th>cont_rating</th>\n",
       "      <th>prime_genre</th>\n",
       "      <th>user_rating</th>\n",
       "      <th>is_free</th>\n",
       "    </tr>\n",
       "  </thead>\n",
       "  <tbody>\n",
       "    <tr>\n",
       "      <th>0</th>\n",
       "      <td>100788224</td>\n",
       "      <td>3.99</td>\n",
       "      <td>21292</td>\n",
       "      <td>26</td>\n",
       "      <td>38</td>\n",
       "      <td>5</td>\n",
       "      <td>10</td>\n",
       "      <td>4</td>\n",
       "      <td>Games</td>\n",
       "      <td>4.0</td>\n",
       "      <td>False</td>\n",
       "    </tr>\n",
       "    <tr>\n",
       "      <th>1</th>\n",
       "      <td>158578688</td>\n",
       "      <td>0.00</td>\n",
       "      <td>161065</td>\n",
       "      <td>26</td>\n",
       "      <td>37</td>\n",
       "      <td>5</td>\n",
       "      <td>23</td>\n",
       "      <td>4</td>\n",
       "      <td>Productivity</td>\n",
       "      <td>4.0</td>\n",
       "      <td>True</td>\n",
       "    </tr>\n",
       "    <tr>\n",
       "      <th>2</th>\n",
       "      <td>100524032</td>\n",
       "      <td>0.00</td>\n",
       "      <td>188583</td>\n",
       "      <td>2822</td>\n",
       "      <td>37</td>\n",
       "      <td>5</td>\n",
       "      <td>3</td>\n",
       "      <td>4</td>\n",
       "      <td>Weather</td>\n",
       "      <td>3.5</td>\n",
       "      <td>True</td>\n",
       "    </tr>\n",
       "    <tr>\n",
       "      <th>3</th>\n",
       "      <td>128512000</td>\n",
       "      <td>0.00</td>\n",
       "      <td>262241</td>\n",
       "      <td>649</td>\n",
       "      <td>37</td>\n",
       "      <td>5</td>\n",
       "      <td>9</td>\n",
       "      <td>12</td>\n",
       "      <td>Shopping</td>\n",
       "      <td>4.0</td>\n",
       "      <td>True</td>\n",
       "    </tr>\n",
       "    <tr>\n",
       "      <th>4</th>\n",
       "      <td>92774400</td>\n",
       "      <td>0.00</td>\n",
       "      <td>985920</td>\n",
       "      <td>5320</td>\n",
       "      <td>37</td>\n",
       "      <td>5</td>\n",
       "      <td>45</td>\n",
       "      <td>4</td>\n",
       "      <td>Reference</td>\n",
       "      <td>4.5</td>\n",
       "      <td>True</td>\n",
       "    </tr>\n",
       "  </tbody>\n",
       "</table>\n",
       "</div>"
      ],
      "text/plain": [
       "   size_bytes  price  rating_count_tot  rating_count_ver  sup_devices.num  \\\n",
       "0   100788224   3.99             21292                26               38   \n",
       "1   158578688   0.00            161065                26               37   \n",
       "2   100524032   0.00            188583              2822               37   \n",
       "3   128512000   0.00            262241               649               37   \n",
       "4    92774400   0.00            985920              5320               37   \n",
       "\n",
       "   ipadSc_urls.num  lang.num  cont_rating   prime_genre  user_rating  is_free  \n",
       "0                5        10            4         Games          4.0    False  \n",
       "1                5        23            4  Productivity          4.0     True  \n",
       "2                5         3            4       Weather          3.5     True  \n",
       "3                5         9           12      Shopping          4.0     True  \n",
       "4                5        45            4     Reference          4.5     True  "
      ]
     },
     "execution_count": 10,
     "metadata": {},
     "output_type": "execute_result"
    }
   ],
   "source": [
    "data['is_free'] = data['price'] == 0\n",
    "cat_cols.append('is_free')\n",
    "data.head()"
   ]
  },
  {
   "cell_type": "code",
   "execution_count": 11,
   "metadata": {
    "id": "Zf7ueaAYy3fs",
    "outputId": "7c6af62e-4f81-4cf1-b5e4-55bf39a62a28"
   },
   "outputs": [
    {
     "data": {
      "text/html": [
       "<div>\n",
       "<style scoped>\n",
       "    .dataframe tbody tr th:only-of-type {\n",
       "        vertical-align: middle;\n",
       "    }\n",
       "\n",
       "    .dataframe tbody tr th {\n",
       "        vertical-align: top;\n",
       "    }\n",
       "\n",
       "    .dataframe thead th {\n",
       "        text-align: right;\n",
       "    }\n",
       "</style>\n",
       "<table border=\"1\" class=\"dataframe\">\n",
       "  <thead>\n",
       "    <tr style=\"text-align: right;\">\n",
       "      <th></th>\n",
       "      <th>categorical</th>\n",
       "    </tr>\n",
       "  </thead>\n",
       "  <tbody>\n",
       "    <tr>\n",
       "      <th>0</th>\n",
       "      <td>a</td>\n",
       "    </tr>\n",
       "    <tr>\n",
       "      <th>1</th>\n",
       "      <td>b</td>\n",
       "    </tr>\n",
       "    <tr>\n",
       "      <th>2</th>\n",
       "      <td>a</td>\n",
       "    </tr>\n",
       "    <tr>\n",
       "      <th>3</th>\n",
       "      <td>c</td>\n",
       "    </tr>\n",
       "  </tbody>\n",
       "</table>\n",
       "</div>"
      ],
      "text/plain": [
       "  categorical\n",
       "0           a\n",
       "1           b\n",
       "2           a\n",
       "3           c"
      ]
     },
     "execution_count": 11,
     "metadata": {},
     "output_type": "execute_result"
    }
   ],
   "source": [
    "a = pd.DataFrame.from_dict({'categorical': ['a', 'b', 'a', 'c']})\n",
    "a"
   ]
  },
  {
   "cell_type": "code",
   "execution_count": 12,
   "metadata": {
    "id": "7TZRKn-Xy3fv",
    "outputId": "72bd8f41-7f28-4316-f4bc-398dfcdde0d5"
   },
   "outputs": [
    {
     "data": {
      "text/html": [
       "<div>\n",
       "<style scoped>\n",
       "    .dataframe tbody tr th:only-of-type {\n",
       "        vertical-align: middle;\n",
       "    }\n",
       "\n",
       "    .dataframe tbody tr th {\n",
       "        vertical-align: top;\n",
       "    }\n",
       "\n",
       "    .dataframe thead th {\n",
       "        text-align: right;\n",
       "    }\n",
       "</style>\n",
       "<table border=\"1\" class=\"dataframe\">\n",
       "  <thead>\n",
       "    <tr style=\"text-align: right;\">\n",
       "      <th></th>\n",
       "      <th>categorical_a</th>\n",
       "      <th>categorical_b</th>\n",
       "      <th>categorical_c</th>\n",
       "    </tr>\n",
       "  </thead>\n",
       "  <tbody>\n",
       "    <tr>\n",
       "      <th>0</th>\n",
       "      <td>1</td>\n",
       "      <td>0</td>\n",
       "      <td>0</td>\n",
       "    </tr>\n",
       "    <tr>\n",
       "      <th>1</th>\n",
       "      <td>0</td>\n",
       "      <td>1</td>\n",
       "      <td>0</td>\n",
       "    </tr>\n",
       "    <tr>\n",
       "      <th>2</th>\n",
       "      <td>1</td>\n",
       "      <td>0</td>\n",
       "      <td>0</td>\n",
       "    </tr>\n",
       "    <tr>\n",
       "      <th>3</th>\n",
       "      <td>0</td>\n",
       "      <td>0</td>\n",
       "      <td>1</td>\n",
       "    </tr>\n",
       "  </tbody>\n",
       "</table>\n",
       "</div>"
      ],
      "text/plain": [
       "   categorical_a  categorical_b  categorical_c\n",
       "0              1              0              0\n",
       "1              0              1              0\n",
       "2              1              0              0\n",
       "3              0              0              1"
      ]
     },
     "execution_count": 12,
     "metadata": {},
     "output_type": "execute_result"
    }
   ],
   "source": [
    "pd.get_dummies(a)"
   ]
  },
  {
   "cell_type": "code",
   "execution_count": 13,
   "metadata": {
    "id": "ktXAw6G4y3fz"
   },
   "outputs": [],
   "source": [
    "# Задание: \n",
    "# добавьте в датафрейм колонки для всех категориальных фичей и обновите список категориальных фичей\n"
   ]
  },
  {
   "cell_type": "code",
   "execution_count": 14,
   "metadata": {
    "id": "KOwf47Sqy3f2"
   },
   "outputs": [
    {
     "data": {
      "text/plain": [
       "['is_free',\n",
       " 'prime_genre_Book',\n",
       " 'prime_genre_Business',\n",
       " 'prime_genre_Catalogs',\n",
       " 'prime_genre_Education',\n",
       " 'prime_genre_Entertainment',\n",
       " 'prime_genre_Finance',\n",
       " 'prime_genre_Food & Drink',\n",
       " 'prime_genre_Games',\n",
       " 'prime_genre_Health & Fitness',\n",
       " 'prime_genre_Lifestyle',\n",
       " 'prime_genre_Medical',\n",
       " 'prime_genre_Music',\n",
       " 'prime_genre_Navigation',\n",
       " 'prime_genre_News',\n",
       " 'prime_genre_Photo & Video',\n",
       " 'prime_genre_Productivity',\n",
       " 'prime_genre_Reference',\n",
       " 'prime_genre_Shopping',\n",
       " 'prime_genre_Social Networking',\n",
       " 'prime_genre_Sports',\n",
       " 'prime_genre_Travel',\n",
       " 'prime_genre_Utilities',\n",
       " 'prime_genre_Weather']"
      ]
     },
     "execution_count": 14,
     "metadata": {},
     "output_type": "execute_result"
    }
   ],
   "source": [
    "# TO DO\n",
    "# жанры\n",
    "a = data[['prime_genre']]\n",
    "a = pd.get_dummies(a)\n",
    "data = data.drop(columns=['prime_genre'])\n",
    "cat_cols.remove('prime_genre')\n",
    "\n",
    "data = data.join(a)\n",
    "cat_cols.extend(list(a.columns))\n",
    "cat_cols"
   ]
  },
  {
   "cell_type": "code",
   "execution_count": 15,
   "metadata": {
    "id": "ryWzn4FAy3f6"
   },
   "outputs": [],
   "source": [
    "from sklearn.preprocessing import StandardScaler\n",
    "\n",
    "pca = StandardScaler()\n",
    "pca.fit(data[num_cols + cat_cols])\n",
    "X = pca.transform(data[num_cols + cat_cols])"
   ]
  },
  {
   "cell_type": "markdown",
   "metadata": {
    "id": "uk4bKe1jy3f9"
   },
   "source": [
    "## Разделение на train/test\n",
    "\n"
   ]
  },
  {
   "cell_type": "code",
   "execution_count": 16,
   "metadata": {
    "id": "xhDN3xvTy3gF"
   },
   "outputs": [],
   "source": [
    "from sklearn.model_selection import train_test_split"
   ]
  },
  {
   "cell_type": "code",
   "execution_count": 17,
   "metadata": {
    "id": "7WZupnVWy3gJ"
   },
   "outputs": [],
   "source": [
    "X_train, X_test, y_train, y_test = train_test_split(X, data[target_col], test_size=0.2)"
   ]
  },
  {
   "cell_type": "markdown",
   "metadata": {
    "id": "YN04Y8SSy3gN"
   },
   "source": [
    "## Обучение\n"
   ]
  },
  {
   "cell_type": "code",
   "execution_count": 18,
   "metadata": {
    "id": "tU6MSLCQy3gR"
   },
   "outputs": [],
   "source": [
    "from sklearn.linear_model import LinearRegression\n",
    "from sklearn.neighbors import KNeighborsRegressor\n",
    "from sklearn.metrics import r2_score, mean_squared_error"
   ]
  },
  {
   "cell_type": "code",
   "execution_count": 19,
   "metadata": {
    "id": "tcSu8p8Xy3gX"
   },
   "outputs": [],
   "source": [
    "def print_metrics(y_preds, y):\n",
    "    print(f'R^2: {r2_score(y_preds, y)}')\n",
    "    print(f'MSE: {mean_squared_error(y_preds, y)}')"
   ]
  },
  {
   "cell_type": "code",
   "execution_count": 20,
   "metadata": {
    "id": "oNdfnZ4jy3gb",
    "outputId": "2e8ff1d0-0536-481e-e987-fe289ba7db2a"
   },
   "outputs": [
    {
     "name": "stdout",
     "output_type": "stream",
     "text": [
      "R^2: -4.864050023626953\n",
      "MSE: 1.9823803890924308\n"
     ]
    }
   ],
   "source": [
    "lr = LinearRegression()\n",
    "lr.fit(X_train, y_train)\n",
    "\n",
    "print_metrics(lr.predict(X_test), y_test)"
   ]
  },
  {
   "cell_type": "code",
   "execution_count": 21,
   "metadata": {
    "id": "wH0qXYNbu-cS",
    "outputId": "2e8ff1d0-0536-481e-e987-fe289ba7db2a"
   },
   "outputs": [
    {
     "name": "stdout",
     "output_type": "stream",
     "text": [
      "R^2: -1.117828849162608\n",
      "MSE: 1.9963680555555559\n"
     ]
    }
   ],
   "source": [
    "knn = KNeighborsRegressor(n_neighbors=5)\n",
    "knn.fit(X_train, y_train)\n",
    "\n",
    "print_metrics(knn.predict(X_test), y_test)"
   ]
  },
  {
   "cell_type": "markdown",
   "metadata": {
    "id": "ACDf5eMEy3gt"
   },
   "source": [
    "## Cross Validation\n"
   ]
  },
  {
   "cell_type": "code",
   "execution_count": 22,
   "metadata": {
    "id": "6B-hvt0xy3gv"
   },
   "outputs": [],
   "source": [
    "from sklearn.metrics import make_scorer\n",
    "from sklearn.model_selection import cross_validate"
   ]
  },
  {
   "cell_type": "code",
   "execution_count": 23,
   "metadata": {
    "id": "rvBUIh8Ey3g3",
    "outputId": "2e8405b6-fdb4-4909-98c4-b2470779427d"
   },
   "outputs": [
    {
     "data": {
      "text/plain": [
       "{'fit_time': array([0.01024127, 0.01664519, 0.01572227, 0.01671958, 0.01716447]),\n",
       " 'score_time': array([0.02826667, 0.00172949, 0.0028019 , 0.0037961 , 0.00186467]),\n",
       " 'test_r2_score': array([-0.83134309,  0.06613114,  0.11576148,  0.11001651,  0.07118002]),\n",
       " 'test_mean_squared_error': array([1.66647629, 1.48771837, 1.9403535 , 2.81724991, 2.93166358])}"
      ]
     },
     "execution_count": 23,
     "metadata": {},
     "output_type": "execute_result"
    }
   ],
   "source": [
    "cross_validate(LinearRegression(), X, data[target_col], cv=5, \n",
    "               scoring={'r2_score': make_scorer(r2_score), \n",
    "                        'mean_squared_error': make_scorer(mean_squared_error)})"
   ]
  },
  {
   "cell_type": "code",
   "execution_count": 24,
   "metadata": {
    "id": "7p2M51I2y3g6",
    "outputId": "4876eed0-8147-492b-d46f-bb6786983d83"
   },
   "outputs": [
    {
     "data": {
      "text/plain": [
       "{'fit_time': array([0.00217462, 0.00114918, 0.00116897, 0.00144863, 0.0011375 ]),\n",
       " 'score_time': array([0.23335838, 0.2239728 , 0.2370379 , 0.22483969, 0.22121668]),\n",
       " 'test_r2_score': array([-0.57706574, -0.00693949,  0.02848263,  0.19118207,  0.08476091]),\n",
       " 'test_mean_squared_error': array([1.43509028, 1.604125  , 2.1318763 , 2.56031967, 2.88879778])}"
      ]
     },
     "execution_count": 24,
     "metadata": {},
     "output_type": "execute_result"
    }
   ],
   "source": [
    "cross_validate(KNeighborsRegressor(), X, data[target_col], cv=5, \n",
    "               scoring={'r2_score': make_scorer(r2_score, ), \n",
    "                        'mean_squared_error': make_scorer(mean_squared_error)})"
   ]
  },
  {
   "cell_type": "markdown",
   "metadata": {
    "id": "UliVq-4qy3hC"
   },
   "source": [
    "## GridSearchCV"
   ]
  },
  {
   "cell_type": "code",
   "execution_count": 25,
   "metadata": {
    "id": "0evesgvhy3hD"
   },
   "outputs": [],
   "source": [
    "from sklearn.model_selection import GridSearchCV"
   ]
  },
  {
   "cell_type": "code",
   "execution_count": 26,
   "metadata": {
    "id": "Q3BiK1oBy3hG",
    "outputId": "78853985-2bcd-4330-c95b-e20cb55b208e",
    "scrolled": true
   },
   "outputs": [
    {
     "name": "stdout",
     "output_type": "stream",
     "text": [
      "Fitting 5 folds for each of 8 candidates, totalling 40 fits\n",
      "[CV 1/5; 1/8] START n_neighbors=1...............................................\n",
      "[CV 1/5; 1/8] END ...............n_neighbors=1;, score=-3.162 total time=   0.2s\n",
      "[CV 2/5; 1/8] START n_neighbors=1...............................................\n",
      "[CV 2/5; 1/8] END ...............n_neighbors=1;, score=-3.414 total time=   0.1s\n",
      "[CV 3/5; 1/8] START n_neighbors=1...............................................\n",
      "[CV 3/5; 1/8] END ...............n_neighbors=1;, score=-2.786 total time=   0.1s\n",
      "[CV 4/5; 1/8] START n_neighbors=1...............................................\n",
      "[CV 4/5; 1/8] END ...............n_neighbors=1;, score=-3.150 total time=   0.1s\n",
      "[CV 5/5; 1/8] START n_neighbors=1...............................................\n",
      "[CV 5/5; 1/8] END ...............n_neighbors=1;, score=-2.925 total time=   0.2s\n",
      "[CV 1/5; 2/8] START n_neighbors=2...............................................\n",
      "[CV 1/5; 2/8] END ...............n_neighbors=2;, score=-2.406 total time=   0.1s\n",
      "[CV 2/5; 2/8] START n_neighbors=2...............................................\n",
      "[CV 2/5; 2/8] END ...............n_neighbors=2;, score=-2.624 total time=   0.2s\n",
      "[CV 3/5; 2/8] START n_neighbors=2...............................................\n",
      "[CV 3/5; 2/8] END ...............n_neighbors=2;, score=-2.277 total time=   0.1s\n",
      "[CV 4/5; 2/8] START n_neighbors=2...............................................\n",
      "[CV 4/5; 2/8] END ...............n_neighbors=2;, score=-2.523 total time=   0.1s\n",
      "[CV 5/5; 2/8] START n_neighbors=2...............................................\n",
      "[CV 5/5; 2/8] END ...............n_neighbors=2;, score=-2.256 total time=   0.1s\n",
      "[CV 1/5; 3/8] START n_neighbors=3...............................................\n",
      "[CV 1/5; 3/8] END ...............n_neighbors=3;, score=-2.140 total time=   0.1s\n",
      "[CV 2/5; 3/8] START n_neighbors=3...............................................\n",
      "[CV 2/5; 3/8] END ...............n_neighbors=3;, score=-2.301 total time=   0.1s\n",
      "[CV 3/5; 3/8] START n_neighbors=3...............................................\n",
      "[CV 3/5; 3/8] END ...............n_neighbors=3;, score=-2.110 total time=   0.1s\n",
      "[CV 4/5; 3/8] START n_neighbors=3...............................................\n",
      "[CV 4/5; 3/8] END ...............n_neighbors=3;, score=-2.206 total time=   0.1s\n",
      "[CV 5/5; 3/8] START n_neighbors=3...............................................\n",
      "[CV 5/5; 3/8] END ...............n_neighbors=3;, score=-2.169 total time=   0.2s\n",
      "[CV 1/5; 4/8] START n_neighbors=4...............................................\n",
      "[CV 1/5; 4/8] END ...............n_neighbors=4;, score=-2.041 total time=   0.2s\n",
      "[CV 2/5; 4/8] START n_neighbors=4...............................................\n",
      "[CV 2/5; 4/8] END ...............n_neighbors=4;, score=-2.134 total time=   0.2s\n",
      "[CV 3/5; 4/8] START n_neighbors=4...............................................\n",
      "[CV 3/5; 4/8] END ...............n_neighbors=4;, score=-1.967 total time=   0.2s\n",
      "[CV 4/5; 4/8] START n_neighbors=4...............................................\n",
      "[CV 4/5; 4/8] END ...............n_neighbors=4;, score=-2.060 total time=   0.2s\n",
      "[CV 5/5; 4/8] START n_neighbors=4...............................................\n",
      "[CV 5/5; 4/8] END ...............n_neighbors=4;, score=-2.138 total time=   0.2s\n",
      "[CV 1/5; 5/8] START n_neighbors=6...............................................\n",
      "[CV 1/5; 5/8] END ...............n_neighbors=6;, score=-1.948 total time=   0.2s\n",
      "[CV 2/5; 5/8] START n_neighbors=6...............................................\n",
      "[CV 2/5; 5/8] END ...............n_neighbors=6;, score=-2.015 total time=   0.2s\n",
      "[CV 3/5; 5/8] START n_neighbors=6...............................................\n",
      "[CV 3/5; 5/8] END ...............n_neighbors=6;, score=-1.851 total time=   0.2s\n",
      "[CV 4/5; 5/8] START n_neighbors=6...............................................\n",
      "[CV 4/5; 5/8] END ...............n_neighbors=6;, score=-1.967 total time=   0.2s\n",
      "[CV 5/5; 5/8] START n_neighbors=6...............................................\n",
      "[CV 5/5; 5/8] END ...............n_neighbors=6;, score=-2.023 total time=   0.2s\n",
      "[CV 1/5; 6/8] START n_neighbors=8...............................................\n",
      "[CV 1/5; 6/8] END ...............n_neighbors=8;, score=-1.981 total time=   0.2s\n",
      "[CV 2/5; 6/8] START n_neighbors=8...............................................\n",
      "[CV 2/5; 6/8] END ...............n_neighbors=8;, score=-1.954 total time=   0.2s\n",
      "[CV 3/5; 6/8] START n_neighbors=8...............................................\n",
      "[CV 3/5; 6/8] END ...............n_neighbors=8;, score=-1.812 total time=   0.2s\n",
      "[CV 4/5; 6/8] START n_neighbors=8...............................................\n",
      "[CV 4/5; 6/8] END ...............n_neighbors=8;, score=-1.906 total time=   0.2s\n",
      "[CV 5/5; 6/8] START n_neighbors=8...............................................\n",
      "[CV 5/5; 6/8] END ...............n_neighbors=8;, score=-2.005 total time=   0.1s\n",
      "[CV 1/5; 7/8] START n_neighbors=10..............................................\n",
      "[CV 1/5; 7/8] END ..............n_neighbors=10;, score=-1.997 total time=   0.2s\n",
      "[CV 2/5; 7/8] START n_neighbors=10..............................................\n",
      "[CV 2/5; 7/8] END ..............n_neighbors=10;, score=-1.946 total time=   0.2s\n",
      "[CV 3/5; 7/8] START n_neighbors=10..............................................\n",
      "[CV 3/5; 7/8] END ..............n_neighbors=10;, score=-1.781 total time=   0.2s\n",
      "[CV 4/5; 7/8] START n_neighbors=10..............................................\n",
      "[CV 4/5; 7/8] END ..............n_neighbors=10;, score=-1.849 total time=   0.2s\n",
      "[CV 5/5; 7/8] START n_neighbors=10..............................................\n",
      "[CV 5/5; 7/8] END ..............n_neighbors=10;, score=-1.978 total time=   0.1s\n",
      "[CV 1/5; 8/8] START n_neighbors=15..............................................\n",
      "[CV 1/5; 8/8] END ..............n_neighbors=15;, score=-2.020 total time=   0.2s\n",
      "[CV 2/5; 8/8] START n_neighbors=15..............................................\n",
      "[CV 2/5; 8/8] END ..............n_neighbors=15;, score=-1.957 total time=   0.2s\n",
      "[CV 3/5; 8/8] START n_neighbors=15..............................................\n",
      "[CV 3/5; 8/8] END ..............n_neighbors=15;, score=-1.776 total time=   0.2s\n",
      "[CV 4/5; 8/8] START n_neighbors=15..............................................\n",
      "[CV 4/5; 8/8] END ..............n_neighbors=15;, score=-1.842 total time=   0.2s\n",
      "[CV 5/5; 8/8] START n_neighbors=15..............................................\n",
      "[CV 5/5; 8/8] END ..............n_neighbors=15;, score=-1.970 total time=   0.2s\n"
     ]
    },
    {
     "data": {
      "text/plain": [
       "GridSearchCV(cv=5, estimator=KNeighborsRegressor(),\n",
       "             param_grid=[{'n_neighbors': [1, 2, 3, 4, 6, 8, 10, 15]}],\n",
       "             scoring=make_scorer(mean_squared_error, greater_is_better=False),\n",
       "             verbose=10)"
      ]
     },
     "execution_count": 26,
     "metadata": {},
     "output_type": "execute_result"
    }
   ],
   "source": [
    "gbr_grid_search = GridSearchCV(KNeighborsRegressor(), \n",
    "                               [{'n_neighbors': [1, 2, 3, 4, 6, 8, 10, 15]}],\n",
    "                               cv=5,\n",
    "                               scoring=make_scorer(mean_squared_error, greater_is_better=False), \n",
    "                               verbose=10)\n",
    "gbr_grid_search.fit(X_train, y_train)"
   ]
  },
  {
   "cell_type": "code",
   "execution_count": 27,
   "metadata": {
    "id": "tTR0-nRBy3hJ",
    "outputId": "a1fd4807-5db3-405d-9965-f7aabca4ddc3"
   },
   "outputs": [
    {
     "name": "stdout",
     "output_type": "stream",
     "text": [
      "{'n_neighbors': 10}\n",
      "-1.9102379886300558\n",
      "KNeighborsRegressor(n_neighbors=10)\n"
     ]
    }
   ],
   "source": [
    "print(gbr_grid_search.best_params_)\n",
    "print(gbr_grid_search.best_score_)\n",
    "print(gbr_grid_search.best_estimator_)"
   ]
  },
  {
   "cell_type": "code",
   "execution_count": 28,
   "metadata": {
    "id": "kTH4TSYDy3hb"
   },
   "outputs": [],
   "source": [
    "# Задание: Обучите несколько других моделей и получите лучшие скоры"
   ]
  },
  {
   "cell_type": "markdown",
   "metadata": {
    "id": "UJxdd9Zku-cV"
   },
   "source": [
    "Вот у нас модель Lasso"
   ]
  },
  {
   "cell_type": "code",
   "execution_count": 29,
   "metadata": {
    "id": "1S7NAkkCu-cV"
   },
   "outputs": [
    {
     "name": "stdout",
     "output_type": "stream",
     "text": [
      "R^2: -16.53357874248401\n",
      "MSE: 2.0626952011690713\n"
     ]
    }
   ],
   "source": [
    "from sklearn.linear_model import Lasso\n",
    "ls = Lasso(alpha=0.1)\n",
    "ls.fit(X_train, y_train)\n",
    "\n",
    "print_metrics(ls.predict(X_test), y_test)"
   ]
  },
  {
   "cell_type": "code",
   "execution_count": 30,
   "metadata": {},
   "outputs": [
    {
     "data": {
      "text/plain": [
       "GridSearchCV(cv=5, estimator=Lasso(alpha=0.1),\n",
       "             param_grid=[{'alpha': range(100, 500, 20)}],\n",
       "             scoring=make_scorer(mean_squared_error, greater_is_better=False))"
      ]
     },
     "execution_count": 30,
     "metadata": {},
     "output_type": "execute_result"
    }
   ],
   "source": [
    "GSCV = GridSearchCV(Lasso(alpha=0.1), \n",
    "                        [{'alpha': range(100, 500, 20)}],\n",
    "                        cv=5,\n",
    "                        scoring=make_scorer(mean_squared_error, greater_is_better=False)) \n",
    "\n",
    "GSCV.fit(X_train, y_train)"
   ]
  },
  {
   "cell_type": "markdown",
   "metadata": {},
   "source": [
    "Давайте сравним с KNeighbors:"
   ]
  },
  {
   "cell_type": "code",
   "execution_count": 31,
   "metadata": {},
   "outputs": [
    {
     "data": {
      "text/plain": [
       "GridSearchCV(cv=5, estimator=KNeighborsRegressor(),\n",
       "             param_grid=[{'n_neighbors': range(100, 300, 20)}],\n",
       "             scoring=make_scorer(mean_squared_error, greater_is_better=False))"
      ]
     },
     "execution_count": 31,
     "metadata": {},
     "output_type": "execute_result"
    }
   ],
   "source": [
    "GSCV = GridSearchCV(KNeighborsRegressor(), \n",
    "                        [{'n_neighbors': range(100, 300, 20)}],\n",
    "                        cv=5,\n",
    "                        scoring=make_scorer(mean_squared_error, greater_is_better=False))\n",
    "\n",
    "GSCV.fit(X_train, y_train)"
   ]
  },
  {
   "cell_type": "code",
   "execution_count": 32,
   "metadata": {},
   "outputs": [
    {
     "name": "stdout",
     "output_type": "stream",
     "text": [
      "{'n_neighbors': 120}\n",
      "-1.980121840215768\n"
     ]
    }
   ],
   "source": [
    "print(GSCV.best_params_)\n",
    "print(GSCV.best_score_)"
   ]
  },
  {
   "cell_type": "markdown",
   "metadata": {},
   "source": [
    "Как видно, KNeighbors куда эффективнее, чем Lasso.\n",
    "Теперь перейдём к Gradient Tree Boosting (Regression)"
   ]
  },
  {
   "cell_type": "code",
   "execution_count": 33,
   "metadata": {},
   "outputs": [
    {
     "name": "stdout",
     "output_type": "stream",
     "text": [
      "R^2: 0.778589669266641\n",
      "MSE: 0.3897732076083781\n"
     ]
    }
   ],
   "source": [
    "from sklearn.ensemble import GradientBoostingRegressor\n",
    "gbr = GradientBoostingRegressor(n_estimators=100, learning_rate=0.1, max_depth=1, random_state=0)\n",
    "gbr.fit(X_train, y_train)\n",
    "\n",
    "print_metrics(gbr.predict(X_test), y_test)"
   ]
  },
  {
   "cell_type": "code",
   "execution_count": 34,
   "metadata": {},
   "outputs": [
    {
     "data": {
      "text/plain": [
       "GridSearchCV(cv=5,\n",
       "             estimator=GradientBoostingRegressor(max_depth=1, random_state=0),\n",
       "             param_grid=[{'n_estimators': range(100, 500, 20)}],\n",
       "             scoring=make_scorer(mean_squared_error, greater_is_better=False))"
      ]
     },
     "execution_count": 34,
     "metadata": {},
     "output_type": "execute_result"
    }
   ],
   "source": [
    "GSCV = GridSearchCV(GradientBoostingRegressor(n_estimators=100, learning_rate=0.1, max_depth=1, random_state=0), \n",
    "                        [{'n_estimators': range(100, 500, 20)}],\n",
    "                        cv=5,\n",
    "                        scoring=make_scorer(mean_squared_error, greater_is_better=False))\n",
    "\n",
    "GSCV.fit(X_train, y_train)"
   ]
  },
  {
   "cell_type": "code",
   "execution_count": 35,
   "metadata": {},
   "outputs": [
    {
     "name": "stdout",
     "output_type": "stream",
     "text": [
      "{'n_estimators': 480}\n",
      "-0.38964895412157446\n"
     ]
    }
   ],
   "source": [
    "print(GSCV.best_params_)\n",
    "print(GSCV.best_score_)"
   ]
  },
  {
   "cell_type": "markdown",
   "metadata": {},
   "source": [
    "И у нас абсолютный победитель - Gradient Tree Boosting (Regression), лучший результат среди остальных!"
   ]
  },
  {
   "cell_type": "markdown",
   "metadata": {},
   "source": [
    "# На этом всё, спасибо за внимание!"
   ]
  }
 ],
 "metadata": {
  "colab": {
   "collapsed_sections": [],
   "name": "3.ipynb\"",
   "provenance": [
    {
     "file_id": "1z7G6bt397LXy34pf8huNmZ1Ft682Gy5e",
     "timestamp": 1632217335294
    }
   ]
  },
  "hide_input": false,
  "kernelspec": {
   "display_name": "Python 3",
   "language": "python",
   "name": "python3"
  },
  "language_info": {
   "codemirror_mode": {
    "name": "ipython",
    "version": 3
   },
   "file_extension": ".py",
   "mimetype": "text/x-python",
   "name": "python",
   "nbconvert_exporter": "python",
   "pygments_lexer": "ipython3",
   "version": "3.8.8"
  },
  "varInspector": {
   "cols": {
    "lenName": 16,
    "lenType": 16,
    "lenVar": 40
   },
   "kernels_config": {
    "python": {
     "delete_cmd_postfix": "",
     "delete_cmd_prefix": "del ",
     "library": "var_list.py",
     "varRefreshCmd": "print(var_dic_list())"
    },
    "r": {
     "delete_cmd_postfix": ") ",
     "delete_cmd_prefix": "rm(",
     "library": "var_list.r",
     "varRefreshCmd": "cat(var_dic_list()) "
    }
   },
   "types_to_exclude": [
    "module",
    "function",
    "builtin_function_or_method",
    "instance",
    "_Feature"
   ],
   "window_display": false
  }
 },
 "nbformat": 4,
 "nbformat_minor": 4
}
